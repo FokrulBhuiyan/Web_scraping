{
  "nbformat": 4,
  "nbformat_minor": 0,
  "metadata": {
    "colab": {
      "name": "3Blue1Brown youtube p-8(colab version).ipynb",
      "provenance": [],
      "collapsed_sections": []
    },
    "kernelspec": {
      "display_name": "Python 3",
      "language": "python",
      "name": "python3"
    },
    "language_info": {
      "codemirror_mode": {
        "name": "ipython",
        "version": 3
      },
      "file_extension": ".py",
      "mimetype": "text/x-python",
      "name": "python",
      "nbconvert_exporter": "python",
      "pygments_lexer": "ipython3",
      "version": "3.8.10"
    },
    "metadata": {
      "interpreter": {
        "hash": "85c42fb3a982f881ff6e5aa99b62e08cc26018422bf1cda6ea09086b049f3583"
      }
    }
  },
  "cells": [
    {
      "cell_type": "markdown",
      "metadata": {
        "id": "wJfCqMjoDxfa"
      },
      "source": [
        "# 3Blue1Brown youtube channel\n",
        "- get title, tags, date published, watch url, view count"
      ]
    },
    {
      "cell_type": "markdown",
      "metadata": {
        "id": "yfC38nt4DxdG"
      },
      "source": [
        "## Page load with lib\n",
        "- use `selenium` for dinamic load\n",
        "- Use `Bs4` for webpage Process\n",
        "- Collect the info\n",
        "- Create the func\n",
        "- Create `CSV` with that info"
      ]
    },
    {
      "cell_type": "markdown",
      "metadata": {
        "id": "53b0TAPre6nb"
      },
      "source": [
        "## Packages\n",
        "- install `kora` before using `selenium`\n",
        "- install `selenium` for multipage load"
      ]
    },
    {
      "cell_type": "code",
      "metadata": {
        "colab": {
          "base_uri": "https://localhost:8080/"
        },
        "id": "lw9-_TYEFCfE",
        "outputId": "7d3da0f5-0f12-444f-f942-638db6c6be7a"
      },
      "source": [
        "!pip install selenium"
      ],
      "execution_count": null,
      "outputs": [
        {
          "output_type": "stream",
          "text": [
            "Collecting selenium\n",
            "\u001b[?25l  Downloading https://files.pythonhosted.org/packages/80/d6/4294f0b4bce4de0abf13e17190289f9d0613b0a44e5dd6a7f5ca98459853/selenium-3.141.0-py2.py3-none-any.whl (904kB)\n",
            "\u001b[K     |████████████████████████████████| 911kB 6.4MB/s \n",
            "\u001b[?25hRequirement already satisfied: urllib3 in /usr/local/lib/python3.7/dist-packages (from selenium) (1.24.3)\n",
            "Installing collected packages: selenium\n",
            "Successfully installed selenium-3.141.0\n"
          ],
          "name": "stdout"
        }
      ]
    },
    {
      "cell_type": "code",
      "metadata": {
        "id": "HH7cf-vVEzwR"
      },
      "source": [
        "# !pip install webdriver-manager"
      ],
      "execution_count": null,
      "outputs": []
    },
    {
      "cell_type": "code",
      "metadata": {
        "colab": {
          "base_uri": "https://localhost:8080/"
        },
        "id": "xrzVRxtMfPdj",
        "outputId": "53a0cdcf-e3ee-41d0-dbef-0642aeda9b45"
      },
      "source": [
        "!pip install kora -q"
      ],
      "execution_count": null,
      "outputs": [
        {
          "output_type": "stream",
          "text": [
            "\u001b[K     |████████████████████████████████| 61kB 3.2MB/s \n",
            "\u001b[K     |████████████████████████████████| 61kB 4.7MB/s \n",
            "\u001b[?25h"
          ],
          "name": "stdout"
        }
      ]
    },
    {
      "cell_type": "code",
      "metadata": {
        "id": "BvqhP0dsEy1_"
      },
      "source": [
        "from kora.selenium import wd\n",
        "from selenium.webdriver.common.keys import Keys\n",
        "import time\n",
        "from bs4 import BeautifulSoup"
      ],
      "execution_count": null,
      "outputs": []
    },
    {
      "cell_type": "code",
      "metadata": {
        "id": "jlnxkVUhe6nd"
      },
      "source": [
        "import pandas as pd\n",
        "import datetime"
      ],
      "execution_count": null,
      "outputs": []
    },
    {
      "cell_type": "code",
      "metadata": {
        "id": "wPUWalope6nd"
      },
      "source": [
        "from selenium.webdriver.support.ui import WebDriverWait\n",
        "from selenium.webdriver.support import expected_conditions as EC\n",
        "from selenium.common.exceptions import TimeoutException\n",
        "from selenium.webdriver.common.by import By"
      ],
      "execution_count": null,
      "outputs": []
    },
    {
      "cell_type": "markdown",
      "metadata": {
        "id": "dBwvaGz8e6nd"
      },
      "source": [
        "## Chrome driver\n",
        "- for loading page\n",
        "- get the whole html doc"
      ]
    },
    {
      "cell_type": "code",
      "metadata": {
        "id": "NVa2Q0vPEyzE"
      },
      "source": [
        "# wd = webdriver.Chrome(ChromeDriverManager().install())\n",
        "wd.get('https://www.youtube.com/c/3blue1brown/videos')"
      ],
      "execution_count": null,
      "outputs": []
    },
    {
      "cell_type": "code",
      "metadata": {
        "id": "16-SpOzmEyrE"
      },
      "source": [
        "for _ in range(5):\n",
        "    wd.find_element_by_tag_name('body').send_keys(Keys.END)\n",
        "    time.sleep(3)"
      ],
      "execution_count": null,
      "outputs": []
    },
    {
      "cell_type": "markdown",
      "metadata": {
        "id": "-bjZkJsre6ne"
      },
      "source": [
        "## Use `BeautifulSoup`\n",
        "- scrape the html doc\n",
        "- get the needed data"
      ]
    },
    {
      "cell_type": "code",
      "metadata": {
        "id": "wnbMDgzSEyoV"
      },
      "source": [
        "html_doc = wd.page_source\n",
        "soup = BeautifulSoup(html_doc, 'html.parser')"
      ],
      "execution_count": null,
      "outputs": []
    },
    {
      "cell_type": "code",
      "metadata": {
        "id": "KAughjRCEyiw"
      },
      "source": [
        "videos_tag = soup.find_all('div',{\"id\":\"dismissible\"})"
      ],
      "execution_count": null,
      "outputs": []
    },
    {
      "cell_type": "markdown",
      "metadata": {
        "id": "ro562JM0e6nf"
      },
      "source": [
        "## store the data\n",
        "- create a dict\n",
        "- store title, views, uploaded days, url\n",
        "- from `url`\n",
        "- - get the release date "
      ]
    },
    {
      "cell_type": "code",
      "metadata": {
        "id": "UpF6JVU0Eygj",
        "tags": []
      },
      "source": [
        "video_dict = {\n",
        "    'title':[],\n",
        "    'views': [],\n",
        "    'uploaded_days':[],\n",
        "    'url': [],\n",
        "}\n",
        "for video in videos_tag:\n",
        "    title_tag = video.find('a',{'id':\"video-title\"})\n",
        "    title = title_tag['title']\n",
        "    url = ('https://www.youtube.com'+title_tag['href']).strip()\n",
        "    views_days = video.find('div',{'id':\"metadata-line\"}).find_all('span')\n",
        "    views = views_days[0].text\n",
        "    uploaded_days = views_days[1].text\n",
        "    video_dict['title'].append(title)\n",
        "    video_dict['url'].append(url)\n",
        "    video_dict['views'].append(views)\n",
        "    video_dict['uploaded_days'].append(uploaded_days)"
      ],
      "execution_count": null,
      "outputs": []
    },
    {
      "cell_type": "code",
      "metadata": {
        "id": "jp2hnvvIe6ng"
      },
      "source": [
        "videos_df = pd.DataFrame(video_dict)"
      ],
      "execution_count": null,
      "outputs": []
    },
    {
      "cell_type": "markdown",
      "metadata": {
        "id": "J154zi0Ae6ng"
      },
      "source": [
        "func for convert views in number data"
      ]
    },
    {
      "cell_type": "code",
      "metadata": {
        "id": "I8AiOj0Te6ng"
      },
      "source": [
        "# def convert_views(df):\n",
        "#     if 'K' in df['views']:\n",
        "#         views = float(df['views'].split('K')[0])*1000\n",
        "#         return views\n",
        "#     elif 'M' in df['views']:\n",
        "#         views = float(df['views'].split('M')[0])*1000000\n",
        "#         return views\n"
      ],
      "execution_count": null,
      "outputs": []
    },
    {
      "cell_type": "code",
      "metadata": {
        "id": "qYDmJfUDe6nh"
      },
      "source": [
        "# videos_df['row_views'] = videos_df.apply(convert_views, axis=1)\n",
        "# videos_df['row_views'] = videos_df['row_views'].astype(int)"
      ],
      "execution_count": null,
      "outputs": []
    },
    {
      "cell_type": "markdown",
      "metadata": {
        "id": "h3kpZG__e6nh"
      },
      "source": [
        "collect views and release date from each url"
      ]
    },
    {
      "cell_type": "code",
      "metadata": {
        "tags": [],
        "id": "cT9AAj3-e6nh"
      },
      "source": [
        "# driver = webdriver.Chrome(ChromeDriverManager().install())\n",
        "views_list = []\n",
        "date_list = []\n",
        "\n",
        "for url in videos_df['url']:\n",
        "    wd.get(url)\n",
        "    WebDriverWait(wd,10).until(EC.presence_of_element_located((By.ID, 'info-text')))\n",
        "    try:\n",
        "        html_doc = wd.page_source\n",
        "        soup = BeautifulSoup(html_doc, 'html.parser')\n",
        "        views = int(soup.find('span',{'class':'view-count'}).text.split()[0].replace(',',''))\n",
        "        release_date = soup.find('div', {'id': 'date'}).find('yt-formatted-string').text.replace(',','')\n",
        "        if 'Streamed' in release_date:\n",
        "            release_date = release_date.split('on ')[1]\n",
        "        elif 'Premiered' in release_date:\n",
        "            release_date = release_date.split('Premiered ')[1]\n",
        "        release_date = datetime.datetime.strptime(release_date,'%b %d %Y').strftime('%Y-%m-%d')\n",
        "        views_list.append(views)\n",
        "        date_list.append(release_date)\n",
        "    except TimeoutException:\n",
        "        print(\"Loading took too much time!\")\n",
        "    break\n",
        "wd.close()"
      ],
      "execution_count": null,
      "outputs": []
    },
    {
      "cell_type": "code",
      "metadata": {
        "colab": {
          "base_uri": "https://localhost:8080/"
        },
        "id": "NONL62E0hVBe",
        "outputId": "d5034e5e-c83b-49fb-fb16-b056bc7f3c52"
      },
      "source": [
        "views_list"
      ],
      "execution_count": null,
      "outputs": [
        {
          "output_type": "execute_result",
          "data": {
            "text/plain": [
              "[227136]"
            ]
          },
          "metadata": {
            "tags": []
          },
          "execution_count": 22
        }
      ]
    },
    {
      "cell_type": "code",
      "metadata": {
        "id": "UAW5pdB-e6nj"
      },
      "source": [
        "videos_df['row_views'] = views_list\n",
        "videos_df['release_date'] = date_list"
      ],
      "execution_count": null,
      "outputs": []
    },
    {
      "cell_type": "code",
      "metadata": {
        "id": "8WtnQSYze6nj"
      },
      "source": [
        "videos_df"
      ],
      "execution_count": null,
      "outputs": []
    },
    {
      "cell_type": "code",
      "metadata": {
        "id": "MKWkKvT0e6nk"
      },
      "source": [
        "videos_df.to_csv('3Blue1Brown_youtube.csv',index=False)"
      ],
      "execution_count": null,
      "outputs": []
    },
    {
      "cell_type": "code",
      "metadata": {
        "id": "yYmGNM8Ie6nk"
      },
      "source": [
        "# driver = webdriver.Chrome(ChromeDriverManager().install())\n",
        "# driver.get('https://www.youtube.com/watch?v=Agbh95KyWxY')\n"
      ],
      "execution_count": null,
      "outputs": []
    },
    {
      "cell_type": "code",
      "metadata": {
        "id": "WKPGut7ne6nk"
      },
      "source": [
        "# html_doc = driver.page_source\n",
        "# soup = BeautifulSoup(html_doc, 'html.parser')\n",
        "# views = int(soup.find('span',{'class':'view-count'}).text.split()[0].replace(',',''))\n",
        "# release_date = soup.find('div', {'id': 'date'}).find('yt-formatted-string').text.replace(',','')\n",
        "# if 'Streamed' in release_date:\n",
        "#     release_date = release_date.split('on ')[1]\n",
        "# elif 'Premiered' in release_date:\n",
        "#     release_date = release_date.split('Premiered ')[1]\n",
        "# release_date = datetime.datetime.strptime(release_date,'%b %d %Y').strftime('%Y-%m-%d')\n",
        "# print(release_date)"
      ],
      "execution_count": null,
      "outputs": []
    },
    {
      "cell_type": "code",
      "metadata": {
        "id": "K7FSXG1Ne6nk"
      },
      "source": [
        ""
      ],
      "execution_count": null,
      "outputs": []
    },
    {
      "cell_type": "code",
      "metadata": {
        "id": "EihgOriVe6nl"
      },
      "source": [
        ""
      ],
      "execution_count": null,
      "outputs": []
    },
    {
      "cell_type": "code",
      "metadata": {
        "id": "Jg51J1rAe6nl"
      },
      "source": [
        ""
      ],
      "execution_count": null,
      "outputs": []
    },
    {
      "cell_type": "code",
      "metadata": {
        "id": "LKObxAa1e6nl"
      },
      "source": [
        ""
      ],
      "execution_count": null,
      "outputs": []
    },
    {
      "cell_type": "code",
      "metadata": {
        "id": "VRu06Yhie6nl"
      },
      "source": [
        ""
      ],
      "execution_count": null,
      "outputs": []
    },
    {
      "cell_type": "code",
      "metadata": {
        "id": "X6oglS-he6nl"
      },
      "source": [
        ""
      ],
      "execution_count": null,
      "outputs": []
    }
  ]
}