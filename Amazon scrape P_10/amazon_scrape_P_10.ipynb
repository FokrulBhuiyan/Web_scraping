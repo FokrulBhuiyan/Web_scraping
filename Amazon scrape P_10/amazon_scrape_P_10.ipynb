{
 "cells": [
  {
   "cell_type": "markdown",
   "metadata": {
    "id": "Tq-fMvORx6jn"
   },
   "source": [
    "## Scraping Amazon Products\n",
    "- source url - https://www.amazon.com/\n",
    "- get desc, price, rating, review count, url"
   ]
  },
  {
   "cell_type": "markdown",
   "metadata": {
    "id": "oJC231x7x6c6"
   },
   "source": [
    "## Page load with lib\n",
    "- get the page with `selenium`\n",
    "- Use `Bs4` for webpage Process\n",
    "- Collect the info\n",
    "- Create the func\n",
    "- Create `CSV` with that info"
   ]
  },
  {
   "cell_type": "markdown",
   "metadata": {
    "id": "etF8IHZ62PtW"
   },
   "source": [
    "## Packages\n",
    "- install `selenium` for multipage load\n",
    "- `webdriver-manager` for browser open"
   ]
  },
  {
   "cell_type": "code",
   "execution_count": 1,
   "metadata": {
    "colab": {
     "base_uri": "https://localhost:8080/"
    },
    "id": "ylXP38vS20le",
    "outputId": "3ab1149f-559d-4ff5-86cd-e16af74428f1"
   },
   "outputs": [
    {
     "name": "stdout",
     "output_type": "stream",
     "text": [
      "Requirement already satisfied: selenium in c:\\anaconda3\\envs\\scraping\\lib\\site-packages (3.141.0)\n",
      "Requirement already satisfied: urllib3 in c:\\anaconda3\\envs\\scraping\\lib\\site-packages (from selenium) (1.26.4)\n"
     ]
    }
   ],
   "source": [
    "!pip install selenium"
   ]
  },
  {
   "cell_type": "code",
   "execution_count": 2,
   "metadata": {},
   "outputs": [
    {
     "name": "stdout",
     "output_type": "stream",
     "text": [
      "Requirement already satisfied: webdriver-manager in c:\\anaconda3\\envs\\scraping\\lib\\site-packages (3.4.2)\n",
      "Requirement already satisfied: configparser in c:\\anaconda3\\envs\\scraping\\lib\\site-packages (from webdriver-manager) (5.0.2)\n",
      "Requirement already satisfied: crayons in c:\\anaconda3\\envs\\scraping\\lib\\site-packages (from webdriver-manager) (0.4.0)\n",
      "Requirement already satisfied: requests in c:\\anaconda3\\envs\\scraping\\lib\\site-packages (from webdriver-manager) (2.25.1)\n",
      "Requirement already satisfied: colorama in c:\\anaconda3\\envs\\scraping\\lib\\site-packages (from crayons->webdriver-manager) (0.4.4)\n",
      "Requirement already satisfied: idna<3,>=2.5 in c:\\anaconda3\\envs\\scraping\\lib\\site-packages (from requests->webdriver-manager) (2.10)\n",
      "Requirement already satisfied: urllib3<1.27,>=1.21.1 in c:\\anaconda3\\envs\\scraping\\lib\\site-packages (from requests->webdriver-manager) (1.26.4)\n",
      "Requirement already satisfied: chardet<5,>=3.0.2 in c:\\anaconda3\\envs\\scraping\\lib\\site-packages (from requests->webdriver-manager) (4.0.0)\n",
      "Requirement already satisfied: certifi>=2017.4.17 in c:\\anaconda3\\envs\\scraping\\lib\\site-packages (from requests->webdriver-manager) (2020.12.5)\n"
     ]
    }
   ],
   "source": [
    "!pip install webdriver-manager"
   ]
  },
  {
   "cell_type": "code",
   "execution_count": 3,
   "metadata": {
    "id": "B9-cLQSt1h_G"
   },
   "outputs": [],
   "source": [
    "import csv\n",
    "from selenium import webdriver\n",
    "from selenium.webdriver.common.keys import Keys\n",
    "\n",
    "from webdriver_manager.chrome import ChromeDriverManager\n",
    "\n",
    "import time\n",
    "\n",
    "from bs4 import BeautifulSoup\n"
   ]
  },
  {
   "cell_type": "code",
   "execution_count": 4,
   "metadata": {},
   "outputs": [],
   "source": [
    "import pprint\n",
    "import pandas as pd"
   ]
  },
  {
   "cell_type": "markdown",
   "metadata": {
    "id": "Hsqobubz3Inx"
   },
   "source": [
    "## startup the webdriver"
   ]
  },
  {
   "cell_type": "code",
   "execution_count": 60,
   "metadata": {
    "id": "mseX04sy1h8Y"
   },
   "outputs": [
    {
     "name": "stderr",
     "output_type": "stream",
     "text": [
      "\n",
      "\n",
      "====== WebDriver manager ======\n",
      "Current google-chrome version is 90.0.4430\n",
      "Get LATEST driver version for 90.0.4430\n",
      "Driver [C:\\Users\\Fokrul\\.wdm\\drivers\\chromedriver\\win32\\90.0.4430.24\\chromedriver.exe] found in cache\n"
     ]
    }
   ],
   "source": [
    "driver = webdriver.Chrome(ChromeDriverManager().install())\n",
    "# wd.get('https://www.amazon.com')\n",
    "# driver.get('https://www.amazon.com')"
   ]
  },
  {
   "cell_type": "code",
   "execution_count": 61,
   "metadata": {
    "id": "wSapfzLUyieB"
   },
   "outputs": [],
   "source": [
    "def get_url(search_item):\n",
    "    search_item = search_item.replace(' ','+')\n",
    "    url = f'https://www.amazon.com/s?k={search_item}&ref=nb_sb_noss'\n",
    "    return url"
   ]
  },
  {
   "cell_type": "code",
   "execution_count": 62,
   "metadata": {
    "colab": {
     "base_uri": "https://localhost:8080/",
     "height": 35
    },
    "id": "CFqIGrSlyibM",
    "outputId": "e1c96faf-7a4a-43c3-bd78-f48ab52e2276"
   },
   "outputs": [
    {
     "data": {
      "text/plain": [
       "'https://www.amazon.com/s?k=ultrawide+monitor&ref=nb_sb_noss'"
      ]
     },
     "execution_count": 62,
     "metadata": {},
     "output_type": "execute_result"
    }
   ],
   "source": [
    "url = get_url('ultrawide monitor')\n",
    "url"
   ]
  },
  {
   "cell_type": "code",
   "execution_count": 63,
   "metadata": {
    "id": "6yTYu3UsyiVa"
   },
   "outputs": [],
   "source": [
    "driver.get(url)"
   ]
  },
  {
   "cell_type": "markdown",
   "metadata": {
    "id": "mc-RY5vED9jt"
   },
   "source": [
    "## Extract the data"
   ]
  },
  {
   "cell_type": "code",
   "execution_count": 64,
   "metadata": {
    "id": "xeY-GhlpyiSZ"
   },
   "outputs": [],
   "source": [
    "html_doc = driver.page_source\n",
    "soup = BeautifulSoup(html_doc, 'html.parser')"
   ]
  },
  {
   "cell_type": "code",
   "execution_count": null,
   "metadata": {
    "id": "eD_aayi-yiP6"
   },
   "outputs": [],
   "source": []
  },
  {
   "cell_type": "code",
   "execution_count": 65,
   "metadata": {
    "id": "5oS1uagVyiMw"
   },
   "outputs": [],
   "source": [
    "grid_tag = soup.find_all('div',{'data-component-type':'s-search-result'})"
   ]
  },
  {
   "cell_type": "code",
   "execution_count": 66,
   "metadata": {
    "colab": {
     "base_uri": "https://localhost:8080/"
    },
    "id": "ul6Wq7QkyiFZ",
    "outputId": "a3ccf72b-330e-4ae5-9e4f-20dab44aefe0"
   },
   "outputs": [
    {
     "data": {
      "text/plain": [
       "'/gp/slredirect/picassoRedirect.html/ref=pa_sp_atf_aps_sr_pg1_1?ie=UTF8&adId=A066252019179VUOT3LTC&url=%2FSamsung-CJ791-Thunderbolt-Curved-Monitor%2Fdp%2FB07CS3JB5K%2Fref%3Dsr_1_1_sspa%3Fdchild%3D1%26keywords%3Dultrawide%2Bmonitor%26qid%3D1621791787%26sr%3D8-1-spons%26psc%3D1&qualifier=1621791787&id=3168564265854690&widgetName=sp_atf'"
      ]
     },
     "execution_count": 66,
     "metadata": {},
     "output_type": "execute_result"
    }
   ],
   "source": [
    "grid_tag[0].find('a',{'class':\"a-link-normal\"})['href']"
   ]
  },
  {
   "cell_type": "markdown",
   "metadata": {},
   "source": [
    "## prototype the record"
   ]
  },
  {
   "cell_type": "code",
   "execution_count": 67,
   "metadata": {
    "colab": {
     "base_uri": "https://localhost:8080/",
     "height": 35
    },
    "id": "mUrMTIaOyiKS",
    "outputId": "5482bbd1-c35d-427a-d2a5-ffc2a562ffd9"
   },
   "outputs": [
    {
     "data": {
      "text/plain": [
       "0     SAMSUNG LC34J791WTNXZA 34-Inch CJ791 Ultrawide...\n",
       "1     LG 34WK650-W 34\" UltraWide 21:9 IPS Monitor wi...\n",
       "2     LG 29WN600-W 29\" 21:9 UltraWide WFHD IPS HDR10...\n",
       "3     LG 34WN80C-B 34 inch 21:9 Curved UltraWide WQH...\n",
       "4     Sceptre 35 Inch Curved UltraWide 21: 9 LED Cre...\n",
       "5     Gigabyte G34WQC 34\" 144Hz Ultra-Wide Curved Ga...\n",
       "6     AOC CU34G2X 34\" Curved Frameless Immersive Gam...\n",
       "7     SAMSUNG 34-Inch SJ55W Ultrawide Gaming Monitor...\n",
       "8     SAMSUNG 34-Inch Odyssey G5 Ultra-Wide Gaming M...\n",
       "9     Acer Nitro XZ342CK Pbmiiphx 34\" 1500R Curved W...\n",
       "10    Sceptre IPS 27-Inch Business Computer Monitor ...\n",
       "11    LG 29WP60G-B 29 Inch 21:9 UltraWide Full HD (2...\n",
       "12    SAMSUNG LC34J791WTNXZA 34-Inch CJ791 Ultrawide...\n",
       "13    LG 49WL95C-WE 49 Inch 32:9 Curved DQHD (5120 x...\n",
       "14    LG 34GP83A-B 34 Inch 21: 9 UltraGear Curved QH...\n",
       "15    LG 32UD60-B 4K UHD FreeSync Monitor with Heigh...\n",
       "16    Philips 343E2E 34\" Frameless IPS Monitor, Ultr...\n",
       "17    LG 34WK650-W 34\" UltraWide 21:9 IPS Monitor wi...\n",
       "18    LG 25UM58-P 25'' UltraWide 21:9 IPS Full HD Mo...\n",
       "19    Samsung Business CH890 Series 34 inch WQHD 344...\n",
       "20    Lenovo G34w-10 34-Inch WQHD Curved Gaming Moni...\n",
       "21    ViewSonic VG3448 34 Inch Ultra-Wide 21:9 WQHD ...\n",
       "dtype: object"
      ]
     },
     "execution_count": 67,
     "metadata": {},
     "output_type": "execute_result"
    }
   ],
   "source": [
    "titles = [grid.h2.a.text for grid in grid_tag]\n",
    "pd.Series(titles)"
   ]
  },
  {
   "cell_type": "code",
   "execution_count": 68,
   "metadata": {
    "id": "1J04GnsAxa6b",
    "scrolled": true
   },
   "outputs": [
    {
     "data": {
      "text/plain": [
       "0     4.5\n",
       "1     4.7\n",
       "2     4.6\n",
       "3     4.7\n",
       "4     4.6\n",
       "5     4.6\n",
       "6     4.7\n",
       "7     4.5\n",
       "8     4.5\n",
       "9     4.5\n",
       "10    4.6\n",
       "11    4.6\n",
       "12    4.5\n",
       "13    4.4\n",
       "14    4.7\n",
       "15    4.5\n",
       "16    4.6\n",
       "17    4.7\n",
       "18    4.5\n",
       "19    4.5\n",
       "20    4.3\n",
       "21    4.7\n",
       "dtype: object"
      ]
     },
     "execution_count": 68,
     "metadata": {},
     "output_type": "execute_result"
    }
   ],
   "source": [
    "rating = [grid.find('span',{'class':'a-icon-alt'}).text.split(' out')[0] for grid in grid_tag]\n",
    "pd.Series(rating)"
   ]
  },
  {
   "cell_type": "code",
   "execution_count": 69,
   "metadata": {
    "scrolled": true
   },
   "outputs": [
    {
     "data": {
      "text/plain": [
       "0     1,024\n",
       "1     1,023\n",
       "2     1,721\n",
       "3     2,408\n",
       "4     2,196\n",
       "5     2,283\n",
       "6     8,673\n",
       "7       607\n",
       "8     3,051\n",
       "9       904\n",
       "10    1,937\n",
       "11    1,141\n",
       "12    1,024\n",
       "13      479\n",
       "14      608\n",
       "15      456\n",
       "16    8,512\n",
       "17    1,023\n",
       "18    3,768\n",
       "19      578\n",
       "20       78\n",
       "21    1,219\n",
       "dtype: object"
      ]
     },
     "execution_count": 69,
     "metadata": {},
     "output_type": "execute_result"
    }
   ],
   "source": [
    "review_count = [grid.find('span',{'class':'a-size-base'}).text for grid in grid_tag]\n",
    "pd.Series(review_count)"
   ]
  },
  {
   "cell_type": "code",
   "execution_count": 70,
   "metadata": {
    "scrolled": true
   },
   "outputs": [
    {
     "data": {
      "text/plain": [
       "0       699.00\n",
       "1       399.99\n",
       "2       226.99\n",
       "3       549.99\n",
       "4       391.09\n",
       "5       399.99\n",
       "6       449.99\n",
       "7       369.99\n",
       "8       599.99\n",
       "9       449.92\n",
       "10      149.19\n",
       "11      226.99\n",
       "12      699.00\n",
       "13    1,496.99\n",
       "14      799.99\n",
       "15      349.99\n",
       "16      319.99\n",
       "17      399.99\n",
       "18      178.99\n",
       "19      572.32\n",
       "20      413.99\n",
       "21      499.99\n",
       "dtype: object"
      ]
     },
     "execution_count": 70,
     "metadata": {},
     "output_type": "execute_result"
    }
   ],
   "source": [
    "price = [grid.find('span',{'class':\"a-offscreen\"}).text.replace('$','') for grid in grid_tag]\n",
    "pd.Series(price)"
   ]
  },
  {
   "cell_type": "code",
   "execution_count": 71,
   "metadata": {
    "scrolled": true
   },
   "outputs": [
    {
     "data": {
      "text/plain": [
       "['https://www.amazon.com/gp/slredirect/picassoRedirect.html/ref=pa_sp_atf_aps_sr_pg1_1?ie=UTF8&adId=A066252019179VUOT3LTC&url=%2FSamsung-CJ791-Thunderbolt-Curved-Monitor%2Fdp%2FB07CS3JB5K%2Fref%3Dsr_1_1_sspa%3Fdchild%3D1%26keywords%3Dultrawide%2Bmonitor%26qid%3D1621791787%26sr%3D8-1-spons%26psc%3D1&qualifier=1621791787&id=3168564265854690&widgetName=sp_atf',\n",
       " 'https://www.amazon.com/gp/slredirect/picassoRedirect.html/ref=pa_sp_atf_aps_sr_pg1_1?ie=UTF8&adId=A102645020ZZO08BEH16G&url=%2FLG-34WK650-W-34-UltraWide-21%2Fdp%2FB078GSH1LV%2Fref%3Dsr_1_2_sspa%3Fdchild%3D1%26keywords%3Dultrawide%2Bmonitor%26qid%3D1621791787%26sr%3D8-2-spons%26psc%3D1&qualifier=1621791787&id=3168564265854690&widgetName=sp_atf',\n",
       " 'https://www.amazon.com/LG-29WN600-W-29-21-UltraWide/dp/B0876DBCBX/ref=ice_ac_b_dpb?dchild=1&keywords=ultrawide+monitor&qid=1621791787&sr=8-3',\n",
       " 'https://www.amazon.com/LG-34WN80C-B-inch-Connectivity-Compatibility/dp/B07YGZ7C1K/ref=sr_1_4?dchild=1&keywords=ultrawide+monitor&qid=1621791787&sr=8-4',\n",
       " 'https://www.amazon.com/Sceptre-C355W-3440UN-Super-Curved-Ultrawide/dp/B0812DKDD9/ref=sr_1_5?dchild=1&keywords=ultrawide+monitor&qid=1621791787&sr=8-5',\n",
       " 'https://www.amazon.com/Gigabyte-Ultra-Wide-Response-FreeSync-G34WQC-SA/dp/B08GFN64F2/ref=sr_1_6?dchild=1&keywords=ultrawide+monitor&qid=1621791787&sr=8-6',\n",
       " 'https://www.amazon.com/AOC-CU34G2X-Frameless-Immersive-Adjustable/dp/B07ZB2TNZZ/ref=sr_1_7?dchild=1&keywords=ultrawide+monitor&qid=1621791787&sr=8-7',\n",
       " 'https://www.amazon.com/Samsung-S34J55W-34-Inch-Ultrawide-LS34J550WQNXZA/dp/B07FBS36W2/ref=sr_1_8?dchild=1&keywords=ultrawide+monitor&qid=1621791787&sr=8-8',\n",
       " 'https://www.amazon.com/SAMSUNG-34-Inch-Ultra-Wide-FreeSync-LC34G55TWWNXZA/dp/B08MVBYWGQ/ref=sr_1_9?dchild=1&keywords=ultrawide+monitor&qid=1621791787&sr=8-9',\n",
       " 'https://www.amazon.com/Acer-XZ342CK-Pbmiiphx-Certified-DisplayHDR400/dp/B08BW3XS12/ref=sr_1_10?dchild=1&keywords=ultrawide+monitor&qid=1621791787&sr=8-10',\n",
       " 'https://www.amazon.com/gp/slredirect/picassoRedirect.html/ref=pa_sp_mtf_aps_sr_pg1_1?ie=UTF8&adId=A07621481SJQSXKZFPOYW&url=%2FSceptre-Business-Computer-Speakers-e275W-FPT%2Fdp%2FB089BTLL9K%2Fref%3Dsr_1_11_sspa%3Fdchild%3D1%26keywords%3Dultrawide%2Bmonitor%26qid%3D1621791787%26sr%3D8-11-spons%26psc%3D1&qualifier=1621791787&id=3168564265854690&widgetName=sp_mtf',\n",
       " 'https://www.amazon.com/LG-29WP60G-B-Inch-Connectivity-Borderless/dp/B08V86LGBS/ref=sr_1_12?dchild=1&keywords=ultrawide+monitor&qid=1621791787&sr=8-12',\n",
       " 'https://www.amazon.com/Samsung-CJ791-Thunderbolt-Curved-Monitor/dp/B07CS3JB5K/ref=sr_1_13?dchild=1&keywords=ultrawide+monitor&qid=1621791787&sr=8-13',\n",
       " 'https://www.amazon.com/LG-49WL95C-WE-Inch-UltraWide-Borderless/dp/B08TTWTCML/ref=sr_1_14?dchild=1&keywords=ultrawide+monitor&qid=1621791787&sr=8-14',\n",
       " 'https://www.amazon.com/LG-34GP83A-B-Inch-Ultragear-Compatibility/dp/B08DWD38VX/ref=sr_1_15?dchild=1&keywords=ultrawide+monitor&qid=1621791787&sr=8-15',\n",
       " 'https://www.amazon.com/gp/slredirect/picassoRedirect.html/ref=pa_sp_mtf_aps_sr_pg1_1?ie=UTF8&adId=A01137602RMCOW4MYR0R2&url=%2FLG-32UD60-B-UHD-Monitor-FreeSync%2Fdp%2FB079H5Z4S8%2Fref%3Dsr_1_16_sspa%3Fdchild%3D1%26keywords%3Dultrawide%2Bmonitor%26qid%3D1621791787%26sr%3D8-16-spons%26psc%3D1&qualifier=1621791787&id=3168564265854690&widgetName=sp_mtf',\n",
       " 'https://www.amazon.com/Philips-343E2E-Frameless-Adjustable-Replacement/dp/B08KFM88N2/ref=sr_1_17?dchild=1&keywords=ultrawide+monitor&qid=1621791787&sr=8-17',\n",
       " 'https://www.amazon.com/LG-34WK650-W-34-UltraWide-21/dp/B078GSH1LV/ref=sr_1_18?dchild=1&keywords=ultrawide+monitor&qid=1621791787&sr=8-18',\n",
       " 'https://www.amazon.com/LG-25UM58-P-25-Inch-21-UltraWide/dp/B01BV1XB2K/ref=sr_1_19?dchild=1&keywords=ultrawide+monitor&qid=1621791787&sr=8-19',\n",
       " 'https://www.amazon.com/Samsung-Business-3440x1440-Ultrawide-LC34H890WGNXGO/dp/B08623SZH9/ref=sr_1_20?dchild=1&keywords=ultrawide+monitor&qid=1621791787&sr=8-20',\n",
       " 'https://www.amazon.com/gp/slredirect/picassoRedirect.html/ref=pa_sp_btf_aps_sr_pg1_1?ie=UTF8&adId=A01469583JZSMOW3XCVVU&url=%2FLenovo-G34w-10-34-Inch-Curved-Monitor%2Fdp%2FB084R2XYM9%2Fref%3Dsr_1_21_sspa%3Fdchild%3D1%26keywords%3Dultrawide%2Bmonitor%26qid%3D1621791787%26sr%3D8-21-spons%26psc%3D1&qualifier=1621791787&id=3168564265854690&widgetName=sp_btf',\n",
       " 'https://www.amazon.com/gp/slredirect/picassoRedirect.html/ref=pa_sp_btf_aps_sr_pg1_1?ie=UTF8&adId=A002485515T5NGA2HYSCX&url=%2FViewSonic-VG3448-Inch-Ultra-Wide-DisplayPort%2Fdp%2FB07S3ZYP94%2Fref%3Dsr_1_22_sspa%3Fdchild%3D1%26keywords%3Dultrawide%2Bmonitor%26qid%3D1621791787%26sr%3D8-22-spons%26psc%3D1&qualifier=1621791787&id=3168564265854690&widgetName=sp_btf']"
      ]
     },
     "execution_count": 71,
     "metadata": {},
     "output_type": "execute_result"
    }
   ],
   "source": [
    "url = ['https://www.amazon.com'+grid.find('a',{'class':\"a-link-normal\"})['href'] for grid in grid_tag]\n",
    "url"
   ]
  },
  {
   "cell_type": "markdown",
   "metadata": {},
   "source": [
    "## func for putting all data together"
   ]
  },
  {
   "cell_type": "code",
   "execution_count": 34,
   "metadata": {},
   "outputs": [],
   "source": [
    "# from selenium.webdriver.support.ui import WebDriverWait\n",
    "# from selenium.webdriver.support import expected_conditions as EC\n",
    "from selenium.common.exceptions import TimeoutException\n",
    "# from selenium.webdriver.common.by import By"
   ]
  },
  {
   "cell_type": "code",
   "execution_count": 65,
   "metadata": {},
   "outputs": [],
   "source": [
    "def extract_data(soup):\n",
    "    grid_tag = soup.find_all('div',{'data-component-type':'s-search-result'})\n",
    "#     print(grid_tag)\n",
    "    for grid in grid_tag: \n",
    "        title = grid.h2.a.text\n",
    "        if title not in data_dict['title']:\n",
    "            try:\n",
    "                data_dict['title'].append(grid.h2.a.text)\n",
    "            except:\n",
    "                data_dict['title'].append('')\n",
    "            try:\n",
    "                data_dict['rating'] .append(grid.find('span',{'class':'a-icon-alt'}).text.split(' out')[0])\n",
    "            except:\n",
    "                data_dict['rating'].append('')\n",
    "            try:\n",
    "                data_dict['review_count'] .append(grid.find('span',{'class':'a-size-base'}).text)\n",
    "            except:\n",
    "                data_dict['review_count'].append('')\n",
    "            try:\n",
    "                data_dict['price'] .append(grid.find('span',{'class':\"a-offscreen\"}).text.replace('$',''))\n",
    "            except:\n",
    "                data_dict['price'].append('')\n",
    "            try:\n",
    "                data_dict['url'] .append('https://www.amazon.com'+grid.find('a',{'class':\"a-link-normal\"})['href'])\n",
    "            except:\n",
    "                data_dict['url'].append('')\n",
    "        else:\n",
    "            continue\n",
    "            "
   ]
  },
  {
   "cell_type": "code",
   "execution_count": 68,
   "metadata": {},
   "outputs": [],
   "source": [
    "data_dict ={\n",
    "    'title':[],\n",
    "    'rating':[],\n",
    "    'review_count':[],\n",
    "    'price':[],\n",
    "    'url':[]\n",
    "}\n",
    "def get_soup(url):\n",
    "    driver = webdriver.Chrome(ChromeDriverManager().install())\n",
    "    try:\n",
    "        driver.get(url)\n",
    "#         WebDriverWait(driver,40).until(EC.presence_of_element_located((By.ID, 'rhf')))\n",
    "        html_doc = driver.page_source\n",
    "        soup = BeautifulSoup(html_doc, 'html.parser')\n",
    "        driver.close()\n",
    "        return soup\n",
    "    except TimeoutException:\n",
    "        print(\"Loading took too much time!\")\n",
    "        driver.close()\n",
    "\n",
    "\n",
    "def scrape_data(search_item,total_page):\n",
    "    search_item = search_item.replace(' ','+')\n",
    "    url = f'https://www.amazon.com/s?k={search_item}&ref=nb_sb_noss'\n",
    "    print(url)\n",
    "    soup = get_soup(url)\n",
    "    extract_data(soup)\n",
    "    print('done page no 1')\n",
    "    next_page = 'https://www.amazon.com'+soup.find('li',{'class':'a-last'}).find('a')['href']\n",
    "    for page in range(1,total_page):\n",
    "        print(next_page)\n",
    "        soup = get_soup(next_page)\n",
    "        extract_data(soup)\n",
    "        next_page = 'https://www.amazon.com'+soup.find('li',{'class':'a-last'}).find('a')['href']\n",
    "        print('done page no ',page+1)"
   ]
  },
  {
   "cell_type": "code",
   "execution_count": 69,
   "metadata": {},
   "outputs": [
    {
     "name": "stderr",
     "output_type": "stream",
     "text": [
      "\n",
      "\n",
      "====== WebDriver manager ======\n",
      "Current google-chrome version is 90.0.4430\n",
      "Get LATEST driver version for 90.0.4430\n"
     ]
    },
    {
     "name": "stdout",
     "output_type": "stream",
     "text": [
      "https://www.amazon.com/s?k=ultrawide+monitor&ref=nb_sb_noss\n"
     ]
    },
    {
     "name": "stderr",
     "output_type": "stream",
     "text": [
      "Driver [C:\\Users\\Fokrul\\.wdm\\drivers\\chromedriver\\win32\\90.0.4430.24\\chromedriver.exe] found in cache\n",
      "\n",
      "\n",
      "====== WebDriver manager ======\n",
      "Current google-chrome version is 90.0.4430\n",
      "Get LATEST driver version for 90.0.4430\n"
     ]
    },
    {
     "name": "stdout",
     "output_type": "stream",
     "text": [
      "done page no 1\n",
      "https://www.amazon.com/s?k=ultrawide+monitor&page=2&qid=1621911912&ref=sr_pg_1\n"
     ]
    },
    {
     "name": "stderr",
     "output_type": "stream",
     "text": [
      "Driver [C:\\Users\\Fokrul\\.wdm\\drivers\\chromedriver\\win32\\90.0.4430.24\\chromedriver.exe] found in cache\n",
      "\n",
      "\n",
      "====== WebDriver manager ======\n",
      "Current google-chrome version is 90.0.4430\n",
      "Get LATEST driver version for 90.0.4430\n"
     ]
    },
    {
     "name": "stdout",
     "output_type": "stream",
     "text": [
      "done page no  2\n",
      "https://www.amazon.com/s?k=ultrawide+monitor&page=3&qid=1621911930&ref=sr_pg_2\n"
     ]
    },
    {
     "name": "stderr",
     "output_type": "stream",
     "text": [
      "Driver [C:\\Users\\Fokrul\\.wdm\\drivers\\chromedriver\\win32\\90.0.4430.24\\chromedriver.exe] found in cache\n"
     ]
    },
    {
     "name": "stdout",
     "output_type": "stream",
     "text": [
      "done page no  3\n"
     ]
    }
   ],
   "source": [
    "scrape_data('ultrawide monitor',3)"
   ]
  },
  {
   "cell_type": "code",
   "execution_count": 70,
   "metadata": {
    "scrolled": false
   },
   "outputs": [
    {
     "data": {
      "text/html": [
       "<div>\n",
       "<style scoped>\n",
       "    .dataframe tbody tr th:only-of-type {\n",
       "        vertical-align: middle;\n",
       "    }\n",
       "\n",
       "    .dataframe tbody tr th {\n",
       "        vertical-align: top;\n",
       "    }\n",
       "\n",
       "    .dataframe thead th {\n",
       "        text-align: right;\n",
       "    }\n",
       "</style>\n",
       "<table border=\"1\" class=\"dataframe\">\n",
       "  <thead>\n",
       "    <tr style=\"text-align: right;\">\n",
       "      <th></th>\n",
       "      <th>title</th>\n",
       "      <th>rating</th>\n",
       "      <th>review_count</th>\n",
       "      <th>price</th>\n",
       "      <th>url</th>\n",
       "    </tr>\n",
       "  </thead>\n",
       "  <tbody>\n",
       "    <tr>\n",
       "      <th>0</th>\n",
       "      <td>AOC CQ34G2 Super Curved Frameless Gaming Monit...</td>\n",
       "      <td>4.7</td>\n",
       "      <td>8,677</td>\n",
       "      <td>309.99</td>\n",
       "      <td>https://www.amazon.com/gp/slredirect/picassoRe...</td>\n",
       "    </tr>\n",
       "    <tr>\n",
       "      <th>1</th>\n",
       "      <td>LG 29WN600-W 29\" 21:9 UltraWide WFHD IPS HDR10...</td>\n",
       "      <td>4.6</td>\n",
       "      <td>1,723</td>\n",
       "      <td>226.99</td>\n",
       "      <td>https://www.amazon.com/LG-29WN600-W-29-21-Ultr...</td>\n",
       "    </tr>\n",
       "    <tr>\n",
       "      <th>2</th>\n",
       "      <td>Gigabyte G34WQC 34\" 144Hz Ultra-Wide Curved Ga...</td>\n",
       "      <td>4.6</td>\n",
       "      <td>2,288</td>\n",
       "      <td>399.99</td>\n",
       "      <td>https://www.amazon.com/Gigabyte-Ultra-Wide-Res...</td>\n",
       "    </tr>\n",
       "    <tr>\n",
       "      <th>3</th>\n",
       "      <td>LG 34WN80C-B 34 inch 21:9 Curved UltraWide WQH...</td>\n",
       "      <td>4.7</td>\n",
       "      <td>2,409</td>\n",
       "      <td>549.99</td>\n",
       "      <td>https://www.amazon.com/LG-34WN80C-B-inch-Conne...</td>\n",
       "    </tr>\n",
       "    <tr>\n",
       "      <th>4</th>\n",
       "      <td>Sceptre 35 Inch Curved UltraWide 21: 9 LED Cre...</td>\n",
       "      <td>4.6</td>\n",
       "      <td>2,198</td>\n",
       "      <td>381.09</td>\n",
       "      <td>https://www.amazon.com/Sceptre-C355W-3440UN-Su...</td>\n",
       "    </tr>\n",
       "    <tr>\n",
       "      <th>5</th>\n",
       "      <td>LG 34GP83A-B 34 Inch 21: 9 UltraGear Curved QH...</td>\n",
       "      <td>4.7</td>\n",
       "      <td>608</td>\n",
       "      <td>799.99</td>\n",
       "      <td>https://www.amazon.com/LG-34GP83A-B-Inch-Ultra...</td>\n",
       "    </tr>\n",
       "    <tr>\n",
       "      <th>6</th>\n",
       "      <td>LG 29WP60G-B 29 Inch 21:9 UltraWide Full HD (2...</td>\n",
       "      <td>4.6</td>\n",
       "      <td>1,016</td>\n",
       "      <td>226.99</td>\n",
       "      <td>https://www.amazon.com/LG-29WP60G-B-Inch-Conne...</td>\n",
       "    </tr>\n",
       "    <tr>\n",
       "      <th>7</th>\n",
       "      <td>SAMSUNG 34-Inch Odyssey G5 Ultra-Wide Gaming M...</td>\n",
       "      <td>4.5</td>\n",
       "      <td>3,056</td>\n",
       "      <td>599.99</td>\n",
       "      <td>https://www.amazon.com/SAMSUNG-34-Inch-Ultra-W...</td>\n",
       "    </tr>\n",
       "    <tr>\n",
       "      <th>8</th>\n",
       "      <td>SAMSUNG 34-Inch SJ55W Ultrawide Gaming Monitor...</td>\n",
       "      <td>4.5</td>\n",
       "      <td>607</td>\n",
       "      <td>349.99</td>\n",
       "      <td>https://www.amazon.com/Samsung-S34J55W-34-Inch...</td>\n",
       "    </tr>\n",
       "    <tr>\n",
       "      <th>9</th>\n",
       "      <td>Sceptre IPS 27-Inch Business Computer Monitor ...</td>\n",
       "      <td>4.6</td>\n",
       "      <td>1,937</td>\n",
       "      <td>149.19</td>\n",
       "      <td>https://www.amazon.com/gp/slredirect/picassoRe...</td>\n",
       "    </tr>\n",
       "    <tr>\n",
       "      <th>10</th>\n",
       "      <td>LG 49WL95C-WE 49 Inch 32:9 Curved DQHD (5120 x...</td>\n",
       "      <td>4.4</td>\n",
       "      <td>479</td>\n",
       "      <td></td>\n",
       "      <td>https://www.amazon.com/LG-49WL95C-WE-Inch-Ultr...</td>\n",
       "    </tr>\n",
       "    <tr>\n",
       "      <th>11</th>\n",
       "      <td>LG 25UM58-P 25'' UltraWide 21:9 IPS Full HD Mo...</td>\n",
       "      <td>4.5</td>\n",
       "      <td>3,768</td>\n",
       "      <td>149.99</td>\n",
       "      <td>https://www.amazon.com/LG-25UM58-P-25-Inch-21-...</td>\n",
       "    </tr>\n",
       "    <tr>\n",
       "      <th>12</th>\n",
       "      <td>AOC CU34G2X 34\" Curved Frameless Immersive Gam...</td>\n",
       "      <td>4.7</td>\n",
       "      <td>8,677</td>\n",
       "      <td>449.99</td>\n",
       "      <td>https://www.amazon.com/AOC-CU34G2X-Frameless-I...</td>\n",
       "    </tr>\n",
       "    <tr>\n",
       "      <th>13</th>\n",
       "      <td>SAMSUNG LC34J791WTNXZA 34-Inch CJ791 Ultrawide...</td>\n",
       "      <td>4.5</td>\n",
       "      <td>970</td>\n",
       "      <td>699.00</td>\n",
       "      <td>https://www.amazon.com/Samsung-CJ791-Thunderbo...</td>\n",
       "    </tr>\n",
       "    <tr>\n",
       "      <th>14</th>\n",
       "      <td>LG 27GL83A-B 27 Inch Ultragear QHD IPS 1ms NVI...</td>\n",
       "      <td>4.8</td>\n",
       "      <td>6,573</td>\n",
       "      <td>379.99</td>\n",
       "      <td>https://www.amazon.com/gp/slredirect/picassoRe...</td>\n",
       "    </tr>\n",
       "    <tr>\n",
       "      <th>15</th>\n",
       "      <td>Samsung Business CH890 Series 34 inch WQHD 344...</td>\n",
       "      <td>4.5</td>\n",
       "      <td>572</td>\n",
       "      <td>572.32</td>\n",
       "      <td>https://www.amazon.com/Samsung-Business-3440x1...</td>\n",
       "    </tr>\n",
       "    <tr>\n",
       "      <th>16</th>\n",
       "      <td>LG 34WK650-W 34\" UltraWide 21:9 IPS Monitor wi...</td>\n",
       "      <td>4.7</td>\n",
       "      <td>1,023</td>\n",
       "      <td>399.99</td>\n",
       "      <td>https://www.amazon.com/LG-34WK650-W-34-UltraWi...</td>\n",
       "    </tr>\n",
       "    <tr>\n",
       "      <th>17</th>\n",
       "      <td>Sceptre Curved 30\" 21:9 Gaming LED Monitor 256...</td>\n",
       "      <td>4.6</td>\n",
       "      <td>2,279</td>\n",
       "      <td>237.09</td>\n",
       "      <td>https://www.amazon.com/Sceptre-C305W-2560UN-30...</td>\n",
       "    </tr>\n",
       "    <tr>\n",
       "      <th>18</th>\n",
       "      <td>SAMSUNG LC49RG90SSNXZA 49-Inch CRG9 Curved Gam...</td>\n",
       "      <td>4.5</td>\n",
       "      <td>2,705</td>\n",
       "      <td></td>\n",
       "      <td>https://www.amazon.com/Samsung-Double-49-Inch-...</td>\n",
       "    </tr>\n",
       "    <tr>\n",
       "      <th>19</th>\n",
       "      <td>Sceptre IPS 24-Inch Business Computer Monitor ...</td>\n",
       "      <td>4.7</td>\n",
       "      <td>1,822</td>\n",
       "      <td>142.18</td>\n",
       "      <td>https://www.amazon.com/gp/slredirect/picassoRe...</td>\n",
       "    </tr>\n",
       "  </tbody>\n",
       "</table>\n",
       "</div>"
      ],
      "text/plain": [
       "                                                title rating review_count  \\\n",
       "0   AOC CQ34G2 Super Curved Frameless Gaming Monit...    4.7        8,677   \n",
       "1   LG 29WN600-W 29\" 21:9 UltraWide WFHD IPS HDR10...    4.6        1,723   \n",
       "2   Gigabyte G34WQC 34\" 144Hz Ultra-Wide Curved Ga...    4.6        2,288   \n",
       "3   LG 34WN80C-B 34 inch 21:9 Curved UltraWide WQH...    4.7        2,409   \n",
       "4   Sceptre 35 Inch Curved UltraWide 21: 9 LED Cre...    4.6        2,198   \n",
       "5   LG 34GP83A-B 34 Inch 21: 9 UltraGear Curved QH...    4.7          608   \n",
       "6   LG 29WP60G-B 29 Inch 21:9 UltraWide Full HD (2...    4.6        1,016   \n",
       "7   SAMSUNG 34-Inch Odyssey G5 Ultra-Wide Gaming M...    4.5        3,056   \n",
       "8   SAMSUNG 34-Inch SJ55W Ultrawide Gaming Monitor...    4.5          607   \n",
       "9   Sceptre IPS 27-Inch Business Computer Monitor ...    4.6        1,937   \n",
       "10  LG 49WL95C-WE 49 Inch 32:9 Curved DQHD (5120 x...    4.4          479   \n",
       "11  LG 25UM58-P 25'' UltraWide 21:9 IPS Full HD Mo...    4.5        3,768   \n",
       "12  AOC CU34G2X 34\" Curved Frameless Immersive Gam...    4.7        8,677   \n",
       "13  SAMSUNG LC34J791WTNXZA 34-Inch CJ791 Ultrawide...    4.5          970   \n",
       "14  LG 27GL83A-B 27 Inch Ultragear QHD IPS 1ms NVI...    4.8        6,573   \n",
       "15  Samsung Business CH890 Series 34 inch WQHD 344...    4.5          572   \n",
       "16  LG 34WK650-W 34\" UltraWide 21:9 IPS Monitor wi...    4.7        1,023   \n",
       "17  Sceptre Curved 30\" 21:9 Gaming LED Monitor 256...    4.6        2,279   \n",
       "18  SAMSUNG LC49RG90SSNXZA 49-Inch CRG9 Curved Gam...    4.5        2,705   \n",
       "19  Sceptre IPS 24-Inch Business Computer Monitor ...    4.7        1,822   \n",
       "\n",
       "     price                                                url  \n",
       "0   309.99  https://www.amazon.com/gp/slredirect/picassoRe...  \n",
       "1   226.99  https://www.amazon.com/LG-29WN600-W-29-21-Ultr...  \n",
       "2   399.99  https://www.amazon.com/Gigabyte-Ultra-Wide-Res...  \n",
       "3   549.99  https://www.amazon.com/LG-34WN80C-B-inch-Conne...  \n",
       "4   381.09  https://www.amazon.com/Sceptre-C355W-3440UN-Su...  \n",
       "5   799.99  https://www.amazon.com/LG-34GP83A-B-Inch-Ultra...  \n",
       "6   226.99  https://www.amazon.com/LG-29WP60G-B-Inch-Conne...  \n",
       "7   599.99  https://www.amazon.com/SAMSUNG-34-Inch-Ultra-W...  \n",
       "8   349.99  https://www.amazon.com/Samsung-S34J55W-34-Inch...  \n",
       "9   149.19  https://www.amazon.com/gp/slredirect/picassoRe...  \n",
       "10          https://www.amazon.com/LG-49WL95C-WE-Inch-Ultr...  \n",
       "11  149.99  https://www.amazon.com/LG-25UM58-P-25-Inch-21-...  \n",
       "12  449.99  https://www.amazon.com/AOC-CU34G2X-Frameless-I...  \n",
       "13  699.00  https://www.amazon.com/Samsung-CJ791-Thunderbo...  \n",
       "14  379.99  https://www.amazon.com/gp/slredirect/picassoRe...  \n",
       "15  572.32  https://www.amazon.com/Samsung-Business-3440x1...  \n",
       "16  399.99  https://www.amazon.com/LG-34WK650-W-34-UltraWi...  \n",
       "17  237.09  https://www.amazon.com/Sceptre-C305W-2560UN-30...  \n",
       "18          https://www.amazon.com/Samsung-Double-49-Inch-...  \n",
       "19  142.18  https://www.amazon.com/gp/slredirect/picassoRe...  "
      ]
     },
     "execution_count": 70,
     "metadata": {},
     "output_type": "execute_result"
    }
   ],
   "source": [
    "product_df = pd.DataFrame(data_dict)\n",
    "\n",
    "product_df.to_csv('product.csv',index=None)\n",
    "pd.DataFrame(data_dict).head(20)"
   ]
  },
  {
   "cell_type": "code",
   "execution_count": 57,
   "metadata": {},
   "outputs": [],
   "source": [
    "# def get_url(search_item):\n",
    "#     search_item = search_item.replace(' ','+')\n",
    "#     url = f'https://www.amazon.com/s?k={search_item}&ref=nb_sb_noss'\n",
    "#     url += '&page{}'\n",
    "#     return url"
   ]
  },
  {
   "cell_type": "code",
   "execution_count": 58,
   "metadata": {},
   "outputs": [],
   "source": [
    "# def scrape_data(search_item,total_page):\n",
    "#     driver = webdriver.Chrome(ChromeDriverManager().install())\n",
    "    \n",
    "#     url = get_url(search_item)\n",
    "    \n",
    "    \n",
    "#     for page in range(1,total_page+1):\n",
    "#         driver.get(url.format(page))\n",
    "#         soup = BeautifulSoup(driver.page_source, 'html.parser')\n",
    "#         extract_data(soup)\n",
    "#     driver.close()"
   ]
  },
  {
   "cell_type": "code",
   "execution_count": null,
   "metadata": {},
   "outputs": [],
   "source": []
  }
 ],
 "metadata": {
  "colab": {
   "name": "amazon scrape P-10(colab).ipynb",
   "provenance": []
  },
  "kernelspec": {
   "display_name": "Python 3",
   "language": "python",
   "name": "python3"
  },
  "language_info": {
   "codemirror_mode": {
    "name": "ipython",
    "version": 3
   },
   "file_extension": ".py",
   "mimetype": "text/x-python",
   "name": "python",
   "nbconvert_exporter": "python",
   "pygments_lexer": "ipython3",
   "version": "3.8.10"
  }
 },
 "nbformat": 4,
 "nbformat_minor": 1
}
