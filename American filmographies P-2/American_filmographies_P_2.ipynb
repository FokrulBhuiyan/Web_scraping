{
 "cells": [
  {
   "cell_type": "markdown",
   "metadata": {
    "id": "56UsXrj5uc63"
   },
   "source": [
    "## American filmographies from wikipedia\n",
    "\n",
    "- Scrape link : https://en.wikipedia.org/w/index.php?title=Category:American_filmographies&pageuntil=Hayden%2C+Sterling%0ASterling+Hayden+filmography#mw-pages\n",
    "- get Actors/Directors name url\n",
    "- from each url, get film title, Release Year, role"
   ]
  },
  {
   "cell_type": "markdown",
   "metadata": {
    "id": "BfTSUI3hu9MP"
   },
   "source": [
    "## Process Note\n",
    "- get the page with `request`\n",
    "- Use `Bs4` for webpage Process\n",
    "- Collect the info\n",
    "- Create the func\n",
    "- Create `CSV` with that info"
   ]
  },
  {
   "cell_type": "markdown",
   "metadata": {
    "id": "5YiYvhaNVCSz"
   },
   "source": [
    "## Scrape on a single page\n",
    "\n",
    "- page url - https://en.wikipedia.org/wiki/Christian_Bale_filmography"
   ]
  },
  {
   "cell_type": "code",
   "execution_count": 1,
   "metadata": {
    "id": "SqIPFSA-uRbe"
   },
   "outputs": [],
   "source": [
    "import requests\n",
    "from bs4 import BeautifulSoup\n",
    "import pandas as pd\n",
    "import numpy as np\n"
   ]
  },
  {
   "cell_type": "code",
   "execution_count": 2,
   "metadata": {
    "id": "LwNge65hwRTO"
   },
   "outputs": [],
   "source": [
    "page_url = 'https://en.wikipedia.org/wiki/List_of_Amy_Adams_performances'"
   ]
  },
  {
   "cell_type": "code",
   "execution_count": 3,
   "metadata": {
    "id": "HyWEgVwTv_G7"
   },
   "outputs": [],
   "source": [
    "resp = requests.get(page_url)"
   ]
  },
  {
   "cell_type": "code",
   "execution_count": 4,
   "metadata": {
    "id": "oWyMtw70v_D_"
   },
   "outputs": [],
   "source": [
    "html_page = BeautifulSoup(resp.text,'html.parser')"
   ]
  },
  {
   "cell_type": "code",
   "execution_count": 5,
   "metadata": {
    "id": "ZyGw3xmPv--V"
   },
   "outputs": [],
   "source": [
    "table_tag = html_page.select('table.wikitable')[0]"
   ]
  },
  {
   "cell_type": "code",
   "execution_count": 6,
   "metadata": {
    "id": "Ch4FE6NY93Sv"
   },
   "outputs": [],
   "source": [
    "# table_tag"
   ]
  },
  {
   "cell_type": "code",
   "execution_count": 7,
   "metadata": {
    "colab": {
     "base_uri": "https://localhost:8080/"
    },
    "id": "uBOnvQSzv-4u",
    "outputId": "719ee5bb-5dd8-46cc-c716-b9fc85bbd197"
   },
   "outputs": [
    {
     "data": {
      "text/plain": [
       "['release_year', 'title', 'role']"
      ]
     },
     "execution_count": 7,
     "metadata": {
      "tags": []
     },
     "output_type": "execute_result"
    }
   ],
   "source": [
    "columns = table_tag.find('tbody').find_all('th')[:3]\n",
    "columns_name = [c.text.strip().lower() for c in columns]\n",
    "columns_name[columns_name=='year'] = 'release_year'\n",
    "columns_name"
   ]
  },
  {
   "cell_type": "code",
   "execution_count": 8,
   "metadata": {
    "colab": {
     "base_uri": "https://localhost:8080/",
     "height": 1000
    },
    "id": "8rNBCP7ZMFtT",
    "outputId": "f4c09cc3-8f32-4f78-81bc-2994fd781aa3"
   },
   "outputs": [
    {
     "data": {
      "text/html": [
       "<div>\n",
       "<style scoped>\n",
       "    .dataframe tbody tr th:only-of-type {\n",
       "        vertical-align: middle;\n",
       "    }\n",
       "\n",
       "    .dataframe tbody tr th {\n",
       "        vertical-align: top;\n",
       "    }\n",
       "\n",
       "    .dataframe thead th {\n",
       "        text-align: right;\n",
       "    }\n",
       "</style>\n",
       "<table border=\"1\" class=\"dataframe\">\n",
       "  <thead>\n",
       "    <tr style=\"text-align: right;\">\n",
       "      <th></th>\n",
       "      <th>release_year</th>\n",
       "      <th>title</th>\n",
       "      <th>role</th>\n",
       "    </tr>\n",
       "  </thead>\n",
       "  <tbody>\n",
       "    <tr>\n",
       "      <th>0</th>\n",
       "      <td>1999</td>\n",
       "      <td>Drop Dead Gorgeous</td>\n",
       "      <td>Leslie Miller</td>\n",
       "    </tr>\n",
       "    <tr>\n",
       "      <th>1</th>\n",
       "      <td>2000</td>\n",
       "      <td>Psycho Beach Party</td>\n",
       "      <td>Marvel Ann</td>\n",
       "    </tr>\n",
       "    <tr>\n",
       "      <th>2</th>\n",
       "      <td>2000</td>\n",
       "      <td>The Chromium Hook</td>\n",
       "      <td>Jill Royaltuber</td>\n",
       "    </tr>\n",
       "    <tr>\n",
       "      <th>3</th>\n",
       "      <td>2000</td>\n",
       "      <td>Cruel Intentions 2</td>\n",
       "      <td>Kathryn Merteuil</td>\n",
       "    </tr>\n",
       "    <tr>\n",
       "      <th>4</th>\n",
       "      <td>2002</td>\n",
       "      <td>The Slaughter Rule</td>\n",
       "      <td>Doreen</td>\n",
       "    </tr>\n",
       "    <tr>\n",
       "      <th>5</th>\n",
       "      <td>2002</td>\n",
       "      <td>Pumpkin</td>\n",
       "      <td>Alex</td>\n",
       "    </tr>\n",
       "    <tr>\n",
       "      <th>6</th>\n",
       "      <td>2002</td>\n",
       "      <td>Serving Sara</td>\n",
       "      <td>Kate</td>\n",
       "    </tr>\n",
       "    <tr>\n",
       "      <th>7</th>\n",
       "      <td>2002</td>\n",
       "      <td>Catch Me If You Can</td>\n",
       "      <td>Brenda Strong</td>\n",
       "    </tr>\n",
       "    <tr>\n",
       "      <th>8</th>\n",
       "      <td>2004</td>\n",
       "      <td>The Last Run</td>\n",
       "      <td>Alexis</td>\n",
       "    </tr>\n",
       "    <tr>\n",
       "      <th>9</th>\n",
       "      <td>2005</td>\n",
       "      <td>The Wedding Date</td>\n",
       "      <td>Amy Ellis</td>\n",
       "    </tr>\n",
       "    <tr>\n",
       "      <th>10</th>\n",
       "      <td>2005</td>\n",
       "      <td>Standing Still</td>\n",
       "      <td>Elise</td>\n",
       "    </tr>\n",
       "    <tr>\n",
       "      <th>11</th>\n",
       "      <td>2005</td>\n",
       "      <td>Junebug</td>\n",
       "      <td>Ashley Johnsten</td>\n",
       "    </tr>\n",
       "    <tr>\n",
       "      <th>12</th>\n",
       "      <td>2005</td>\n",
       "      <td>Stephen Tobolowsky's Birthday Party</td>\n",
       "      <td>Herself</td>\n",
       "    </tr>\n",
       "    <tr>\n",
       "      <th>13</th>\n",
       "      <td>2006</td>\n",
       "      <td>Pennies</td>\n",
       "      <td>Charlotte Brown</td>\n",
       "    </tr>\n",
       "    <tr>\n",
       "      <th>14</th>\n",
       "      <td>2006</td>\n",
       "      <td>Talladega Nights: The Ballad of Ricky Bobby</td>\n",
       "      <td>Susan</td>\n",
       "    </tr>\n",
       "    <tr>\n",
       "      <th>15</th>\n",
       "      <td>2006</td>\n",
       "      <td>Tenacious D in The Pick of Destiny</td>\n",
       "      <td>Gorgeous Woman</td>\n",
       "    </tr>\n",
       "    <tr>\n",
       "      <th>16</th>\n",
       "      <td>2006</td>\n",
       "      <td>The Ex</td>\n",
       "      <td>Abby March</td>\n",
       "    </tr>\n",
       "    <tr>\n",
       "      <th>17</th>\n",
       "      <td>2007</td>\n",
       "      <td>Underdog</td>\n",
       "      <td>Sweet Polly Purebred</td>\n",
       "    </tr>\n",
       "    <tr>\n",
       "      <th>18</th>\n",
       "      <td>2007</td>\n",
       "      <td>Enchanted</td>\n",
       "      <td>Giselle</td>\n",
       "    </tr>\n",
       "    <tr>\n",
       "      <th>19</th>\n",
       "      <td>2007</td>\n",
       "      <td>Charlie Wilson's War</td>\n",
       "      <td>Bonnie Bach</td>\n",
       "    </tr>\n",
       "    <tr>\n",
       "      <th>20</th>\n",
       "      <td>2008</td>\n",
       "      <td>Sunshine Cleaning</td>\n",
       "      <td>Rose Lorkowski</td>\n",
       "    </tr>\n",
       "    <tr>\n",
       "      <th>21</th>\n",
       "      <td>2008</td>\n",
       "      <td>Miss Pettigrew Lives for a Day</td>\n",
       "      <td>Delysia Lafosse</td>\n",
       "    </tr>\n",
       "    <tr>\n",
       "      <th>22</th>\n",
       "      <td>2008</td>\n",
       "      <td>Doubt</td>\n",
       "      <td>Sister James</td>\n",
       "    </tr>\n",
       "    <tr>\n",
       "      <th>23</th>\n",
       "      <td>2009</td>\n",
       "      <td>Night at the Museum: Battle of the Smithsonian</td>\n",
       "      <td>Amelia Earhart / Tess</td>\n",
       "    </tr>\n",
       "    <tr>\n",
       "      <th>24</th>\n",
       "      <td>2009</td>\n",
       "      <td>Julie &amp; Julia</td>\n",
       "      <td>Julie Powell</td>\n",
       "    </tr>\n",
       "    <tr>\n",
       "      <th>25</th>\n",
       "      <td>2009</td>\n",
       "      <td>Moonlight Serenade</td>\n",
       "      <td>Chloe</td>\n",
       "    </tr>\n",
       "    <tr>\n",
       "      <th>26</th>\n",
       "      <td>2010</td>\n",
       "      <td>Leap Year</td>\n",
       "      <td>Anna Brady</td>\n",
       "    </tr>\n",
       "    <tr>\n",
       "      <th>27</th>\n",
       "      <td>2010</td>\n",
       "      <td>Love &amp; Distrust</td>\n",
       "      <td>Charlotte Brown</td>\n",
       "    </tr>\n",
       "    <tr>\n",
       "      <th>28</th>\n",
       "      <td>2010</td>\n",
       "      <td>The Fighter</td>\n",
       "      <td>Charlene Fleming</td>\n",
       "    </tr>\n",
       "    <tr>\n",
       "      <th>29</th>\n",
       "      <td>2011</td>\n",
       "      <td>The Muppets</td>\n",
       "      <td>Mary</td>\n",
       "    </tr>\n",
       "    <tr>\n",
       "      <th>30</th>\n",
       "      <td>2012</td>\n",
       "      <td>On the Road</td>\n",
       "      <td>Jane / Joan Vollmer</td>\n",
       "    </tr>\n",
       "    <tr>\n",
       "      <th>31</th>\n",
       "      <td>2012</td>\n",
       "      <td>The Master</td>\n",
       "      <td>Peggy Dodd</td>\n",
       "    </tr>\n",
       "    <tr>\n",
       "      <th>32</th>\n",
       "      <td>2012</td>\n",
       "      <td>Trouble with the Curve</td>\n",
       "      <td>Mickey Lobel</td>\n",
       "    </tr>\n",
       "    <tr>\n",
       "      <th>33</th>\n",
       "      <td>2013</td>\n",
       "      <td>Man of Steel</td>\n",
       "      <td>Lois Lane</td>\n",
       "    </tr>\n",
       "    <tr>\n",
       "      <th>34</th>\n",
       "      <td>2013</td>\n",
       "      <td>Her</td>\n",
       "      <td>Amy</td>\n",
       "    </tr>\n",
       "    <tr>\n",
       "      <th>35</th>\n",
       "      <td>2013</td>\n",
       "      <td>American Hustle</td>\n",
       "      <td>Sydney Prosser</td>\n",
       "    </tr>\n",
       "    <tr>\n",
       "      <th>36</th>\n",
       "      <td>2014</td>\n",
       "      <td>Lullaby</td>\n",
       "      <td>Emily</td>\n",
       "    </tr>\n",
       "    <tr>\n",
       "      <th>37</th>\n",
       "      <td>2014</td>\n",
       "      <td>Big Eyes</td>\n",
       "      <td>Margaret Keane</td>\n",
       "    </tr>\n",
       "    <tr>\n",
       "      <th>38</th>\n",
       "      <td>2016</td>\n",
       "      <td>Batman v Superman: Dawn of Justice</td>\n",
       "      <td>Lois Lane</td>\n",
       "    </tr>\n",
       "    <tr>\n",
       "      <th>39</th>\n",
       "      <td>2016</td>\n",
       "      <td>Arrival</td>\n",
       "      <td>Dr. Louise Banks</td>\n",
       "    </tr>\n",
       "    <tr>\n",
       "      <th>40</th>\n",
       "      <td>2016</td>\n",
       "      <td>Nocturnal Animals</td>\n",
       "      <td>Susan Morrow</td>\n",
       "    </tr>\n",
       "    <tr>\n",
       "      <th>41</th>\n",
       "      <td>2017</td>\n",
       "      <td>Justice League</td>\n",
       "      <td>Lois Lane</td>\n",
       "    </tr>\n",
       "    <tr>\n",
       "      <th>42</th>\n",
       "      <td>2018</td>\n",
       "      <td>Vice</td>\n",
       "      <td>Lynne Cheney</td>\n",
       "    </tr>\n",
       "    <tr>\n",
       "      <th>43</th>\n",
       "      <td>2020</td>\n",
       "      <td>Hillbilly Elegy</td>\n",
       "      <td>Bev Vance</td>\n",
       "    </tr>\n",
       "    <tr>\n",
       "      <th>44</th>\n",
       "      <td>2021</td>\n",
       "      <td>Zack Snyder's Justice League</td>\n",
       "      <td>Lois Lane</td>\n",
       "    </tr>\n",
       "    <tr>\n",
       "      <th>45</th>\n",
       "      <td>2021</td>\n",
       "      <td>The Woman in the Window</td>\n",
       "      <td>Dr. Anna Fox</td>\n",
       "    </tr>\n",
       "    <tr>\n",
       "      <th>46</th>\n",
       "      <td>2021</td>\n",
       "      <td>Dear Evan Hansen</td>\n",
       "      <td>Cynthia Murphy</td>\n",
       "    </tr>\n",
       "    <tr>\n",
       "      <th>47</th>\n",
       "      <td>2022</td>\n",
       "      <td>Disenchanted</td>\n",
       "      <td>Giselle</td>\n",
       "    </tr>\n",
       "  </tbody>\n",
       "</table>\n",
       "</div>"
      ],
      "text/plain": [
       "   release_year  ...                   role\n",
       "0          1999  ...          Leslie Miller\n",
       "1          2000  ...             Marvel Ann\n",
       "2          2000  ...        Jill Royaltuber\n",
       "3          2000  ...       Kathryn Merteuil\n",
       "4          2002  ...                 Doreen\n",
       "5          2002  ...                   Alex\n",
       "6          2002  ...                   Kate\n",
       "7          2002  ...          Brenda Strong\n",
       "8          2004  ...                 Alexis\n",
       "9          2005  ...              Amy Ellis\n",
       "10         2005  ...                  Elise\n",
       "11         2005  ...        Ashley Johnsten\n",
       "12         2005  ...                Herself\n",
       "13         2006  ...        Charlotte Brown\n",
       "14         2006  ...                  Susan\n",
       "15         2006  ...         Gorgeous Woman\n",
       "16         2006  ...             Abby March\n",
       "17         2007  ...   Sweet Polly Purebred\n",
       "18         2007  ...                Giselle\n",
       "19         2007  ...            Bonnie Bach\n",
       "20         2008  ...         Rose Lorkowski\n",
       "21         2008  ...        Delysia Lafosse\n",
       "22         2008  ...           Sister James\n",
       "23         2009  ...  Amelia Earhart / Tess\n",
       "24         2009  ...           Julie Powell\n",
       "25         2009  ...                  Chloe\n",
       "26         2010  ...             Anna Brady\n",
       "27         2010  ...        Charlotte Brown\n",
       "28         2010  ...       Charlene Fleming\n",
       "29         2011  ...                   Mary\n",
       "30         2012  ...    Jane / Joan Vollmer\n",
       "31         2012  ...             Peggy Dodd\n",
       "32         2012  ...           Mickey Lobel\n",
       "33         2013  ...              Lois Lane\n",
       "34         2013  ...                    Amy\n",
       "35         2013  ...         Sydney Prosser\n",
       "36         2014  ...                  Emily\n",
       "37         2014  ...         Margaret Keane\n",
       "38         2016  ...              Lois Lane\n",
       "39         2016  ...       Dr. Louise Banks\n",
       "40         2016  ...           Susan Morrow\n",
       "41         2017  ...              Lois Lane\n",
       "42         2018  ...           Lynne Cheney\n",
       "43         2020  ...              Bev Vance\n",
       "44         2021  ...              Lois Lane\n",
       "45         2021  ...           Dr. Anna Fox\n",
       "46         2021  ...         Cynthia Murphy\n",
       "47         2022  ...                Giselle\n",
       "\n",
       "[48 rows x 3 columns]"
      ]
     },
     "execution_count": 8,
     "metadata": {
      "tags": []
     },
     "output_type": "execute_result"
    }
   ],
   "source": [
    "table_df = pd.read_html(str(table_tag))\n",
    "\n",
    "table_df=np.array(table_df)\n",
    "table_df = table_df[:,:,:3].copy()\n",
    "table_df =pd.DataFrame(table_df.reshape(-1,3),columns=columns_name)\n",
    "# table_df.iloc[:,:3]\n",
    "table_df"
   ]
  },
  {
   "cell_type": "markdown",
   "metadata": {
    "id": "xSyltlTRVJex"
   },
   "source": [
    "## scrape all pages of A-H\n",
    "-url: https://en.wikipedia.org/w/index.php?title=Category:American_filmographies&pageuntil=Hayden%2C+Sterling%0ASterling+Hayden+filmography#mw-pages"
   ]
  },
  {
   "cell_type": "markdown",
   "metadata": {
    "id": "-sA58aVk4yg7"
   },
   "source": [
    "func for each name"
   ]
  },
  {
   "cell_type": "code",
   "execution_count": 9,
   "metadata": {
    "id": "lq3Ut7iboVNm"
   },
   "outputs": [],
   "source": [
    "def get_column_name(table_tag):\n",
    "    columns = table_tag.find('tbody').find_all('th')[:3]\n",
    "    columns_name = [c.text.strip().lower() for c in columns]\n",
    "    columns_name[columns_name=='year'] = 'release_year'\n",
    "    return columns_name\n",
    "\n",
    "def get_table(table_tag,columns_name):\n",
    "    table_df = pd.read_html(str(table_tag))\n",
    "    table_df=np.array(table_df)\n",
    "    table_df = table_df[:,:,:3].copy()\n",
    "    table_df =pd.DataFrame(table_df.reshape(-1,3),columns=columns_name)\n",
    "    return table_df\n",
    "\n",
    "def scrape_each_url(page_url):\n",
    "    resp = requests.get(page_url)\n",
    "    html_page = BeautifulSoup(resp.text,'html.parser')\n",
    "    table_tag = html_page.select('table.wikitable')[0]\n",
    "\n",
    "    columns_name = get_column_name(table_tag)\n",
    "\n",
    "    table_df = get_table(table_tag,columns_name)\n",
    "\n",
    "    return pd.DataFrame(table_df)\n",
    "    \n"
   ]
  },
  {
   "cell_type": "markdown",
   "metadata": {
    "id": "PPEBeTgVWIqz"
   },
   "source": [
    "funcs for get A-Z page list\n",
    "- base url - https://en.wikipedia.org\n",
    "- get `name` and `url` with `scrape_topics`\n",
    "- call each `url`"
   ]
  },
  {
   "cell_type": "code",
   "execution_count": 10,
   "metadata": {
    "id": "aEn82fLTMFqS"
   },
   "outputs": [],
   "source": [
    "def get_actor_name(html_doc):\n",
    "    actor_name_tag = html_doc.find('div',{'class': 'mw-category'}).find_all('li')\n",
    "    actor_name_list = [actor.text.strip() for actor in actor_name_tag]\n",
    "    return actor_name_list\n",
    "\n",
    "def get_actor_url(html_doc):\n",
    "    actor_url_tag = html_doc.find('div',{'class': 'mw-category'}).find_all('a')\n",
    "    actor_url_list = ['https://en.wikipedia.org'+url['href'] for url in actor_url_tag]\n",
    "    return actor_url_list\n",
    "\n",
    "def scrape_all_category():\n",
    "    page_url = ' https://en.wikipedia.org/w/index.php?title=Category:American_filmographies&pageuntil=Hayden%2C+Sterling%0ASterling+Hayden+filmography#mw-pages'\n",
    "    resp = requests.get(page_url)\n",
    "    if resp.status_code!=200:\n",
    "        raise Exception(f'Failed to load{page_url}')\n",
    "    html_doc =  BeautifulSoup(resp.text,'html.parser')\n",
    "\n",
    "    actor_dict = {\n",
    "        'actor_name' : get_actor_name(html_doc),\n",
    "        'url' : get_actor_url(html_doc),\n",
    "    }\n",
    "    return pd.DataFrame(actor_dict)\n",
    "\n",
    "def scrape_each_category():\n",
    "    actor_df = scrape_all_category()\n",
    "    print(actor_df['actor_name'][5])\n",
    "    each_df = scrape_each_url(actor_df['url'][5])\n",
    "    return each_df\n",
    "    # for _,row in actor_df.iterrows():\n",
    "    #     print(row['actor_name'])\n",
    "    #     scrape_each_url(row['url'])\n",
    "\n",
    "    "
   ]
  },
  {
   "cell_type": "code",
   "execution_count": 11,
   "metadata": {
    "colab": {
     "base_uri": "https://localhost:8080/",
     "height": 349
    },
    "id": "4UOggm1DMFnq",
    "outputId": "686b44be-817d-4e0b-ce46-80ea20572a92"
   },
   "outputs": [
    {
     "name": "stdout",
     "output_type": "stream",
     "text": [
      "Paul Thomas Anderson filmography\n"
     ]
    },
    {
     "data": {
      "text/html": [
       "<div>\n",
       "<style scoped>\n",
       "    .dataframe tbody tr th:only-of-type {\n",
       "        vertical-align: middle;\n",
       "    }\n",
       "\n",
       "    .dataframe tbody tr th {\n",
       "        vertical-align: top;\n",
       "    }\n",
       "\n",
       "    .dataframe thead th {\n",
       "        text-align: right;\n",
       "    }\n",
       "</style>\n",
       "<table border=\"1\" class=\"dataframe\">\n",
       "  <thead>\n",
       "    <tr style=\"text-align: right;\">\n",
       "      <th></th>\n",
       "      <th>release_year</th>\n",
       "      <th>year</th>\n",
       "      <th>budget</th>\n",
       "    </tr>\n",
       "  </thead>\n",
       "  <tbody>\n",
       "    <tr>\n",
       "      <th>0</th>\n",
       "      <td>Hard Eight</td>\n",
       "      <td>1996</td>\n",
       "      <td>$3,000,000</td>\n",
       "    </tr>\n",
       "    <tr>\n",
       "      <th>1</th>\n",
       "      <td>Boogie Nights</td>\n",
       "      <td>1997</td>\n",
       "      <td>$15,000,000</td>\n",
       "    </tr>\n",
       "    <tr>\n",
       "      <th>2</th>\n",
       "      <td>Magnolia</td>\n",
       "      <td>1999</td>\n",
       "      <td>$37,000,000</td>\n",
       "    </tr>\n",
       "    <tr>\n",
       "      <th>3</th>\n",
       "      <td>Punch-Drunk Love</td>\n",
       "      <td>2002</td>\n",
       "      <td>$25,000,000</td>\n",
       "    </tr>\n",
       "    <tr>\n",
       "      <th>4</th>\n",
       "      <td>There Will Be Blood</td>\n",
       "      <td>2007</td>\n",
       "      <td>$25,000,000</td>\n",
       "    </tr>\n",
       "    <tr>\n",
       "      <th>5</th>\n",
       "      <td>The Master</td>\n",
       "      <td>2012</td>\n",
       "      <td>$32,000,000</td>\n",
       "    </tr>\n",
       "    <tr>\n",
       "      <th>6</th>\n",
       "      <td>Inherent Vice</td>\n",
       "      <td>2014</td>\n",
       "      <td>$20,000,000</td>\n",
       "    </tr>\n",
       "    <tr>\n",
       "      <th>7</th>\n",
       "      <td>Phantom Thread</td>\n",
       "      <td>2017</td>\n",
       "      <td>$35,000,000</td>\n",
       "    </tr>\n",
       "    <tr>\n",
       "      <th>8</th>\n",
       "      <td>Soggy Bottom</td>\n",
       "      <td>2021</td>\n",
       "      <td>$40,000,000</td>\n",
       "    </tr>\n",
       "  </tbody>\n",
       "</table>\n",
       "</div>"
      ],
      "text/plain": [
       "          release_year  year       budget\n",
       "0           Hard Eight  1996   $3,000,000\n",
       "1        Boogie Nights  1997  $15,000,000\n",
       "2             Magnolia  1999  $37,000,000\n",
       "3     Punch-Drunk Love  2002  $25,000,000\n",
       "4  There Will Be Blood  2007  $25,000,000\n",
       "5           The Master  2012  $32,000,000\n",
       "6        Inherent Vice  2014  $20,000,000\n",
       "7       Phantom Thread  2017  $35,000,000\n",
       "8         Soggy Bottom  2021  $40,000,000"
      ]
     },
     "execution_count": 11,
     "metadata": {
      "tags": []
     },
     "output_type": "execute_result"
    }
   ],
   "source": [
    "scrape_each_category()"
   ]
  },
  {
   "cell_type": "markdown",
   "metadata": {
    "id": "6-2btoZ4i0JD"
   },
   "source": [
    "## More scrape\n",
    "Url for A-Z \n",
    "- A-H :\n",
    "https://en.wikipedia.org/w/index.php?title=Category:American_filmographies&pageuntil=Hayden%2C+Sterling%0ASterling+Hayden+filmography#mw-pages\n",
    "\n",
    "- H-S :\n",
    "https://en.wikipedia.org/w/index.php?title=Category:American_filmographies&pagefrom=Hayden%2C+Sterling%0ASterling+Hayden+filmography#mw-pages\n",
    "\n",
    "- S-Z:\n",
    "https://en.wikipedia.org/w/index.php?title=Category:American_filmographies&pagefrom=Shepard%2C+Jan%0AJan+Shepard+filmography#mw-pages\n"
   ]
  },
  {
   "cell_type": "markdown",
   "metadata": {
    "id": "RuGGJT_rT3nv"
   },
   "source": [
    "## optional \n"
   ]
  },
  {
   "cell_type": "markdown",
   "metadata": {
    "id": "U0tHfWpd1x4p"
   },
   "source": [
    "find the title"
   ]
  },
  {
   "cell_type": "code",
   "execution_count": 12,
   "metadata": {
    "id": "zDXAvOCf5a0E"
   },
   "outputs": [],
   "source": [
    "# row_tag = table_tag.find('tbody').find_all('tr')\n",
    "# title = []\n",
    "# for tr in row_tag:\n",
    "#     th = tr.find_all('th')\n",
    "#     th_text = [t.text.strip() for t in th]\n",
    "#     title.append(th_text)\n",
    "# columns_name = title.pop(0)\n",
    "# title"
   ]
  },
  {
   "cell_type": "markdown",
   "metadata": {
    "id": "fmgBK6mq1q8y"
   },
   "source": [
    "find name/url"
   ]
  },
  {
   "cell_type": "code",
   "execution_count": 13,
   "metadata": {
    "id": "lLs5AtDm1o8x"
   },
   "outputs": [],
   "source": [
    "# page_url = ' https://en.wikipedia.org/w/index.php?title=Category:American_filmographies&pageuntil=Hayden%2C+Sterling%0ASterling+Hayden+filmography#mw-pages'\n",
    "# reqs = requests.get(page_url)\n",
    "# if reqs.status_code!=200:\n",
    "#     raise Exception(f'Failed to load{page_url}')\n",
    "# html_doc =  BeautifulSoup(reqs.text,'html.parser')\n",
    "# # actor_name_tag = html_doc.find('div',{'class': 'mw-category'}).find_all('li')\n",
    "# # name_list = [actor.text.strip() for actor in actor_name_tag]\n",
    "# actor_url_tag = html_doc.find('div',{'class': 'mw-category'}).find_all('a')\n",
    "# actor_url_list = ['https://en.wikipedia.org'+url['href'] for url in actor_url_tag]\n",
    "# actor_url_list[:5]"
   ]
  }
 ],
 "metadata": {
  "colab": {
   "name": "American filmographies P-2.ipynb",
   "provenance": []
  },
  "kernelspec": {
   "display_name": "Python 3",
   "language": "python",
   "name": "python3"
  },
  "language_info": {
   "codemirror_mode": {
    "name": "ipython",
    "version": 3
   },
   "file_extension": ".py",
   "mimetype": "text/x-python",
   "name": "python",
   "nbconvert_exporter": "python",
   "pygments_lexer": "ipython3",
   "version": "3.8.10"
  }
 },
 "nbformat": 4,
 "nbformat_minor": 1
}
