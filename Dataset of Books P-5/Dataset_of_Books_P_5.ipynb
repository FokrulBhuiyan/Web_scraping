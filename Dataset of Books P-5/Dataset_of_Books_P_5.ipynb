{
  "nbformat": 4,
  "nbformat_minor": 0,
  "metadata": {
    "colab": {
      "name": "Dataset of Books_P-5.ipynb",
      "provenance": []
    },
    "kernelspec": {
      "name": "python3",
      "display_name": "Python 3"
    },
    "language_info": {
      "name": "python"
    }
  },
  "cells": [
    {
      "cell_type": "markdown",
      "metadata": {
        "id": "vypLfaTC8-94"
      },
      "source": [
        "## Dataset of Books\n",
        "- Scrape link : http://books.toscrape.com/\n",
        "- get category and url list\n",
        "- get all book titles from each category"
      ]
    },
    {
      "cell_type": "markdown",
      "metadata": {
        "id": "x1LiST9-eQ-A"
      },
      "source": [
        "## Page load with lib\n",
        "- get the page with `request`\n",
        "- Use `Bs4` for webpage Process\n",
        "- Collect the info\n",
        "- Create the func\n",
        "- Create `CSV` with that info"
      ]
    },
    {
      "cell_type": "markdown",
      "metadata": {
        "id": "yRs7M76uejla"
      },
      "source": [
        "Import lib"
      ]
    },
    {
      "cell_type": "code",
      "metadata": {
        "id": "DCsnB0LceQoC"
      },
      "source": [
        "import requests\n",
        "from bs4 import BeautifulSoup\n",
        "import pandas as pd"
      ],
      "execution_count": null,
      "outputs": []
    },
    {
      "cell_type": "markdown",
      "metadata": {
        "id": "6h19yNxwesVU"
      },
      "source": [
        "## Scrape individual item\n",
        "- category\n",
        "- url\n",
        "- title"
      ]
    },
    {
      "cell_type": "code",
      "metadata": {
        "colab": {
          "base_uri": "https://localhost:8080/"
        },
        "id": "P0jcu7uy17S_",
        "outputId": "e1197269-5b8c-4baa-9a4f-c6ba5025f20e"
      },
      "source": [
        "url = 'http://books.toscrape.com/catalogue/category/books/mystery_3/page-3.html'\n",
        "requests.get(url).status_code"
      ],
      "execution_count": null,
      "outputs": [
        {
          "output_type": "execute_result",
          "data": {
            "text/plain": [
              "404"
            ]
          },
          "metadata": {
            "tags": []
          },
          "execution_count": 70
        }
      ]
    },
    {
      "cell_type": "code",
      "metadata": {
        "id": "SxRe7KateoSz"
      },
      "source": [
        "url = 'http://books.toscrape.com/'\n",
        "resp = requests.get(url)\n",
        "html_doc = BeautifulSoup(resp.text, 'html.parser')"
      ],
      "execution_count": null,
      "outputs": []
    },
    {
      "cell_type": "code",
      "metadata": {
        "id": "GjxzEyIdeoPq"
      },
      "source": [
        "category_tag = html_doc.select_one('ul.nav.nav-list').select_one('ul').find_all('li')\n",
        "category = [tag.text.strip() for tag in category_tag]\n",
        "category_url = ['http://books.toscrape.com/'+tag.a['href'] for tag in category_tag]"
      ],
      "execution_count": null,
      "outputs": []
    },
    {
      "cell_type": "code",
      "metadata": {
        "colab": {
          "base_uri": "https://localhost:8080/"
        },
        "id": "V41QBWIvr9P9",
        "outputId": "237b6338-d3f6-4f8b-dc5e-5da90e10c99f"
      },
      "source": [
        "category_url"
      ],
      "execution_count": null,
      "outputs": [
        {
          "output_type": "execute_result",
          "data": {
            "text/plain": [
              "['http://books.toscrape.com/catalogue/category/books/travel_2/index.html',\n",
              " 'http://books.toscrape.com/catalogue/category/books/mystery_3/index.html',\n",
              " 'http://books.toscrape.com/catalogue/category/books/historical-fiction_4/index.html',\n",
              " 'http://books.toscrape.com/catalogue/category/books/sequential-art_5/index.html',\n",
              " 'http://books.toscrape.com/catalogue/category/books/classics_6/index.html',\n",
              " 'http://books.toscrape.com/catalogue/category/books/philosophy_7/index.html',\n",
              " 'http://books.toscrape.com/catalogue/category/books/romance_8/index.html',\n",
              " 'http://books.toscrape.com/catalogue/category/books/womens-fiction_9/index.html',\n",
              " 'http://books.toscrape.com/catalogue/category/books/fiction_10/index.html',\n",
              " 'http://books.toscrape.com/catalogue/category/books/childrens_11/index.html',\n",
              " 'http://books.toscrape.com/catalogue/category/books/religion_12/index.html',\n",
              " 'http://books.toscrape.com/catalogue/category/books/nonfiction_13/index.html',\n",
              " 'http://books.toscrape.com/catalogue/category/books/music_14/index.html',\n",
              " 'http://books.toscrape.com/catalogue/category/books/default_15/index.html',\n",
              " 'http://books.toscrape.com/catalogue/category/books/science-fiction_16/index.html',\n",
              " 'http://books.toscrape.com/catalogue/category/books/sports-and-games_17/index.html',\n",
              " 'http://books.toscrape.com/catalogue/category/books/add-a-comment_18/index.html',\n",
              " 'http://books.toscrape.com/catalogue/category/books/fantasy_19/index.html',\n",
              " 'http://books.toscrape.com/catalogue/category/books/new-adult_20/index.html',\n",
              " 'http://books.toscrape.com/catalogue/category/books/young-adult_21/index.html',\n",
              " 'http://books.toscrape.com/catalogue/category/books/science_22/index.html',\n",
              " 'http://books.toscrape.com/catalogue/category/books/poetry_23/index.html',\n",
              " 'http://books.toscrape.com/catalogue/category/books/paranormal_24/index.html',\n",
              " 'http://books.toscrape.com/catalogue/category/books/art_25/index.html',\n",
              " 'http://books.toscrape.com/catalogue/category/books/psychology_26/index.html',\n",
              " 'http://books.toscrape.com/catalogue/category/books/autobiography_27/index.html',\n",
              " 'http://books.toscrape.com/catalogue/category/books/parenting_28/index.html',\n",
              " 'http://books.toscrape.com/catalogue/category/books/adult-fiction_29/index.html',\n",
              " 'http://books.toscrape.com/catalogue/category/books/humor_30/index.html',\n",
              " 'http://books.toscrape.com/catalogue/category/books/horror_31/index.html',\n",
              " 'http://books.toscrape.com/catalogue/category/books/history_32/index.html',\n",
              " 'http://books.toscrape.com/catalogue/category/books/food-and-drink_33/index.html',\n",
              " 'http://books.toscrape.com/catalogue/category/books/christian-fiction_34/index.html',\n",
              " 'http://books.toscrape.com/catalogue/category/books/business_35/index.html',\n",
              " 'http://books.toscrape.com/catalogue/category/books/biography_36/index.html',\n",
              " 'http://books.toscrape.com/catalogue/category/books/thriller_37/index.html',\n",
              " 'http://books.toscrape.com/catalogue/category/books/contemporary_38/index.html',\n",
              " 'http://books.toscrape.com/catalogue/category/books/spirituality_39/index.html',\n",
              " 'http://books.toscrape.com/catalogue/category/books/academic_40/index.html',\n",
              " 'http://books.toscrape.com/catalogue/category/books/self-help_41/index.html',\n",
              " 'http://books.toscrape.com/catalogue/category/books/historical_42/index.html',\n",
              " 'http://books.toscrape.com/catalogue/category/books/christian_43/index.html',\n",
              " 'http://books.toscrape.com/catalogue/category/books/suspense_44/index.html',\n",
              " 'http://books.toscrape.com/catalogue/category/books/short-stories_45/index.html',\n",
              " 'http://books.toscrape.com/catalogue/category/books/novels_46/index.html',\n",
              " 'http://books.toscrape.com/catalogue/category/books/health_47/index.html',\n",
              " 'http://books.toscrape.com/catalogue/category/books/politics_48/index.html',\n",
              " 'http://books.toscrape.com/catalogue/category/books/cultural_49/index.html',\n",
              " 'http://books.toscrape.com/catalogue/category/books/erotica_50/index.html',\n",
              " 'http://books.toscrape.com/catalogue/category/books/crime_51/index.html']"
            ]
          },
          "metadata": {
            "tags": []
          },
          "execution_count": 49
        }
      ]
    },
    {
      "cell_type": "code",
      "metadata": {
        "id": "owMp4p0OeoJ2"
      },
      "source": [
        "title_tag = html_doc.select('article.product_pod h3 a')\n",
        "title = [tag['title'] for tag in title_tag ]\n",
        "title"
      ],
      "execution_count": null,
      "outputs": []
    },
    {
      "cell_type": "markdown",
      "metadata": {
        "id": "fRT5ls4DpF5I"
      },
      "source": [
        "## scrape with func"
      ]
    },
    {
      "cell_type": "code",
      "metadata": {
        "id": "H74dKEiht-2z"
      },
      "source": [
        "import pprint"
      ],
      "execution_count": null,
      "outputs": []
    },
    {
      "cell_type": "markdown",
      "metadata": {
        "id": "x556QBoZ5eY8"
      },
      "source": [
        "func for 1 page url book title"
      ]
    },
    {
      "cell_type": "code",
      "metadata": {
        "id": "dm1G3K4qt-y5"
      },
      "source": [
        "# def get_books_per_category(url):\n",
        "#     resp = requests.get(url)\n",
        "#     html_doc = BeautifulSoup(resp.text, 'html.parser')\n",
        "#     title_tag = html_doc.select('article.product_pod h3 a')\n",
        "#     title = [tag['title'] for tag in title_tag ]\n",
        "#     pprint.pprint(title)"
      ],
      "execution_count": null,
      "outputs": []
    },
    {
      "cell_type": "markdown",
      "metadata": {
        "id": "p2JaCbm_5nUH"
      },
      "source": [
        "func for check count no."
      ]
    },
    {
      "cell_type": "code",
      "metadata": {
        "id": "w3Fm2tTC4FIs"
      },
      "source": [
        "# def get_books_per_category(url):\n",
        "#     count = 1\n",
        "#     title = []\n",
        "#     temp_url = url.replace('index','page-1')\n",
        "#     if requests.get(temp_url).status_code == 200:\n",
        "#         url = temp_url\n",
        "#         while requests.get(url).status_code == 200:\n",
        "#             print(url)\n",
        "#             url = url.replace(f'page-{count}',f'page-{count+1}')\n",
        "#             count = count+1\n",
        "#             print(count)\n",
        "#     else:\n",
        "#         print(url)\n",
        "    \n",
        "# get_books_per_category('http://books.toscrape.com/catalogue/category/books/mystery_3/index.html')"
      ],
      "execution_count": null,
      "outputs": []
    },
    {
      "cell_type": "markdown",
      "metadata": {
        "id": "vu0mKt9r5rnG"
      },
      "source": [
        "func for get `nth` url book's title "
      ]
    },
    {
      "cell_type": "code",
      "metadata": {
        "id": "LA1c4ha71YZa"
      },
      "source": [
        "def get_title(html_doc):\n",
        "    title_tag = html_doc.select('article.product_pod h3 a')\n",
        "    title = [tag['title'] for tag in title_tag ]\n",
        "    return title\n",
        "\n",
        "def get_books_per_category(url):\n",
        "    count = 1\n",
        "    title = []\n",
        "    temp_url = url.replace('index','page-1')\n",
        "    if requests.get(temp_url).status_code == 200:\n",
        "        url = temp_url\n",
        "        while requests.get(url).status_code == 200:\n",
        "            resp = requests.get(url)\n",
        "            html_doc = BeautifulSoup(resp.text, 'html.parser')\n",
        "            title = title + get_title(html_doc)\n",
        "            url = url.replace(f'page-{count}',f'page-{count+1}')\n",
        "            count = count+1\n",
        "    else:\n",
        "        resp = requests.get(url)\n",
        "        html_doc = BeautifulSoup(resp.text, 'html.parser')\n",
        "        title = title + get_title(html_doc)\n",
        "    pprint.pprint(title)"
      ],
      "execution_count": null,
      "outputs": []
    },
    {
      "cell_type": "markdown",
      "metadata": {
        "id": "OO4XFNyu54SX"
      },
      "source": [
        "func for get category title and url and scrape book's title"
      ]
    },
    {
      "cell_type": "code",
      "metadata": {
        "id": "65Db6f-ceoEH"
      },
      "source": [
        "def get_caregory_title_and_url(html_doc):\n",
        "    category_tag = html_doc.select_one('ul.nav.nav-list').select_one('ul').find_all('li')\n",
        "    category_title = [tag.text.strip() for tag in category_tag]\n",
        "    category_url = ['http://books.toscrape.com/'+tag.a['href'] for tag in category_tag]\n",
        "    return category_title, category_url\n",
        "\n",
        "def scrape_all_category():\n",
        "    url = 'http://books.toscrape.com/'\n",
        "    resp = requests.get(url)\n",
        "    html_doc = BeautifulSoup(resp.text, 'html.parser')\n",
        "    category_title, category_url = get_caregory_title_and_url(html_doc)\n",
        "    caregory_dict= {'category_title' : category_title, 'category_url' : category_url }\n",
        "    for i,url in enumerate(category_url):\n",
        "        if i<2:\n",
        "            get_books_per_category(url)\n",
        "        else:\n",
        "            break\n",
        "    return caregory_dict"
      ],
      "execution_count": 1,
      "outputs": []
    },
    {
      "cell_type": "code",
      "metadata": {
        "colab": {
          "base_uri": "https://localhost:8080/",
          "height": 1000
        },
        "id": "wmNRs8queoAl",
        "outputId": "5a1e73d8-809c-41f6-ba3a-cf6eb1b51ced"
      },
      "source": [
        "pd.DataFrame(scrape_all_category())"
      ],
      "execution_count": null,
      "outputs": [
        {
          "output_type": "stream",
          "text": [
            "[\"It's Only the Himalayas\",\n",
            " 'Full Moon over Noahâ\\x80\\x99s Ark: An Odyssey to Mount Ararat and Beyond',\n",
            " 'See America: A Celebration of Our National Parks & Treasured Sites',\n",
            " 'Vagabonding: An Uncommon Guide to the Art of Long-Term World Travel',\n",
            " 'Under the Tuscan Sun',\n",
            " 'A Summer In Europe',\n",
            " 'The Great Railway Bazaar',\n",
            " 'A Year in Provence (Provence #1)',\n",
            " 'The Road to Little Dribbling: Adventures of an American in Britain (Notes '\n",
            " 'From a Small Island #2)',\n",
            " 'Neither Here nor There: Travels in Europe',\n",
            " '1,000 Places to See Before You Die']\n",
            "['Sharp Objects',\n",
            " 'In a Dark, Dark Wood',\n",
            " 'The Past Never Ends',\n",
            " 'A Murder in Time',\n",
            " 'The Murder of Roger Ackroyd (Hercule Poirot #4)',\n",
            " 'The Last Mile (Amos Decker #2)',\n",
            " 'That Darkness (Gardiner and Renner #1)',\n",
            " 'Tastes Like Fear (DI Marnie Rome #3)',\n",
            " 'A Time of Torment (Charlie Parker #14)',\n",
            " 'A Study in Scarlet (Sherlock Holmes #1)',\n",
            " 'Poisonous (Max Revere Novels #3)',\n",
            " 'Murder at the 42nd Street Library (Raymond Ambler #1)',\n",
            " 'Most Wanted',\n",
            " 'Hide Away (Eve Duncan #20)',\n",
            " 'Boar Island (Anna Pigeon #19)',\n",
            " 'The Widow',\n",
            " 'Playing with Fire',\n",
            " 'What Happened on Beale Street (Secrets of the South Mysteries #2)',\n",
            " \"The Bachelor Girl's Guide to Murder (Herringford and Watts Mysteries #1)\",\n",
            " 'Delivering the Truth (Quaker Midwife Mystery #1)',\n",
            " 'The Mysterious Affair at Styles (Hercule Poirot #1)',\n",
            " 'In the Woods (Dublin Murder Squad #1)',\n",
            " 'The Silkworm (Cormoran Strike #2)',\n",
            " 'The Exiled',\n",
            " \"The Cuckoo's Calling (Cormoran Strike #1)\",\n",
            " 'Extreme Prey (Lucas Davenport #26)',\n",
            " 'Career of Evil (Cormoran Strike #3)',\n",
            " \"The No. 1 Ladies' Detective Agency (No. 1 Ladies' Detective Agency #1)\",\n",
            " 'The Girl You Lost',\n",
            " 'The Girl In The Ice (DCI Erika Foster #1)',\n",
            " 'Blood Defense (Samantha Brinkman #1)',\n",
            " \"1st to Die (Women's Murder Club #1)\"]\n"
          ],
          "name": "stdout"
        },
        {
          "output_type": "execute_result",
          "data": {
            "text/html": [
              "<div>\n",
              "<style scoped>\n",
              "    .dataframe tbody tr th:only-of-type {\n",
              "        vertical-align: middle;\n",
              "    }\n",
              "\n",
              "    .dataframe tbody tr th {\n",
              "        vertical-align: top;\n",
              "    }\n",
              "\n",
              "    .dataframe thead th {\n",
              "        text-align: right;\n",
              "    }\n",
              "</style>\n",
              "<table border=\"1\" class=\"dataframe\">\n",
              "  <thead>\n",
              "    <tr style=\"text-align: right;\">\n",
              "      <th></th>\n",
              "      <th>category_title</th>\n",
              "      <th>category_url</th>\n",
              "    </tr>\n",
              "  </thead>\n",
              "  <tbody>\n",
              "    <tr>\n",
              "      <th>0</th>\n",
              "      <td>Travel</td>\n",
              "      <td>http://books.toscrape.com/catalogue/category/b...</td>\n",
              "    </tr>\n",
              "    <tr>\n",
              "      <th>1</th>\n",
              "      <td>Mystery</td>\n",
              "      <td>http://books.toscrape.com/catalogue/category/b...</td>\n",
              "    </tr>\n",
              "    <tr>\n",
              "      <th>2</th>\n",
              "      <td>Historical Fiction</td>\n",
              "      <td>http://books.toscrape.com/catalogue/category/b...</td>\n",
              "    </tr>\n",
              "    <tr>\n",
              "      <th>3</th>\n",
              "      <td>Sequential Art</td>\n",
              "      <td>http://books.toscrape.com/catalogue/category/b...</td>\n",
              "    </tr>\n",
              "    <tr>\n",
              "      <th>4</th>\n",
              "      <td>Classics</td>\n",
              "      <td>http://books.toscrape.com/catalogue/category/b...</td>\n",
              "    </tr>\n",
              "    <tr>\n",
              "      <th>5</th>\n",
              "      <td>Philosophy</td>\n",
              "      <td>http://books.toscrape.com/catalogue/category/b...</td>\n",
              "    </tr>\n",
              "    <tr>\n",
              "      <th>6</th>\n",
              "      <td>Romance</td>\n",
              "      <td>http://books.toscrape.com/catalogue/category/b...</td>\n",
              "    </tr>\n",
              "    <tr>\n",
              "      <th>7</th>\n",
              "      <td>Womens Fiction</td>\n",
              "      <td>http://books.toscrape.com/catalogue/category/b...</td>\n",
              "    </tr>\n",
              "    <tr>\n",
              "      <th>8</th>\n",
              "      <td>Fiction</td>\n",
              "      <td>http://books.toscrape.com/catalogue/category/b...</td>\n",
              "    </tr>\n",
              "    <tr>\n",
              "      <th>9</th>\n",
              "      <td>Childrens</td>\n",
              "      <td>http://books.toscrape.com/catalogue/category/b...</td>\n",
              "    </tr>\n",
              "    <tr>\n",
              "      <th>10</th>\n",
              "      <td>Religion</td>\n",
              "      <td>http://books.toscrape.com/catalogue/category/b...</td>\n",
              "    </tr>\n",
              "    <tr>\n",
              "      <th>11</th>\n",
              "      <td>Nonfiction</td>\n",
              "      <td>http://books.toscrape.com/catalogue/category/b...</td>\n",
              "    </tr>\n",
              "    <tr>\n",
              "      <th>12</th>\n",
              "      <td>Music</td>\n",
              "      <td>http://books.toscrape.com/catalogue/category/b...</td>\n",
              "    </tr>\n",
              "    <tr>\n",
              "      <th>13</th>\n",
              "      <td>Default</td>\n",
              "      <td>http://books.toscrape.com/catalogue/category/b...</td>\n",
              "    </tr>\n",
              "    <tr>\n",
              "      <th>14</th>\n",
              "      <td>Science Fiction</td>\n",
              "      <td>http://books.toscrape.com/catalogue/category/b...</td>\n",
              "    </tr>\n",
              "    <tr>\n",
              "      <th>15</th>\n",
              "      <td>Sports and Games</td>\n",
              "      <td>http://books.toscrape.com/catalogue/category/b...</td>\n",
              "    </tr>\n",
              "    <tr>\n",
              "      <th>16</th>\n",
              "      <td>Add a comment</td>\n",
              "      <td>http://books.toscrape.com/catalogue/category/b...</td>\n",
              "    </tr>\n",
              "    <tr>\n",
              "      <th>17</th>\n",
              "      <td>Fantasy</td>\n",
              "      <td>http://books.toscrape.com/catalogue/category/b...</td>\n",
              "    </tr>\n",
              "    <tr>\n",
              "      <th>18</th>\n",
              "      <td>New Adult</td>\n",
              "      <td>http://books.toscrape.com/catalogue/category/b...</td>\n",
              "    </tr>\n",
              "    <tr>\n",
              "      <th>19</th>\n",
              "      <td>Young Adult</td>\n",
              "      <td>http://books.toscrape.com/catalogue/category/b...</td>\n",
              "    </tr>\n",
              "    <tr>\n",
              "      <th>20</th>\n",
              "      <td>Science</td>\n",
              "      <td>http://books.toscrape.com/catalogue/category/b...</td>\n",
              "    </tr>\n",
              "    <tr>\n",
              "      <th>21</th>\n",
              "      <td>Poetry</td>\n",
              "      <td>http://books.toscrape.com/catalogue/category/b...</td>\n",
              "    </tr>\n",
              "    <tr>\n",
              "      <th>22</th>\n",
              "      <td>Paranormal</td>\n",
              "      <td>http://books.toscrape.com/catalogue/category/b...</td>\n",
              "    </tr>\n",
              "    <tr>\n",
              "      <th>23</th>\n",
              "      <td>Art</td>\n",
              "      <td>http://books.toscrape.com/catalogue/category/b...</td>\n",
              "    </tr>\n",
              "    <tr>\n",
              "      <th>24</th>\n",
              "      <td>Psychology</td>\n",
              "      <td>http://books.toscrape.com/catalogue/category/b...</td>\n",
              "    </tr>\n",
              "    <tr>\n",
              "      <th>25</th>\n",
              "      <td>Autobiography</td>\n",
              "      <td>http://books.toscrape.com/catalogue/category/b...</td>\n",
              "    </tr>\n",
              "    <tr>\n",
              "      <th>26</th>\n",
              "      <td>Parenting</td>\n",
              "      <td>http://books.toscrape.com/catalogue/category/b...</td>\n",
              "    </tr>\n",
              "    <tr>\n",
              "      <th>27</th>\n",
              "      <td>Adult Fiction</td>\n",
              "      <td>http://books.toscrape.com/catalogue/category/b...</td>\n",
              "    </tr>\n",
              "    <tr>\n",
              "      <th>28</th>\n",
              "      <td>Humor</td>\n",
              "      <td>http://books.toscrape.com/catalogue/category/b...</td>\n",
              "    </tr>\n",
              "    <tr>\n",
              "      <th>29</th>\n",
              "      <td>Horror</td>\n",
              "      <td>http://books.toscrape.com/catalogue/category/b...</td>\n",
              "    </tr>\n",
              "    <tr>\n",
              "      <th>30</th>\n",
              "      <td>History</td>\n",
              "      <td>http://books.toscrape.com/catalogue/category/b...</td>\n",
              "    </tr>\n",
              "    <tr>\n",
              "      <th>31</th>\n",
              "      <td>Food and Drink</td>\n",
              "      <td>http://books.toscrape.com/catalogue/category/b...</td>\n",
              "    </tr>\n",
              "    <tr>\n",
              "      <th>32</th>\n",
              "      <td>Christian Fiction</td>\n",
              "      <td>http://books.toscrape.com/catalogue/category/b...</td>\n",
              "    </tr>\n",
              "    <tr>\n",
              "      <th>33</th>\n",
              "      <td>Business</td>\n",
              "      <td>http://books.toscrape.com/catalogue/category/b...</td>\n",
              "    </tr>\n",
              "    <tr>\n",
              "      <th>34</th>\n",
              "      <td>Biography</td>\n",
              "      <td>http://books.toscrape.com/catalogue/category/b...</td>\n",
              "    </tr>\n",
              "    <tr>\n",
              "      <th>35</th>\n",
              "      <td>Thriller</td>\n",
              "      <td>http://books.toscrape.com/catalogue/category/b...</td>\n",
              "    </tr>\n",
              "    <tr>\n",
              "      <th>36</th>\n",
              "      <td>Contemporary</td>\n",
              "      <td>http://books.toscrape.com/catalogue/category/b...</td>\n",
              "    </tr>\n",
              "    <tr>\n",
              "      <th>37</th>\n",
              "      <td>Spirituality</td>\n",
              "      <td>http://books.toscrape.com/catalogue/category/b...</td>\n",
              "    </tr>\n",
              "    <tr>\n",
              "      <th>38</th>\n",
              "      <td>Academic</td>\n",
              "      <td>http://books.toscrape.com/catalogue/category/b...</td>\n",
              "    </tr>\n",
              "    <tr>\n",
              "      <th>39</th>\n",
              "      <td>Self Help</td>\n",
              "      <td>http://books.toscrape.com/catalogue/category/b...</td>\n",
              "    </tr>\n",
              "    <tr>\n",
              "      <th>40</th>\n",
              "      <td>Historical</td>\n",
              "      <td>http://books.toscrape.com/catalogue/category/b...</td>\n",
              "    </tr>\n",
              "    <tr>\n",
              "      <th>41</th>\n",
              "      <td>Christian</td>\n",
              "      <td>http://books.toscrape.com/catalogue/category/b...</td>\n",
              "    </tr>\n",
              "    <tr>\n",
              "      <th>42</th>\n",
              "      <td>Suspense</td>\n",
              "      <td>http://books.toscrape.com/catalogue/category/b...</td>\n",
              "    </tr>\n",
              "    <tr>\n",
              "      <th>43</th>\n",
              "      <td>Short Stories</td>\n",
              "      <td>http://books.toscrape.com/catalogue/category/b...</td>\n",
              "    </tr>\n",
              "    <tr>\n",
              "      <th>44</th>\n",
              "      <td>Novels</td>\n",
              "      <td>http://books.toscrape.com/catalogue/category/b...</td>\n",
              "    </tr>\n",
              "    <tr>\n",
              "      <th>45</th>\n",
              "      <td>Health</td>\n",
              "      <td>http://books.toscrape.com/catalogue/category/b...</td>\n",
              "    </tr>\n",
              "    <tr>\n",
              "      <th>46</th>\n",
              "      <td>Politics</td>\n",
              "      <td>http://books.toscrape.com/catalogue/category/b...</td>\n",
              "    </tr>\n",
              "    <tr>\n",
              "      <th>47</th>\n",
              "      <td>Cultural</td>\n",
              "      <td>http://books.toscrape.com/catalogue/category/b...</td>\n",
              "    </tr>\n",
              "    <tr>\n",
              "      <th>48</th>\n",
              "      <td>Erotica</td>\n",
              "      <td>http://books.toscrape.com/catalogue/category/b...</td>\n",
              "    </tr>\n",
              "    <tr>\n",
              "      <th>49</th>\n",
              "      <td>Crime</td>\n",
              "      <td>http://books.toscrape.com/catalogue/category/b...</td>\n",
              "    </tr>\n",
              "  </tbody>\n",
              "</table>\n",
              "</div>"
            ],
            "text/plain": [
              "        category_title                                       category_url\n",
              "0               Travel  http://books.toscrape.com/catalogue/category/b...\n",
              "1              Mystery  http://books.toscrape.com/catalogue/category/b...\n",
              "2   Historical Fiction  http://books.toscrape.com/catalogue/category/b...\n",
              "3       Sequential Art  http://books.toscrape.com/catalogue/category/b...\n",
              "4             Classics  http://books.toscrape.com/catalogue/category/b...\n",
              "5           Philosophy  http://books.toscrape.com/catalogue/category/b...\n",
              "6              Romance  http://books.toscrape.com/catalogue/category/b...\n",
              "7       Womens Fiction  http://books.toscrape.com/catalogue/category/b...\n",
              "8              Fiction  http://books.toscrape.com/catalogue/category/b...\n",
              "9            Childrens  http://books.toscrape.com/catalogue/category/b...\n",
              "10            Religion  http://books.toscrape.com/catalogue/category/b...\n",
              "11          Nonfiction  http://books.toscrape.com/catalogue/category/b...\n",
              "12               Music  http://books.toscrape.com/catalogue/category/b...\n",
              "13             Default  http://books.toscrape.com/catalogue/category/b...\n",
              "14     Science Fiction  http://books.toscrape.com/catalogue/category/b...\n",
              "15    Sports and Games  http://books.toscrape.com/catalogue/category/b...\n",
              "16       Add a comment  http://books.toscrape.com/catalogue/category/b...\n",
              "17             Fantasy  http://books.toscrape.com/catalogue/category/b...\n",
              "18           New Adult  http://books.toscrape.com/catalogue/category/b...\n",
              "19         Young Adult  http://books.toscrape.com/catalogue/category/b...\n",
              "20             Science  http://books.toscrape.com/catalogue/category/b...\n",
              "21              Poetry  http://books.toscrape.com/catalogue/category/b...\n",
              "22          Paranormal  http://books.toscrape.com/catalogue/category/b...\n",
              "23                 Art  http://books.toscrape.com/catalogue/category/b...\n",
              "24          Psychology  http://books.toscrape.com/catalogue/category/b...\n",
              "25       Autobiography  http://books.toscrape.com/catalogue/category/b...\n",
              "26           Parenting  http://books.toscrape.com/catalogue/category/b...\n",
              "27       Adult Fiction  http://books.toscrape.com/catalogue/category/b...\n",
              "28               Humor  http://books.toscrape.com/catalogue/category/b...\n",
              "29              Horror  http://books.toscrape.com/catalogue/category/b...\n",
              "30             History  http://books.toscrape.com/catalogue/category/b...\n",
              "31      Food and Drink  http://books.toscrape.com/catalogue/category/b...\n",
              "32   Christian Fiction  http://books.toscrape.com/catalogue/category/b...\n",
              "33            Business  http://books.toscrape.com/catalogue/category/b...\n",
              "34           Biography  http://books.toscrape.com/catalogue/category/b...\n",
              "35            Thriller  http://books.toscrape.com/catalogue/category/b...\n",
              "36        Contemporary  http://books.toscrape.com/catalogue/category/b...\n",
              "37        Spirituality  http://books.toscrape.com/catalogue/category/b...\n",
              "38            Academic  http://books.toscrape.com/catalogue/category/b...\n",
              "39           Self Help  http://books.toscrape.com/catalogue/category/b...\n",
              "40          Historical  http://books.toscrape.com/catalogue/category/b...\n",
              "41           Christian  http://books.toscrape.com/catalogue/category/b...\n",
              "42            Suspense  http://books.toscrape.com/catalogue/category/b...\n",
              "43       Short Stories  http://books.toscrape.com/catalogue/category/b...\n",
              "44              Novels  http://books.toscrape.com/catalogue/category/b...\n",
              "45              Health  http://books.toscrape.com/catalogue/category/b...\n",
              "46            Politics  http://books.toscrape.com/catalogue/category/b...\n",
              "47            Cultural  http://books.toscrape.com/catalogue/category/b...\n",
              "48             Erotica  http://books.toscrape.com/catalogue/category/b...\n",
              "49               Crime  http://books.toscrape.com/catalogue/category/b..."
            ]
          },
          "metadata": {
            "tags": []
          },
          "execution_count": 98
        }
      ]
    },
    {
      "cell_type": "code",
      "metadata": {
        "id": "6TL7EXuT7WsM"
      },
      "source": [
        ""
      ],
      "execution_count": null,
      "outputs": []
    }
  ]
}