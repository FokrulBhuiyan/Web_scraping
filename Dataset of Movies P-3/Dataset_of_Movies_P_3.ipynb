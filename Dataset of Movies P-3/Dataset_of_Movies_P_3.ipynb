{
  "nbformat": 4,
  "nbformat_minor": 0,
  "metadata": {
    "colab": {
      "name": "Dataset of Movies P-3.ipynb",
      "provenance": [],
      "collapsed_sections": []
    },
    "kernelspec": {
      "name": "python3",
      "display_name": "Python 3"
    },
    "language_info": {
      "name": "python"
    }
  },
  "cells": [
    {
      "cell_type": "markdown",
      "metadata": {
        "id": "otIyTuaUwgHy"
      },
      "source": [
        "## Dataset of Movies\n",
        "- Scrape link : https://www.themoviedb.org/movie\n",
        "- get  title, release date, cost, url, genres(action/horror), runtime"
      ]
    },
    {
      "cell_type": "markdown",
      "metadata": {
        "id": "FYxPiLQwKs3r"
      },
      "source": [
        "## Page load with lib\n",
        "- get the page with `request`\n",
        "- Use `Bs4` for webpage Process\n",
        "- Collect the info\n",
        "- Create the func\n",
        "- Create `CSV` with that info"
      ]
    },
    {
      "cell_type": "markdown",
      "metadata": {
        "id": "IdbAbxbCX4NE"
      },
      "source": [
        "libs"
      ]
    },
    {
      "cell_type": "code",
      "metadata": {
        "id": "YxpwOXIMKsJh"
      },
      "source": [
        "import requests\n",
        "from bs4 import BeautifulSoup\n",
        "import pprint\n",
        "import pandas as pd"
      ],
      "execution_count": null,
      "outputs": []
    },
    {
      "cell_type": "markdown",
      "metadata": {
        "id": "gDUEqeD4Arqy"
      },
      "source": [
        "## scrape a single movie\n",
        "- release date, genres, runtime\n",
        "- movie link: https://www.themoviedb.org/movie/460465"
      ]
    },
    {
      "cell_type": "code",
      "metadata": {
        "id": "bB5Xfw8_X7hQ"
      },
      "source": [
        "url = 'https://www.themoviedb.org/movie/460465'\n",
        "resp = requests.get(url)\n",
        "html_doc = BeautifulSoup(resp.text, 'html.parser')"
      ],
      "execution_count": null,
      "outputs": []
    },
    {
      "cell_type": "code",
      "metadata": {
        "colab": {
          "base_uri": "https://localhost:8080/",
          "height": 34
        },
        "id": "fzYKu3MshOUF",
        "outputId": "c3e4421f-85a5-4551-ed2a-095e15b4631d"
      },
      "source": [
        "release_date_tag = html_doc.select_one('.release')\n",
        "release_date = release_date_tag.text.strip().split(' ')[0]\n",
        "release_date"
      ],
      "execution_count": null,
      "outputs": [
        {
          "output_type": "execute_result",
          "data": {
            "application/vnd.google.colaboratory.intrinsic+json": {
              "type": "string"
            },
            "text/plain": [
              "'04/23/2021'"
            ]
          },
          "metadata": {
            "tags": []
          },
          "execution_count": 4
        }
      ]
    },
    {
      "cell_type": "code",
      "metadata": {
        "colab": {
          "base_uri": "https://localhost:8080/",
          "height": 34
        },
        "id": "d72jT76ihONy",
        "outputId": "6e0dbe5b-cd86-49db-9f06-789af6ae8984"
      },
      "source": [
        "genres_tag = html_doc.select_one('.genres')\n",
        "genres = genres_tag.text.strip().replace(\"\\xa0\", \"\") \n",
        "genres"
      ],
      "execution_count": null,
      "outputs": [
        {
          "output_type": "execute_result",
          "data": {
            "application/vnd.google.colaboratory.intrinsic+json": {
              "type": "string"
            },
            "text/plain": [
              "'Action,Fantasy,Adventure,Science Fiction'"
            ]
          },
          "metadata": {
            "tags": []
          },
          "execution_count": 5
        }
      ]
    },
    {
      "cell_type": "code",
      "metadata": {
        "colab": {
          "base_uri": "https://localhost:8080/",
          "height": 34
        },
        "id": "p7al3X0fl8S-",
        "outputId": "38e523b5-3d6c-4bec-b983-40c92c4e3b0f"
      },
      "source": [
        "runtime_tag = html_doc.select_one('.runtime')\n",
        "runtime = runtime_tag.text.strip()\n",
        "runtime"
      ],
      "execution_count": null,
      "outputs": [
        {
          "output_type": "execute_result",
          "data": {
            "application/vnd.google.colaboratory.intrinsic+json": {
              "type": "string"
            },
            "text/plain": [
              "'1h 50m'"
            ]
          },
          "metadata": {
            "tags": []
          },
          "execution_count": 6
        }
      ]
    },
    {
      "cell_type": "code",
      "metadata": {
        "colab": {
          "base_uri": "https://localhost:8080/",
          "height": 34
        },
        "id": "gDSB6hmUl8P3",
        "outputId": "4240f356-1c91-4b51-a678-e2371b6e4494"
      },
      "source": [
        "budget_tag = html_doc.find(\"section\",{'class': 'facts left_column'}).find_all('p')\n",
        "budget = budget_tag[2].text.split(' ')[1]\n",
        "budget"
      ],
      "execution_count": null,
      "outputs": [
        {
          "output_type": "execute_result",
          "data": {
            "application/vnd.google.colaboratory.intrinsic+json": {
              "type": "string"
            },
            "text/plain": [
              "'$20,000,000.00'"
            ]
          },
          "metadata": {
            "tags": []
          },
          "execution_count": 7
        }
      ]
    },
    {
      "cell_type": "markdown",
      "metadata": {
        "id": "VUH1VBYoApvL"
      },
      "source": [
        "## scrape source link\n",
        "- title, url\n",
        "- url: https://www.themoviedb.org/movie"
      ]
    },
    {
      "cell_type": "code",
      "metadata": {
        "id": "b-6iWICXl8NB"
      },
      "source": [
        "url = 'https://www.themoviedb.org/movie'\n",
        "resp = requests.get(url)\n",
        "html_doc = BeautifulSoup(resp.text, 'html.parser')"
      ],
      "execution_count": null,
      "outputs": []
    },
    {
      "cell_type": "code",
      "metadata": {
        "id": "rBV5oj_Ol8Kl",
        "colab": {
          "base_uri": "https://localhost:8080/",
          "height": 34
        },
        "outputId": "dbace33d-29d7-419e-c76a-f81fa72c1bd7"
      },
      "source": [
        "title_tag = html_doc.find_all('div',{'class':'content'})\n",
        "# title_tag = html_doc.select('.page_wrapper > div.content')\n",
        "title_tag = [t.select_one('h2 > a') for t in title_tag ]\n",
        "# title = title_tag[0].text\n",
        "# title_tag[0].text\n",
        "del title_tag[0]\n",
        "title_tag[0].get('href')"
      ],
      "execution_count": null,
      "outputs": [
        {
          "output_type": "execute_result",
          "data": {
            "application/vnd.google.colaboratory.intrinsic+json": {
              "type": "string"
            },
            "text/plain": [
              "'/movie/460465'"
            ]
          },
          "metadata": {
            "tags": []
          },
          "execution_count": 99
        }
      ]
    },
    {
      "cell_type": "code",
      "metadata": {
        "id": "xxhsiWifl8HI",
        "colab": {
          "base_uri": "https://localhost:8080/"
        },
        "outputId": "6bf9cc14-d2a3-4a3f-ca5d-966ed9907b13"
      },
      "source": [
        "title_tag"
      ],
      "execution_count": null,
      "outputs": [
        {
          "output_type": "execute_result",
          "data": {
            "text/plain": [
              "[<a href=\"/movie/460465\" title=\"Mortal Kombat\">Mortal Kombat</a>,\n",
              " <a href=\"/movie/460465\" title=\"Mortal Kombat\">Mortal Kombat</a>,\n",
              " <a href=\"/movie/399566\" title=\"Godzilla vs. Kong\">Godzilla vs. Kong</a>,\n",
              " <a href=\"/movie/615457\" title=\"Nobody\">Nobody</a>,\n",
              " <a href=\"/movie/567189\" title=\"Tom Clancy's Without Remorse\">Tom Clancy's Without Remorse</a>,\n",
              " <a href=\"/movie/804435\" title=\"Vanquish\">Vanquish</a>,\n",
              " <a href=\"/movie/635302\" title=\"Demon Slayer -Kimetsu no Yaiba- The Movie: Mugen Train\">Demon Slayer -Kimetsu no Yaiba- The Movie: Mugen Train</a>,\n",
              " <a href=\"/movie/632357\" title=\"The Unholy\">The Unholy</a>,\n",
              " <a href=\"/movie/726684\" title=\"Miraculous World: Shanghai – The Legend of Ladydragon\">Miraculous World: Shanghai – The Legend of Ladydragon</a>,\n",
              " <a href=\"/movie/791373\" title=\"Zack Snyder's Justice League\">Zack Snyder's Justice League</a>,\n",
              " <a href=\"/movie/813258\" title=\"Monster Pets: A Hotel Transylvania Short\">Monster Pets: A Hotel Transylvania Short</a>,\n",
              " <a href=\"/movie/634528\" title=\"The Marksman\">The Marksman</a>,\n",
              " <a href=\"/movie/527774\" title=\"Raya and the Last Dragon\">Raya and the Last Dragon</a>,\n",
              " <a href=\"/movie/615678\" title=\"Thunder Force\">Thunder Force</a>,\n",
              " <a href=\"/movie/412656\" title=\"Chaos Walking\">Chaos Walking</a>,\n",
              " <a href=\"/movie/736069\" title=\"Justice Society: World War II\">Justice Society: World War II</a>,\n",
              " <a href=\"/movie/647302\" title=\"Benny Loves You\">Benny Loves You</a>,\n",
              " <a href=\"/movie/793723\" title=\"Sentinelle\">Sentinelle</a>,\n",
              " <a href=\"/movie/458576\" title=\"Monster Hunter\">Monster Hunter</a>,\n",
              " <a href=\"/movie/587996\" title=\"Below Zero\">Below Zero</a>,\n",
              " <a href=\"/movie/544401\" title=\"Cherry\">Cherry</a>,\n",
              " None]"
            ]
          },
          "metadata": {
            "tags": []
          },
          "execution_count": 97
        }
      ]
    },
    {
      "cell_type": "markdown",
      "metadata": {
        "id": "Pra9a-tOTT7H"
      },
      "source": [
        "## scrape source link with func.\n",
        "- url: https://www.themoviedb.org/movie"
      ]
    },
    {
      "cell_type": "code",
      "metadata": {
        "id": "F6_gjDqWj4S_"
      },
      "source": [
        "movies_dict = {\n",
        "    'title': [],\n",
        "    'release_date': [],\n",
        "    'genres': [],\n",
        "    'runtime':[],\n",
        "    'url':[]\n",
        "}"
      ],
      "execution_count": null,
      "outputs": []
    },
    {
      "cell_type": "markdown",
      "metadata": {
        "id": "awMkOaLxk4xI"
      },
      "source": [
        "func for each movie details\n",
        "- get release date, runtime, genres"
      ]
    },
    {
      "cell_type": "code",
      "metadata": {
        "id": "jFYWNTw8TQRt"
      },
      "source": [
        "def get_relese_date(html_doc):\n",
        "    release_date_tag = html_doc.select_one('.release')\n",
        "    release_date = release_date_tag.text.strip()\n",
        "    return release_date\n",
        "\n",
        "def get_genres(html_doc):\n",
        "    genres_tag = html_doc.select_one('.genres')\n",
        "    genres = genres_tag.text.strip().replace(\"\\xa0\", \"\")\n",
        "    return genres\n",
        "\n",
        "def get_runtime(html_doc):\n",
        "    runtime_tag = html_doc.select_one('.runtime')\n",
        "    runtime = runtime_tag.text.strip()\n",
        "    return runtime\n",
        "    \n",
        "def get_each_movie_details(url):\n",
        "    resp = requests.get(url)\n",
        "    html_doc = BeautifulSoup(resp.text, 'html.parser')\n",
        "    return get_relese_date(html_doc), get_genres(html_doc), get_runtime(html_doc)\n"
      ],
      "execution_count": null,
      "outputs": []
    },
    {
      "cell_type": "markdown",
      "metadata": {
        "id": "VGZATKuulFag"
      },
      "source": [
        "func for single page data scrape\n",
        "- get title, url\n",
        "- add all in dict"
      ]
    },
    {
      "cell_type": "code",
      "metadata": {
        "id": "Eu8NwRJ_TQOk"
      },
      "source": [
        "def scrape_movies(html_doc):\n",
        "\n",
        "    a_tag = html_doc.find_all('div',{'class':'content'})\n",
        "    a_tag = [t.select_one('h2 > a') for t in a_tag ]\n",
        "    for item in a_tag:\n",
        "        if item!= None:\n",
        "            movies_dict['title'].append(item.text)\n",
        "            url = 'https://www.themoviedb.org/'+item.get('href',None)\n",
        "            release_date, genres, runtime = get_each_movie_details(url)\n",
        "            movies_dict['release_date'].append(release_date)\n",
        "            movies_dict['genres'].append(genres)\n",
        "            movies_dict[ 'runtime'].append(runtime)\n",
        "            movies_dict['url'].append(url)\n",
        "\n"
      ],
      "execution_count": null,
      "outputs": []
    },
    {
      "cell_type": "markdown",
      "metadata": {
        "id": "Ighy2B5XlcVD"
      },
      "source": [
        "func for get nth page \n",
        "- collect each html doc per page"
      ]
    },
    {
      "cell_type": "code",
      "metadata": {
        "id": "3ctIuH7Kgm9w"
      },
      "source": [
        "def get_data(page):\n",
        "    data = {\n",
        "    'air_date.gte': '',\n",
        "    'air_date.lte': '2021-11-09',\n",
        "    'certification': '',\n",
        "    'certification_country': 'BD',\n",
        "    'debug': '',\n",
        "    'first_air_date.gte': '',\n",
        "    'first_air_date.lte': '',\n",
        "    'ott_region': 'AR',\n",
        "    'page': '1',\n",
        "    'primary_release_date.gte': '',\n",
        "    'primary_release_date.lte': '',\n",
        "    'region': '',\n",
        "    'release_date.gte': '',\n",
        "    'release_date.lte': '2021-11-09',\n",
        "    'show_me': '0',\n",
        "    'sort_by': 'popularity.desc',\n",
        "    'vote_average.gte': '0',\n",
        "    'vote_average.lte': '10',\n",
        "    'vote_count.gte': '',\n",
        "    'with_genres': '',\n",
        "    'with_keywords': '',\n",
        "    'with_networks': '',\n",
        "    'with_origin_country': '',\n",
        "    'with_original_language': '',\n",
        "    'with_ott_monetization_types': '',\n",
        "    'with_ott_providers': '',\n",
        "    'with_release_type': '',\n",
        "    'with_runtime.gte': '0',\n",
        "    'with_runtime.lte': '400'\n",
        "    }\n",
        "    data['page'] = page\n",
        "    return data\n",
        "\n",
        "def scrape_nth_page(pages):\n",
        "    for page in range(1,pages+1):\n",
        "        response = requests.post('https://www.themoviedb.org/discover/movie/items', data=get_data(page))\n",
        "        html_doc = BeautifulSoup(response.text, 'html.parser')\n",
        "        scrape_movies(html_doc)"
      ],
      "execution_count": null,
      "outputs": []
    },
    {
      "cell_type": "code",
      "metadata": {
        "id": "CH0UV26rgm6i"
      },
      "source": [
        "scrape_nth_page(2)"
      ],
      "execution_count": null,
      "outputs": []
    },
    {
      "cell_type": "code",
      "metadata": {
        "colab": {
          "base_uri": "https://localhost:8080/",
          "height": 1000
        },
        "id": "fF74zASVTQLX",
        "outputId": "b9810f24-c803-43b9-f31b-59bcb0420b0d"
      },
      "source": [
        "pd.DataFrame(movies_dict)"
      ],
      "execution_count": null,
      "outputs": [
        {
          "output_type": "execute_result",
          "data": {
            "text/html": [
              "<div>\n",
              "<style scoped>\n",
              "    .dataframe tbody tr th:only-of-type {\n",
              "        vertical-align: middle;\n",
              "    }\n",
              "\n",
              "    .dataframe tbody tr th {\n",
              "        vertical-align: top;\n",
              "    }\n",
              "\n",
              "    .dataframe thead th {\n",
              "        text-align: right;\n",
              "    }\n",
              "</style>\n",
              "<table border=\"1\" class=\"dataframe\">\n",
              "  <thead>\n",
              "    <tr style=\"text-align: right;\">\n",
              "      <th></th>\n",
              "      <th>title</th>\n",
              "      <th>release_date</th>\n",
              "      <th>genres</th>\n",
              "      <th>runtime</th>\n",
              "      <th>url</th>\n",
              "    </tr>\n",
              "  </thead>\n",
              "  <tbody>\n",
              "    <tr>\n",
              "      <th>0</th>\n",
              "      <td>Mortal Kombat</td>\n",
              "      <td>04/23/2021 (US)</td>\n",
              "      <td>Action,Fantasy,Adventure,Science Fiction</td>\n",
              "      <td>1h 50m</td>\n",
              "      <td>https://www.themoviedb.org//movie/460465</td>\n",
              "    </tr>\n",
              "    <tr>\n",
              "      <th>1</th>\n",
              "      <td>Godzilla vs. Kong</td>\n",
              "      <td>03/24/2021 (TW)</td>\n",
              "      <td>Science Fiction,Action,Drama</td>\n",
              "      <td>1h 53m</td>\n",
              "      <td>https://www.themoviedb.org//movie/399566</td>\n",
              "    </tr>\n",
              "    <tr>\n",
              "      <th>2</th>\n",
              "      <td>Nobody</td>\n",
              "      <td>03/26/2021 (US)</td>\n",
              "      <td>Action,Thriller,Crime</td>\n",
              "      <td>1h 32m</td>\n",
              "      <td>https://www.themoviedb.org//movie/615457</td>\n",
              "    </tr>\n",
              "    <tr>\n",
              "      <th>3</th>\n",
              "      <td>Tom Clancy's Without Remorse</td>\n",
              "      <td>04/29/2021 (US)</td>\n",
              "      <td>Action,Adventure,Thriller,War</td>\n",
              "      <td>1h 49m</td>\n",
              "      <td>https://www.themoviedb.org//movie/567189</td>\n",
              "    </tr>\n",
              "    <tr>\n",
              "      <th>4</th>\n",
              "      <td>Vanquish</td>\n",
              "      <td>04/16/2021 (US)</td>\n",
              "      <td>Action,Crime,Thriller</td>\n",
              "      <td>1h 36m</td>\n",
              "      <td>https://www.themoviedb.org//movie/804435</td>\n",
              "    </tr>\n",
              "    <tr>\n",
              "      <th>5</th>\n",
              "      <td>Demon Slayer -Kimetsu no Yaiba- The Movie: Mug...</td>\n",
              "      <td>10/30/2020 (TW)</td>\n",
              "      <td>Animation,Action,Adventure,Fantasy,Drama</td>\n",
              "      <td>1h 57m</td>\n",
              "      <td>https://www.themoviedb.org//movie/635302</td>\n",
              "    </tr>\n",
              "    <tr>\n",
              "      <th>6</th>\n",
              "      <td>The Unholy</td>\n",
              "      <td>04/02/2021 (US)</td>\n",
              "      <td>Horror</td>\n",
              "      <td>1h 39m</td>\n",
              "      <td>https://www.themoviedb.org//movie/632357</td>\n",
              "    </tr>\n",
              "    <tr>\n",
              "      <th>7</th>\n",
              "      <td>Miraculous World: Shanghai – The Legend of Lad...</td>\n",
              "      <td>04/04/2021 (FR)</td>\n",
              "      <td>Animation,Comedy,Family,Adventure</td>\n",
              "      <td>52m</td>\n",
              "      <td>https://www.themoviedb.org//movie/726684</td>\n",
              "    </tr>\n",
              "    <tr>\n",
              "      <th>8</th>\n",
              "      <td>Zack Snyder's Justice League</td>\n",
              "      <td>03/18/2021 (TW)</td>\n",
              "      <td>Action,Adventure,Fantasy,Science Fiction</td>\n",
              "      <td>4h 2m</td>\n",
              "      <td>https://www.themoviedb.org//movie/791373</td>\n",
              "    </tr>\n",
              "    <tr>\n",
              "      <th>9</th>\n",
              "      <td>Monster Pets: A Hotel Transylvania Short</td>\n",
              "      <td>04/02/2021 (US)</td>\n",
              "      <td>Animation,Comedy,Fantasy</td>\n",
              "      <td>6m</td>\n",
              "      <td>https://www.themoviedb.org//movie/813258</td>\n",
              "    </tr>\n",
              "    <tr>\n",
              "      <th>10</th>\n",
              "      <td>The Marksman</td>\n",
              "      <td>01/20/2021 (TW)</td>\n",
              "      <td>Action,Thriller,Crime</td>\n",
              "      <td>1h 48m</td>\n",
              "      <td>https://www.themoviedb.org//movie/634528</td>\n",
              "    </tr>\n",
              "    <tr>\n",
              "      <th>11</th>\n",
              "      <td>Raya and the Last Dragon</td>\n",
              "      <td>03/05/2021 (US)</td>\n",
              "      <td>Animation,Adventure,Fantasy,Family,Action</td>\n",
              "      <td>1h 47m</td>\n",
              "      <td>https://www.themoviedb.org//movie/527774</td>\n",
              "    </tr>\n",
              "    <tr>\n",
              "      <th>12</th>\n",
              "      <td>Thunder Force</td>\n",
              "      <td>04/09/2021 (US)</td>\n",
              "      <td>Action,Adventure,Comedy,Fantasy</td>\n",
              "      <td>1h 47m</td>\n",
              "      <td>https://www.themoviedb.org//movie/615678</td>\n",
              "    </tr>\n",
              "    <tr>\n",
              "      <th>13</th>\n",
              "      <td>Chaos Walking</td>\n",
              "      <td>03/05/2021 (US)</td>\n",
              "      <td>Science Fiction,Action,Adventure,Thriller</td>\n",
              "      <td>1h 49m</td>\n",
              "      <td>https://www.themoviedb.org//movie/412656</td>\n",
              "    </tr>\n",
              "    <tr>\n",
              "      <th>14</th>\n",
              "      <td>Justice Society: World War II</td>\n",
              "      <td>04/27/2021 (US)</td>\n",
              "      <td>Animation,War,Science Fiction</td>\n",
              "      <td>1h 24m</td>\n",
              "      <td>https://www.themoviedb.org//movie/736069</td>\n",
              "    </tr>\n",
              "    <tr>\n",
              "      <th>15</th>\n",
              "      <td>Benny Loves You</td>\n",
              "      <td>05/07/2021 (US)</td>\n",
              "      <td>Horror,Comedy</td>\n",
              "      <td>1h 34m</td>\n",
              "      <td>https://www.themoviedb.org//movie/647302</td>\n",
              "    </tr>\n",
              "    <tr>\n",
              "      <th>16</th>\n",
              "      <td>Sentinelle</td>\n",
              "      <td>03/05/2021 (US)</td>\n",
              "      <td>Thriller,Action,Drama</td>\n",
              "      <td>1h 20m</td>\n",
              "      <td>https://www.themoviedb.org//movie/793723</td>\n",
              "    </tr>\n",
              "    <tr>\n",
              "      <th>17</th>\n",
              "      <td>Monster Hunter</td>\n",
              "      <td>12/04/2020 (TW)</td>\n",
              "      <td>Fantasy,Action,Adventure</td>\n",
              "      <td>1h 44m</td>\n",
              "      <td>https://www.themoviedb.org//movie/458576</td>\n",
              "    </tr>\n",
              "    <tr>\n",
              "      <th>18</th>\n",
              "      <td>Below Zero</td>\n",
              "      <td>01/29/2021 (DK)</td>\n",
              "      <td>Action,Crime,Thriller</td>\n",
              "      <td>1h 46m</td>\n",
              "      <td>https://www.themoviedb.org//movie/587996</td>\n",
              "    </tr>\n",
              "    <tr>\n",
              "      <th>19</th>\n",
              "      <td>Cherry</td>\n",
              "      <td>02/26/2021 (US)</td>\n",
              "      <td>Crime,Drama</td>\n",
              "      <td>2h 20m</td>\n",
              "      <td>https://www.themoviedb.org//movie/544401</td>\n",
              "    </tr>\n",
              "    <tr>\n",
              "      <th>20</th>\n",
              "      <td>Wonder Woman 1984</td>\n",
              "      <td>12/17/2020 (TW)</td>\n",
              "      <td>Fantasy,Action,Adventure</td>\n",
              "      <td>2h 31m</td>\n",
              "      <td>https://www.themoviedb.org//movie/464052</td>\n",
              "    </tr>\n",
              "    <tr>\n",
              "      <th>21</th>\n",
              "      <td>Tom &amp; Jerry</td>\n",
              "      <td>02/26/2021 (US)</td>\n",
              "      <td>Comedy,Family,Animation</td>\n",
              "      <td>1h 41m</td>\n",
              "      <td>https://www.themoviedb.org//movie/587807</td>\n",
              "    </tr>\n",
              "    <tr>\n",
              "      <th>22</th>\n",
              "      <td>Outside the Wire</td>\n",
              "      <td>01/15/2021 (US)</td>\n",
              "      <td>Thriller,Action,Science Fiction</td>\n",
              "      <td>1h 56m</td>\n",
              "      <td>https://www.themoviedb.org//movie/775996</td>\n",
              "    </tr>\n",
              "    <tr>\n",
              "      <th>23</th>\n",
              "      <td>Soul</td>\n",
              "      <td>12/25/2020 (TW)</td>\n",
              "      <td>Family,Animation,Comedy,Drama,Music,Fantasy</td>\n",
              "      <td>1h 41m</td>\n",
              "      <td>https://www.themoviedb.org//movie/508442</td>\n",
              "    </tr>\n",
              "    <tr>\n",
              "      <th>24</th>\n",
              "      <td>Ashfall</td>\n",
              "      <td>12/24/2019 (TW)</td>\n",
              "      <td>Action,Adventure,Thriller</td>\n",
              "      <td>2h 8m</td>\n",
              "      <td>https://www.themoviedb.org//movie/581387</td>\n",
              "    </tr>\n",
              "    <tr>\n",
              "      <th>25</th>\n",
              "      <td>New Gods: Nezha Reborn</td>\n",
              "      <td>02/12/2021 (CN)</td>\n",
              "      <td>Animation,Action,Fantasy</td>\n",
              "      <td>1h 56m</td>\n",
              "      <td>https://www.themoviedb.org//movie/663558</td>\n",
              "    </tr>\n",
              "    <tr>\n",
              "      <th>26</th>\n",
              "      <td>Mortal Kombat Legends: Scorpion's Revenge</td>\n",
              "      <td>04/12/2020 (US)</td>\n",
              "      <td>Animation,Action,Fantasy</td>\n",
              "      <td>1h 20m</td>\n",
              "      <td>https://www.themoviedb.org//movie/664767</td>\n",
              "    </tr>\n",
              "    <tr>\n",
              "      <th>27</th>\n",
              "      <td>Black Water: Abyss</td>\n",
              "      <td>08/07/2020 (US)</td>\n",
              "      <td>Horror,Thriller,Adventure,Mystery</td>\n",
              "      <td>1h 38m</td>\n",
              "      <td>https://www.themoviedb.org//movie/522444</td>\n",
              "    </tr>\n",
              "    <tr>\n",
              "      <th>28</th>\n",
              "      <td>Space Sweepers</td>\n",
              "      <td>02/05/2021 (US)</td>\n",
              "      <td>Drama,Fantasy,Science Fiction</td>\n",
              "      <td>2h 16m</td>\n",
              "      <td>https://www.themoviedb.org//movie/581389</td>\n",
              "    </tr>\n",
              "    <tr>\n",
              "      <th>29</th>\n",
              "      <td>Come True</td>\n",
              "      <td>03/12/2021 (RU)</td>\n",
              "      <td>Science Fiction,Horror</td>\n",
              "      <td>1h 45m</td>\n",
              "      <td>https://www.themoviedb.org//movie/515454</td>\n",
              "    </tr>\n",
              "    <tr>\n",
              "      <th>30</th>\n",
              "      <td>Twist</td>\n",
              "      <td>01/22/2021 (LT)</td>\n",
              "      <td>Crime,Drama,Action</td>\n",
              "      <td>1h 30m</td>\n",
              "      <td>https://www.themoviedb.org//movie/644083</td>\n",
              "    </tr>\n",
              "    <tr>\n",
              "      <th>31</th>\n",
              "      <td>For the Sake of Vicious</td>\n",
              "      <td>04/16/2021 (US)</td>\n",
              "      <td>Action,Horror,Mystery</td>\n",
              "      <td>1h 20m</td>\n",
              "      <td>https://www.themoviedb.org//movie/722780</td>\n",
              "    </tr>\n",
              "    <tr>\n",
              "      <th>32</th>\n",
              "      <td>The Croods: A New Age</td>\n",
              "      <td>11/27/2020 (TW)</td>\n",
              "      <td>Family,Fantasy,Animation,Comedy</td>\n",
              "      <td>1h 35m</td>\n",
              "      <td>https://www.themoviedb.org//movie/529203</td>\n",
              "    </tr>\n",
              "    <tr>\n",
              "      <th>33</th>\n",
              "      <td>The Little Things</td>\n",
              "      <td>01/29/2021 (US)</td>\n",
              "      <td>Thriller,Crime</td>\n",
              "      <td>2h 8m</td>\n",
              "      <td>https://www.themoviedb.org//movie/602269</td>\n",
              "    </tr>\n",
              "    <tr>\n",
              "      <th>34</th>\n",
              "      <td>Vanguard</td>\n",
              "      <td>09/30/2020 (TW)</td>\n",
              "      <td>Action,Adventure,Crime</td>\n",
              "      <td>1h 47m</td>\n",
              "      <td>https://www.themoviedb.org//movie/604822</td>\n",
              "    </tr>\n",
              "    <tr>\n",
              "      <th>35</th>\n",
              "      <td>Skylines</td>\n",
              "      <td>02/26/2021 (TW)</td>\n",
              "      <td>Science Fiction,Action</td>\n",
              "      <td>1h 53m</td>\n",
              "      <td>https://www.themoviedb.org//movie/560144</td>\n",
              "    </tr>\n",
              "    <tr>\n",
              "      <th>36</th>\n",
              "      <td>Miraculous World: New York, United HeroeZ</td>\n",
              "      <td>09/26/2020 (FR)</td>\n",
              "      <td>Animation,Family,Comedy,Adventure</td>\n",
              "      <td>55m</td>\n",
              "      <td>https://www.themoviedb.org//movie/755812</td>\n",
              "    </tr>\n",
              "    <tr>\n",
              "      <th>37</th>\n",
              "      <td>Red Dot</td>\n",
              "      <td>02/11/2021 (US)</td>\n",
              "      <td>Thriller,Drama,Horror</td>\n",
              "      <td>1h 26m</td>\n",
              "      <td>https://www.themoviedb.org//movie/649087</td>\n",
              "    </tr>\n",
              "    <tr>\n",
              "      <th>38</th>\n",
              "      <td>Silk Road</td>\n",
              "      <td>02/19/2021 (CA)</td>\n",
              "      <td>Crime,Thriller,Drama</td>\n",
              "      <td>1h 56m</td>\n",
              "      <td>https://www.themoviedb.org//movie/579051</td>\n",
              "    </tr>\n",
              "    <tr>\n",
              "      <th>39</th>\n",
              "      <td>Rise of the Mummy</td>\n",
              "      <td>04/03/2021 (US)</td>\n",
              "      <td>Horror</td>\n",
              "      <td>1h 30m</td>\n",
              "      <td>https://www.themoviedb.org//movie/791910</td>\n",
              "    </tr>\n",
              "  </tbody>\n",
              "</table>\n",
              "</div>"
            ],
            "text/plain": [
              "                                                title  ...                                       url\n",
              "0                                       Mortal Kombat  ...  https://www.themoviedb.org//movie/460465\n",
              "1                                   Godzilla vs. Kong  ...  https://www.themoviedb.org//movie/399566\n",
              "2                                              Nobody  ...  https://www.themoviedb.org//movie/615457\n",
              "3                        Tom Clancy's Without Remorse  ...  https://www.themoviedb.org//movie/567189\n",
              "4                                            Vanquish  ...  https://www.themoviedb.org//movie/804435\n",
              "5   Demon Slayer -Kimetsu no Yaiba- The Movie: Mug...  ...  https://www.themoviedb.org//movie/635302\n",
              "6                                          The Unholy  ...  https://www.themoviedb.org//movie/632357\n",
              "7   Miraculous World: Shanghai – The Legend of Lad...  ...  https://www.themoviedb.org//movie/726684\n",
              "8                        Zack Snyder's Justice League  ...  https://www.themoviedb.org//movie/791373\n",
              "9            Monster Pets: A Hotel Transylvania Short  ...  https://www.themoviedb.org//movie/813258\n",
              "10                                       The Marksman  ...  https://www.themoviedb.org//movie/634528\n",
              "11                           Raya and the Last Dragon  ...  https://www.themoviedb.org//movie/527774\n",
              "12                                      Thunder Force  ...  https://www.themoviedb.org//movie/615678\n",
              "13                                      Chaos Walking  ...  https://www.themoviedb.org//movie/412656\n",
              "14                      Justice Society: World War II  ...  https://www.themoviedb.org//movie/736069\n",
              "15                                    Benny Loves You  ...  https://www.themoviedb.org//movie/647302\n",
              "16                                         Sentinelle  ...  https://www.themoviedb.org//movie/793723\n",
              "17                                     Monster Hunter  ...  https://www.themoviedb.org//movie/458576\n",
              "18                                         Below Zero  ...  https://www.themoviedb.org//movie/587996\n",
              "19                                             Cherry  ...  https://www.themoviedb.org//movie/544401\n",
              "20                                  Wonder Woman 1984  ...  https://www.themoviedb.org//movie/464052\n",
              "21                                        Tom & Jerry  ...  https://www.themoviedb.org//movie/587807\n",
              "22                                   Outside the Wire  ...  https://www.themoviedb.org//movie/775996\n",
              "23                                               Soul  ...  https://www.themoviedb.org//movie/508442\n",
              "24                                            Ashfall  ...  https://www.themoviedb.org//movie/581387\n",
              "25                             New Gods: Nezha Reborn  ...  https://www.themoviedb.org//movie/663558\n",
              "26          Mortal Kombat Legends: Scorpion's Revenge  ...  https://www.themoviedb.org//movie/664767\n",
              "27                                 Black Water: Abyss  ...  https://www.themoviedb.org//movie/522444\n",
              "28                                     Space Sweepers  ...  https://www.themoviedb.org//movie/581389\n",
              "29                                          Come True  ...  https://www.themoviedb.org//movie/515454\n",
              "30                                              Twist  ...  https://www.themoviedb.org//movie/644083\n",
              "31                            For the Sake of Vicious  ...  https://www.themoviedb.org//movie/722780\n",
              "32                              The Croods: A New Age  ...  https://www.themoviedb.org//movie/529203\n",
              "33                                  The Little Things  ...  https://www.themoviedb.org//movie/602269\n",
              "34                                           Vanguard  ...  https://www.themoviedb.org//movie/604822\n",
              "35                                           Skylines  ...  https://www.themoviedb.org//movie/560144\n",
              "36          Miraculous World: New York, United HeroeZ  ...  https://www.themoviedb.org//movie/755812\n",
              "37                                            Red Dot  ...  https://www.themoviedb.org//movie/649087\n",
              "38                                          Silk Road  ...  https://www.themoviedb.org//movie/579051\n",
              "39                                  Rise of the Mummy  ...  https://www.themoviedb.org//movie/791910\n",
              "\n",
              "[40 rows x 5 columns]"
            ]
          },
          "metadata": {
            "tags": []
          },
          "execution_count": 131
        }
      ]
    },
    {
      "cell_type": "code",
      "metadata": {
        "id": "iQdB0hH4TQIf"
      },
      "source": [
        ""
      ],
      "execution_count": null,
      "outputs": []
    },
    {
      "cell_type": "code",
      "metadata": {
        "id": "WTXT9fyiTQCm"
      },
      "source": [
        ""
      ],
      "execution_count": null,
      "outputs": []
    },
    {
      "cell_type": "code",
      "metadata": {
        "id": "q4zlJoBkrZdA"
      },
      "source": [
        ""
      ],
      "execution_count": null,
      "outputs": []
    }
  ]
}