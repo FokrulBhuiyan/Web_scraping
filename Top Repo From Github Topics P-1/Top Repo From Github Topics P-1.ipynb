{
 "cells": [
  {
   "cell_type": "markdown",
   "metadata": {
    "id": "uVvAFXBd3f4e"
   },
   "source": [
    "# Top Repositories For Github Topics\n",
    "\n",
    "Project outline\n",
    "\n",
    "- scrape URL: https://github.com/topics\n",
    "- topic title, URL and Description\n",
    "- top 20 repositpories from each topics\n",
    "- grab repo name,username, stars and URL\n"
   ]
  },
  {
   "cell_type": "markdown",
   "metadata": {
    "id": "Zcrx1Y9L3o2B"
   },
   "source": [
    "## Pick a site and describe\n",
    "\n",
    "1. browse\n",
    "2. Identify info\n",
    "3. Summarize"
   ]
  },
  {
   "cell_type": "markdown",
   "metadata": {
    "id": "4UpTu8kW1beH"
   },
   "source": [
    "## Request lib to download\n",
    "\n",
    "1. identify the URL\n",
    "2. save Page\n",
    "3. create func for automate downlonding"
   ]
  },
  {
   "cell_type": "code",
   "execution_count": null,
   "metadata": {
    "colab": {
     "base_uri": "https://localhost:8080/"
    },
    "executionInfo": {
     "elapsed": 5607,
     "status": "ok",
     "timestamp": 1620146583987,
     "user": {
      "displayName": "Fokrul Islam",
      "photoUrl": "https://lh3.googleusercontent.com/a-/AOh14Ggl-QtmuOerc4IBGPw61rE7KBtqTlynCQwey1Ll0A=s64",
      "userId": "12815117647895840643"
     },
     "user_tz": -360
    },
    "id": "MDmY0mqy3nHR",
    "outputId": "7f812878-51f4-4551-930f-b1f90d7a82f3"
   },
   "outputs": [
    {
     "name": "stdout",
     "output_type": "stream",
     "text": [
      "Requirement already satisfied: requests in /usr/local/lib/python3.7/dist-packages (2.23.0)\n",
      "Requirement already satisfied: urllib3!=1.25.0,!=1.25.1,<1.26,>=1.21.1 in /usr/local/lib/python3.7/dist-packages (from requests) (1.24.3)\n",
      "Requirement already satisfied: chardet<4,>=3.0.2 in /usr/local/lib/python3.7/dist-packages (from requests) (3.0.4)\n",
      "Requirement already satisfied: idna<3,>=2.5 in /usr/local/lib/python3.7/dist-packages (from requests) (2.10)\n",
      "Requirement already satisfied: certifi>=2017.4.17 in /usr/local/lib/python3.7/dist-packages (from requests) (2020.12.5)\n"
     ]
    }
   ],
   "source": [
    "!pip install requests"
   ]
  },
  {
   "cell_type": "code",
   "execution_count": null,
   "metadata": {
    "id": "kn_cpZXC53Eh"
   },
   "outputs": [],
   "source": [
    "import requests"
   ]
  },
  {
   "cell_type": "code",
   "execution_count": null,
   "metadata": {
    "id": "0y3MSveR53BP"
   },
   "outputs": [],
   "source": [
    "topics_url = 'https://github.com/topics'"
   ]
  },
  {
   "cell_type": "code",
   "execution_count": null,
   "metadata": {
    "id": "9A_SIaZB52-c"
   },
   "outputs": [],
   "source": [
    "resp = requests.get(topics_url)"
   ]
  },
  {
   "cell_type": "code",
   "execution_count": null,
   "metadata": {
    "colab": {
     "base_uri": "https://localhost:8080/"
    },
    "executionInfo": {
     "elapsed": 6846,
     "status": "ok",
     "timestamp": 1620146585258,
     "user": {
      "displayName": "Fokrul Islam",
      "photoUrl": "https://lh3.googleusercontent.com/a-/AOh14Ggl-QtmuOerc4IBGPw61rE7KBtqTlynCQwey1Ll0A=s64",
      "userId": "12815117647895840643"
     },
     "user_tz": -360
    },
    "id": "NcNY9qLZ6Fuh",
    "outputId": "b84d7bd1-c88f-418c-e3ca-0ba4e403e2b7"
   },
   "outputs": [
    {
     "data": {
      "text/plain": [
       "126663"
      ]
     },
     "execution_count": 7,
     "metadata": {
      "tags": []
     },
     "output_type": "execute_result"
    }
   ],
   "source": [
    "len(resp.text)"
   ]
  },
  {
   "cell_type": "code",
   "execution_count": null,
   "metadata": {
    "colab": {
     "base_uri": "https://localhost:8080/",
     "height": 124
    },
    "executionInfo": {
     "elapsed": 6841,
     "status": "ok",
     "timestamp": 1620146585259,
     "user": {
      "displayName": "Fokrul Islam",
      "photoUrl": "https://lh3.googleusercontent.com/a-/AOh14Ggl-QtmuOerc4IBGPw61rE7KBtqTlynCQwey1Ll0A=s64",
      "userId": "12815117647895840643"
     },
     "user_tz": -360
    },
    "id": "iRjZnR5E6Frx",
    "outputId": "0d51e21b-f7aa-4691-b5b8-463085deb790"
   },
   "outputs": [
    {
     "data": {
      "application/vnd.google.colaboratory.intrinsic+json": {
       "type": "string"
      },
      "text/plain": [
       "'\\n\\n<!DOCTYPE html>\\n<html lang=\"en\" >\\n  <head>\\n    <meta charset=\"utf-8\">\\n  <link rel=\"dns-prefetch\" href=\"https://github.githubassets.com\">\\n  <link rel=\"dns-prefetch\" href=\"https://avatars.githubusercontent.com\">\\n  <link rel=\"dns-prefetch\" href=\"https://github-cloud.s3.amazonaws.com\">\\n  <link rel=\"dns-prefetch\" href=\"https://user-images.githubusercontent.com/\">\\n\\n\\n\\n  <link crossorigin=\"anonymous\" media=\"all\" integrity=\"sha512-7KjiGvJiLLy6LJPGf3m67ejAdgQsgDdnxZYoaI6+Agd0ZxHKTCjoKZgaf3PgUjURCcVceAwySJJJWgitRskDiA==\" rel=\"stylesheet\" href=\"https://github.githubassets.com/assets/frameworks-eca8e21af2622cbcba2c93c67f79baed.css\" />\\n    <link crossorigin=\"anonymous\" media=\"all\" integrity=\"sha512-8b7omPlP/yEmgGwzty07UCWwxjJLdNp3WAiXPEnS7mZvEvNKdiuLXT681i7qJujik30dRviXyNkKAz9F4w94UA==\" rel=\"stylesheet\" href=\"https://github.githubassets.com/assets/behaviors-f1bee898f94fff2126806c33b72d3b50.css\" />\\n    \\n    \\n    \\n    <link crossorigin=\"anonymous\" media=\"all\" integrity=\"sha512-ro9l8R8YQKHa4EUvWwK5w7'"
      ]
     },
     "execution_count": 8,
     "metadata": {
      "tags": []
     },
     "output_type": "execute_result"
    }
   ],
   "source": [
    "page_content = resp.text\n",
    "page_content[:1000]"
   ]
  },
  {
   "cell_type": "code",
   "execution_count": null,
   "metadata": {
    "id": "fSDqr2qA6Foy"
   },
   "outputs": [],
   "source": [
    "with open('webpage.html','w') as f:\n",
    "    f.write(page_content)"
   ]
  },
  {
   "cell_type": "code",
   "execution_count": null,
   "metadata": {
    "id": "7wOI4uTY526c"
   },
   "outputs": [],
   "source": []
  },
  {
   "cell_type": "markdown",
   "metadata": {
    "id": "j2FWh3R410bG"
   },
   "source": [
    "## Beautiful soup\n",
    "1. structure the page\n",
    "2. extract info\n",
    "3. create func for keeping info in dict/list\n",
    "4. Use REST API if necessery. "
   ]
  },
  {
   "cell_type": "code",
   "execution_count": null,
   "metadata": {
    "colab": {
     "base_uri": "https://localhost:8080/"
    },
    "executionInfo": {
     "elapsed": 8695,
     "status": "ok",
     "timestamp": 1620146587133,
     "user": {
      "displayName": "Fokrul Islam",
      "photoUrl": "https://lh3.googleusercontent.com/a-/AOh14Ggl-QtmuOerc4IBGPw61rE7KBtqTlynCQwey1Ll0A=s64",
      "userId": "12815117647895840643"
     },
     "user_tz": -360
    },
    "id": "afNusiQa1zLM",
    "outputId": "9bc51ac2-4494-4a75-dfeb-5b9905a44b5d"
   },
   "outputs": [
    {
     "name": "stdout",
     "output_type": "stream",
     "text": [
      "Requirement already satisfied: beautifulsoup4 in /usr/local/lib/python3.7/dist-packages (4.6.3)\n"
     ]
    }
   ],
   "source": [
    "!pip install beautifulsoup4 "
   ]
  },
  {
   "cell_type": "code",
   "execution_count": null,
   "metadata": {
    "id": "WIGdik-55396"
   },
   "outputs": [],
   "source": [
    "from bs4 import BeautifulSoup"
   ]
  },
  {
   "cell_type": "code",
   "execution_count": null,
   "metadata": {
    "id": "KF4_pzO_537F"
   },
   "outputs": [],
   "source": [
    "page_doc = BeautifulSoup(page_content, 'html.parser')"
   ]
  },
  {
   "cell_type": "code",
   "execution_count": null,
   "metadata": {
    "id": "yH3cCVfcmivl"
   },
   "outputs": [],
   "source": [
    "import pandas as pd"
   ]
  },
  {
   "cell_type": "markdown",
   "metadata": {
    "id": "KQapu0nV2ggU"
   },
   "source": [
    "## CSV file(s)\n",
    "\n",
    "1. save info in CSV\n",
    "2. verify the csv file with pandas"
   ]
  },
  {
   "cell_type": "markdown",
   "metadata": {
    "id": "ML7OsYrSTjFL"
   },
   "source": [
    "## Get Info of each topic"
   ]
  },
  {
   "cell_type": "code",
   "execution_count": null,
   "metadata": {
    "id": "vYqXYhIwQm-7"
   },
   "outputs": [],
   "source": [
    "import os\n",
    "def get_topic_page(topic_url):\n",
    "    resp = requests.get(topic_url)\n",
    "    if resp.status_code!=200:\n",
    "        raise Exception(f'Failed to load{topic_url}')\n",
    "    html_doc =  BeautifulSoup(resp.text,'html.parser')\n",
    "    return html_doc\n",
    "\n",
    "def get_repo_info(h1_tag,star_tag ):\n",
    "    a_tags = h1_tag.find_all('a')\n",
    "    username = a_tags[0].text.strip()\n",
    "    repo_name =  a_tags[1].text.strip()\n",
    "    repo_url = 'https://github.com'+a_tags[1]['href']\n",
    "    stars = star_tag.text.strip()\n",
    "    return username,repo_name,stars,repo_url\n",
    "\n",
    "def get_topic_repo(html_doc):\n",
    "    topic_repo_tags = html_doc.find_all('h1',{'class': 'f3 color-text-secondary text-normal lh-condensed'})\n",
    "    star_tags =  html_doc.find_all('a',{'class': 'social-count float-none'})\n",
    "\n",
    "    topic_repo_dict= {'username':[], 'repo_title': [], 'stars':[], 'repo_url':[],}\n",
    "    for i in range(len(topic_repo_tags)):\n",
    "        repo_info = get_repo_info(topic_repo_tags[i],star_tags[i])\n",
    "        topic_repo_dict['username'].append(repo_info[0])\n",
    "        topic_repo_dict['repo_title'].append(repo_info[1])\n",
    "        topic_repo_dict['stars'].append(repo_info[2])\n",
    "        topic_repo_dict['repo_url'].append(repo_info[3])\n",
    "    return pd.DataFrame(topic_repo_dict)\n",
    "\n",
    "def scrape_each_topic(topic_url, path):\n",
    "    \n",
    "    if os.path.exists(path):\n",
    "        print(f'{path} File is exist.Skipping...')\n",
    "        return\n",
    "    topic_df = get_topic_repo(get_topic_page(topic_url))\n",
    "    topic_df.to_csv(path,index=None)"
   ]
  },
  {
   "cell_type": "markdown",
   "metadata": {
    "id": "k70t3HEkLE7S"
   },
   "source": [
    "Write a func to:\n",
    "1. get the list from topics page\n",
    "2. get the top repo list from individual topic page\n",
    "3. create CSV of the top repo for each topic "
   ]
  },
  {
   "cell_type": "code",
   "execution_count": null,
   "metadata": {
    "id": "f4oDFvNLTLPK"
   },
   "outputs": [],
   "source": [
    "def get_topic_titles(doc):\n",
    "    topic_title_tag = doc.find_all('p',{'class':'f3 lh-condensed mb-0 mt-1 Link--primary'})\n",
    "    topic_titles = []\n",
    "    for title in topic_title_tag:\n",
    "        topic_titles.append(title.text)\n",
    "    return topic_titles\n",
    "\n",
    "def get_topic_desc(doc):\n",
    "    topic_desc_tag = doc.find_all('p',{'class':'f5 color-text-secondary mb-0 mt-1'})\n",
    "    topic_desc = []\n",
    "    for desc in topic_desc_tag:\n",
    "        topic_desc.append(desc.text.strip())\n",
    "    return topic_desc\n",
    "\n",
    "def get_topic_link(doc):\n",
    "    topic_link_tag = doc.find_all('a',{'class': 'd-flex no-underline'})\n",
    "    topic_url = []\n",
    "    for url in topic_link_tag:\n",
    "        topic_url.append(\"https://github.com\"+url['href'])\n",
    "    return topic_url\n",
    "    \n",
    "def scrape_topics():\n",
    "    topics_url = 'https://github.com/topics'\n",
    "    resp = requests.get(topics_url)\n",
    "    if resp.status_code!=200:\n",
    "        raise Exception(f'Failed to load{topics_url}')\n",
    "    html_doc =  BeautifulSoup(resp.text,'html.parser')\n",
    "    \n",
    "    topics_dict = {\n",
    "        'title' : get_topic_titles(html_doc),\n",
    "        'desc' : get_topic_desc(html_doc),\n",
    "        'url' : get_topic_link(html_doc),\n",
    "    }\n",
    "    \n",
    "    return pd.DataFrame(topics_dict)\n",
    "# def scrape_topics_repo():"
   ]
  },
  {
   "cell_type": "code",
   "execution_count": null,
   "metadata": {
    "id": "DGFu456kQO7h"
   },
   "outputs": [],
   "source": [
    "def scrape_topics_repo():\n",
    "    topics_df = scrape_topics()\n",
    "\n",
    "    os.makedirs('data',exist_ok=True)\n",
    "\n",
    "    for i,row in topics_df.iterrows():\n",
    "        print('name: {}'.format(row[\"title\"]))\n",
    "        scrape_each_topic(row['url'], 'data/{}.csv'.format(row['title']))\n",
    "    "
   ]
  },
  {
   "cell_type": "code",
   "execution_count": null,
   "metadata": {
    "id": "CnDUA4mdN_gs"
   },
   "outputs": [],
   "source": [
    "topics_df = scrape_topics()"
   ]
  },
  {
   "cell_type": "code",
   "execution_count": null,
   "metadata": {
    "id": "W1BHR8CvN_dk"
   },
   "outputs": [],
   "source": [
    "topics_df"
   ]
  },
  {
   "cell_type": "markdown",
   "metadata": {},
   "source": [
    "download folder from colab"
   ]
  },
  {
   "cell_type": "code",
   "execution_count": null,
   "metadata": {
    "id": "TmC_G9RtIvFB"
   },
   "outputs": [],
   "source": [
    "!zip -r /content/data.zip /content/data"
   ]
  },
  {
   "cell_type": "code",
   "execution_count": null,
   "metadata": {
    "id": "qXr23sKyN_bO"
   },
   "outputs": [],
   "source": [
    " from google.colab import files\n",
    " files.download('/content/data.zip')"
   ]
  },
  {
   "cell_type": "code",
   "execution_count": null,
   "metadata": {
    "id": "BaMydysYHzHp"
   },
   "outputs": [],
   "source": []
  }
 ],
 "metadata": {
  "colab": {
   "authorship_tag": "ABX9TyPWfrELZJZvtR1ho4mdy+lc",
   "collapsed_sections": [],
   "name": "Top Repo From Github Topics P-1.ipynb",
   "provenance": []
  },
  "kernelspec": {
   "display_name": "Python 3",
   "language": "python",
   "name": "python3"
  },
  "language_info": {
   "codemirror_mode": {
    "name": "ipython",
    "version": 3
   },
   "file_extension": ".py",
   "mimetype": "text/x-python",
   "name": "python",
   "nbconvert_exporter": "python",
   "pygments_lexer": "ipython3",
   "version": "3.8.10"
  }
 },
 "nbformat": 4,
 "nbformat_minor": 1
}
