{
  "nbformat": 4,
  "nbformat_minor": 0,
  "metadata": {
    "colab": {
      "name": "hacker_news_P-4.ipynb",
      "provenance": []
    },
    "kernelspec": {
      "name": "python3",
      "display_name": "Python 3"
    },
    "language_info": {
      "name": "python"
    }
  },
  "cells": [
    {
      "cell_type": "markdown",
      "metadata": {
        "id": "qwcZHapmqD6v"
      },
      "source": [
        "## Scrape Top Hacker News per page\n",
        "- Source link: https://news.ycombinator.com/news?p=1\n",
        "- get link, title, votes from each page"
      ]
    },
    {
      "cell_type": "markdown",
      "metadata": {
        "id": "0txHNhaRqxyB"
      },
      "source": [
        "## Process Note\n",
        "- get the page with `request`\n",
        "- Use `Bs4` for webpage Process\n",
        "- Collect the info\n",
        "- Create the func\n",
        "- Create `CSV` with that info"
      ]
    },
    {
      "cell_type": "markdown",
      "metadata": {
        "id": "x-d08EKQXmQx"
      },
      "source": [
        "libs."
      ]
    },
    {
      "cell_type": "code",
      "metadata": {
        "id": "xW_LALK2jn3U"
      },
      "source": [
        "import requests\n",
        "from bs4 import BeautifulSoup\n",
        "import pprint"
      ],
      "execution_count": null,
      "outputs": []
    },
    {
      "cell_type": "markdown",
      "metadata": {
        "id": "G3lJHJvbXsNb"
      },
      "source": [
        "url func."
      ]
    },
    {
      "cell_type": "code",
      "metadata": {
        "id": "AvxtckHsnhoP"
      },
      "source": [
        "def get_url(page):\n",
        "    url = f'https://news.ycombinator.com/news?p={page}'\n",
        "    return url"
      ],
      "execution_count": null,
      "outputs": []
    },
    {
      "cell_type": "markdown",
      "metadata": {
        "id": "qa0tRXoZXvZU"
      },
      "source": [
        "reversed sort list func."
      ]
    },
    {
      "cell_type": "code",
      "metadata": {
        "id": "7LQ_MSjxjvBU"
      },
      "source": [
        "def sort_stories_by_votes(hnlist):\n",
        "  return sorted(hnlist, key= lambda k:k['votes'], reverse=True)"
      ],
      "execution_count": null,
      "outputs": []
    },
    {
      "cell_type": "markdown",
      "metadata": {
        "id": "8gvErFS_rnTq"
      },
      "source": [
        "scraping needed data func."
      ]
    },
    {
      "cell_type": "code",
      "metadata": {
        "id": "ee4lyUe1ju9h"
      },
      "source": [
        "def scrape_hn(links, subtext):\n",
        "  hn = []\n",
        "  for i, item in enumerate(links):\n",
        "    title = item.getText()\n",
        "    href = item.get('href', None)\n",
        "    vote = subtext[i].select('.score')\n",
        "    if len(vote):\n",
        "      points = int(vote[0].getText().replace(' points', ''))\n",
        "      if points > 99:\n",
        "        hn.append({'title': title, 'link': href, 'votes': points})\n",
        "  return sort_stories_by_votes(hn)"
      ],
      "execution_count": null,
      "outputs": []
    },
    {
      "cell_type": "markdown",
      "metadata": {
        "id": "3iCV092mrY-o"
      },
      "source": [
        "get page & find needed tags func."
      ]
    },
    {
      "cell_type": "code",
      "metadata": {
        "id": "R19kXheco6pN"
      },
      "source": [
        "def scrape_page(page):\n",
        "    reqs = requests.get(get_url(page))\n",
        "    html_doc = BeautifulSoup(reqs.text, 'html.parser')\n",
        "    links = html_doc.select('.storylink')\n",
        "    subtext = html_doc.select('.subtext')\n",
        "    return scrape_hn(links, subtext)"
      ],
      "execution_count": null,
      "outputs": []
    },
    {
      "cell_type": "markdown",
      "metadata": {
        "id": "geUnwspGrMN7"
      },
      "source": [
        "use `pprint` for structural printing"
      ]
    },
    {
      "cell_type": "code",
      "metadata": {
        "colab": {
          "base_uri": "https://localhost:8080/"
        },
        "id": "twZlxWZ1ju6o",
        "outputId": "740db642-acb2-43b8-becd-be460a676a35"
      },
      "source": [
        "pprint.pprint(scrape_page(2))"
      ],
      "execution_count": null,
      "outputs": [
        {
          "output_type": "stream",
          "text": [
            "[{'link': 'https://github.com/pbatard/rufus',\n",
            "  'title': 'Rufus: Reliable USB Formatting Utility',\n",
            "  'votes': 560},\n",
            " {'link': 'https://scholar.google.com/scholar?q=%22to+our+surprise%22',\n",
            "  'title': '\"To our surprise\"',\n",
            "  'votes': 457},\n",
            " {'link': 'https://quickwit.io/blog/commoncrawl/',\n",
            "  'title': 'Searching the web for under $1000/month',\n",
            "  'votes': 430},\n",
            " {'link': 'https://www.androidpolice.com/2021/05/07/whatsapp-chickens-out-on-its-privacy-policy-deadline/',\n",
            "  'title': 'WhatsApp will progressively kill features until users accept new '\n",
            "           'privacy policy',\n",
            "  'votes': 354},\n",
            " {'link': 'https://www.defensenews.com/industry/2021/05/04/honeywell-fined-13-million-for-defense-export-violations/',\n",
            "  'title': 'Honeywell gets hit with $13M fine for defense export violations',\n",
            "  'votes': 299},\n",
            " {'link': 'https://blog.svenpeter.dev/posts/m1_sprr_gxf/',\n",
            "  'title': 'Apple Silicon Hardware: SPRR and Guarded Exception Levels (GXF)',\n",
            "  'votes': 265},\n",
            " {'link': 'https://matrix.org/blog/2021/05/06/introducing-the-pinecone-overlay-network',\n",
            "  'title': 'The Pinecone Overlay Network',\n",
            "  'votes': 265},\n",
            " {'link': 'https://awslabs.github.io/smithy/',\n",
            "  'title': 'Smithy: A language for defining services and SDKs',\n",
            "  'votes': 230},\n",
            " {'link': 'https://findstarlink.com',\n",
            "  'title': 'Starlink Satellites Tracker',\n",
            "  'votes': 219},\n",
            " {'link': 'https://www.wsj.com/articles/california-population-declines-for-first-time-in-more-than-a-century-11620416887',\n",
            "  'title': 'California population declines for first time in more than a '\n",
            "           'century',\n",
            "  'votes': 209},\n",
            " {'link': 'https://nipafx.dev/java-record-semantics/',\n",
            "  'title': \"Java's records, Lombok's data, and Kotlin's data classes\",\n",
            "  'votes': 194},\n",
            " {'link': 'https://archive.org/details/The_Complete_HyperCard_Handbook/',\n",
            "  'title': 'The Complete Hypercard Handbook (1988)',\n",
            "  'votes': 184},\n",
            " {'link': 'https://mathiaskirkbonde.substack.com/p/be-in-a-field-where-tech-is-the-limit',\n",
            "  'title': 'Be in a field where tech is the limit',\n",
            "  'votes': 167},\n",
            " {'link': 'https://www.npr.org/2021/05/06/993821945/goodwill-doesnt-want-your-broken-toaster',\n",
            "  'title': \"Goodwill doesn't want broken toasters\",\n",
            "  'votes': 163},\n",
            " {'link': 'https://github.com/NixOS/patchelf',\n",
            "  'title': 'PatchELF: Simple utility for modifying existing ELF executables '\n",
            "           'and libraries',\n",
            "  'votes': 146},\n",
            " {'link': 'https://www.economist.com/leaders/2021/05/08/the-digital-currencies-that-matter',\n",
            "  'title': 'The digital currencies that matter',\n",
            "  'votes': 135},\n",
            " {'link': 'https://rjlipton.wpcomstaging.com/2021/05/05/how-to-teach-math/',\n",
            "  'title': 'How to Teach Math?',\n",
            "  'votes': 105}]\n"
          ],
          "name": "stdout"
        }
      ]
    },
    {
      "cell_type": "code",
      "metadata": {
        "id": "kIsJ1ojiju3i"
      },
      "source": [
        ""
      ],
      "execution_count": null,
      "outputs": []
    },
    {
      "cell_type": "code",
      "metadata": {
        "id": "-dAUXJ1Hju0i"
      },
      "source": [
        ""
      ],
      "execution_count": null,
      "outputs": []
    }
  ]
}