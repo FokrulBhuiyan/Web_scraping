{
  "nbformat": 4,
  "nbformat_minor": 0,
  "metadata": {
    "colab": {
      "name": "title from multi urls p-7.ipynb",
      "provenance": []
    },
    "kernelspec": {
      "name": "python3",
      "display_name": "Python 3"
    },
    "language_info": {
      "name": "python"
    }
  },
  "cells": [
    {
      "cell_type": "markdown",
      "metadata": {
        "id": "i1XJchDT1HEc"
      },
      "source": [
        "## scrape multiple url's title\n",
        "- random url for began: https://12695.portal.athenahealth.com/\n",
        "- get the title"
      ]
    },
    {
      "cell_type": "markdown",
      "metadata": {
        "id": "qXunGIj11HBa"
      },
      "source": [
        "## Page load with lib\n",
        "- get the page with `request`\n",
        "- Use `Bs4` for webpage Process\n",
        "- Collect the info\n",
        "- Create the func\n",
        "- Create `CSV` with that info"
      ]
    },
    {
      "cell_type": "code",
      "metadata": {
        "id": "DctkKVxx1iMR"
      },
      "source": [
        "import requests\n",
        "from bs4 import BeautifulSoup\n",
        "import pandas as pd"
      ],
      "execution_count": 1,
      "outputs": []
    },
    {
      "cell_type": "code",
      "metadata": {
        "id": "4aGlDzC01iJe"
      },
      "source": [
        "url = 'https://12695.portal.athenahealth.com/'\n",
        "resp = requests.get(url)\n",
        "soup = BeautifulSoup(resp.text,'html.parser')\n",
        "clinic_name = soup.find_all('h1')[-1].text"
      ],
      "execution_count": 2,
      "outputs": []
    },
    {
      "cell_type": "code",
      "metadata": {
        "id": "H2OpPaua1iDk"
      },
      "source": [
        "def get_clinic_name(clinic_id):\n",
        "    url = f'https://{clinic_id}.portal.athenahealth.com/'\n",
        "    resp = requests.get(url)\n",
        "    soup = BeautifulSoup(resp.text,'html.parser')\n",
        "    clinic_name = soup.find_all('h1')[-1].text.strip()\n",
        "    return clinic_name"
      ],
      "execution_count": 3,
      "outputs": []
    },
    {
      "cell_type": "code",
      "metadata": {
        "id": "6zONxlvNyLFn"
      },
      "source": [
        "start = 12690\n",
        "end = 12710"
      ],
      "execution_count": 4,
      "outputs": []
    },
    {
      "cell_type": "code",
      "metadata": {
        "id": "xr4Kh4So1iAs",
        "colab": {
          "base_uri": "https://localhost:8080/"
        },
        "outputId": "84066583-590a-47b4-d70f-c19c45fdf5db"
      },
      "source": [
        "clinic_list = []\n",
        "for clinic_id in range(start, end):\n",
        "    print(clinic_id)\n",
        "    data_dict = {}\n",
        "    data_dict['clinic_id'] = clinic_id\n",
        "    data_dict['clinic_name'] = get_clinic_name(clinic_id)\n",
        "    if data_dict['clinic_name'] != 'Payment Confirmation' and data_dict['clinic_name'] != \"Sorry, we can't find that practice. Make sure you typed the right address.\":\n",
        "        clinic_list.append(data_dict)"
      ],
      "execution_count": 5,
      "outputs": [
        {
          "output_type": "stream",
          "text": [
            "12690\n",
            "12691\n",
            "12692\n",
            "12693\n",
            "12694\n",
            "12695\n",
            "12696\n",
            "12697\n",
            "12698\n",
            "12699\n",
            "12700\n",
            "12701\n",
            "12702\n",
            "12703\n",
            "12704\n",
            "12705\n",
            "12706\n",
            "12707\n",
            "12708\n",
            "12709\n"
          ],
          "name": "stdout"
        }
      ]
    },
    {
      "cell_type": "code",
      "metadata": {
        "id": "1H3qbNMw1h91",
        "colab": {
          "base_uri": "https://localhost:8080/",
          "height": 486
        },
        "outputId": "4c51d757-af00-4331-a83e-800946d9fd98"
      },
      "source": [
        "pd.DataFrame(clinic_list)"
      ],
      "execution_count": 7,
      "outputs": [
        {
          "output_type": "execute_result",
          "data": {
            "text/html": [
              "<div>\n",
              "<style scoped>\n",
              "    .dataframe tbody tr th:only-of-type {\n",
              "        vertical-align: middle;\n",
              "    }\n",
              "\n",
              "    .dataframe tbody tr th {\n",
              "        vertical-align: top;\n",
              "    }\n",
              "\n",
              "    .dataframe thead th {\n",
              "        text-align: right;\n",
              "    }\n",
              "</style>\n",
              "<table border=\"1\" class=\"dataframe\">\n",
              "  <thead>\n",
              "    <tr style=\"text-align: right;\">\n",
              "      <th></th>\n",
              "      <th>clinic_id</th>\n",
              "      <th>clinic_name</th>\n",
              "    </tr>\n",
              "  </thead>\n",
              "  <tbody>\n",
              "    <tr>\n",
              "      <th>0</th>\n",
              "      <td>12691</td>\n",
              "      <td>Ergomedica</td>\n",
              "    </tr>\n",
              "    <tr>\n",
              "      <th>1</th>\n",
              "      <td>12693</td>\n",
              "      <td>Altamonte Family Practice</td>\n",
              "    </tr>\n",
              "    <tr>\n",
              "      <th>2</th>\n",
              "      <td>12694</td>\n",
              "      <td>Open Health Care Clinic</td>\n",
              "    </tr>\n",
              "    <tr>\n",
              "      <th>3</th>\n",
              "      <td>12695</td>\n",
              "      <td>Dr. Richard Handelsman</td>\n",
              "    </tr>\n",
              "    <tr>\n",
              "      <th>4</th>\n",
              "      <td>12696</td>\n",
              "      <td>Women's CenterforIntegrative Health</td>\n",
              "    </tr>\n",
              "    <tr>\n",
              "      <th>5</th>\n",
              "      <td>12697</td>\n",
              "      <td>Eastern Urological Associates</td>\n",
              "    </tr>\n",
              "    <tr>\n",
              "      <th>6</th>\n",
              "      <td>12702</td>\n",
              "      <td>Chand Rohatgi MD</td>\n",
              "    </tr>\n",
              "    <tr>\n",
              "      <th>7</th>\n",
              "      <td>12703</td>\n",
              "      <td></td>\n",
              "    </tr>\n",
              "    <tr>\n",
              "      <th>8</th>\n",
              "      <td>12704</td>\n",
              "      <td>Volunteer Healthcare Clinic</td>\n",
              "    </tr>\n",
              "    <tr>\n",
              "      <th>9</th>\n",
              "      <td>12705</td>\n",
              "      <td>Christ Clinic</td>\n",
              "    </tr>\n",
              "    <tr>\n",
              "      <th>10</th>\n",
              "      <td>12706</td>\n",
              "      <td>Olga Joukovski, MD, PA</td>\n",
              "    </tr>\n",
              "    <tr>\n",
              "      <th>11</th>\n",
              "      <td>12707</td>\n",
              "      <td>Restore Health Clinic</td>\n",
              "    </tr>\n",
              "    <tr>\n",
              "      <th>12</th>\n",
              "      <td>12708</td>\n",
              "      <td>STUART L. SILVERMAN, M.D., A MEDICAL CORPORATION</td>\n",
              "    </tr>\n",
              "    <tr>\n",
              "      <th>13</th>\n",
              "      <td>12709</td>\n",
              "      <td>George E. Weems Clinics</td>\n",
              "    </tr>\n",
              "  </tbody>\n",
              "</table>\n",
              "</div>"
            ],
            "text/plain": [
              "    clinic_id                                       clinic_name\n",
              "0       12691                                        Ergomedica\n",
              "1       12693                         Altamonte Family Practice\n",
              "2       12694                           Open Health Care Clinic\n",
              "3       12695                            Dr. Richard Handelsman\n",
              "4       12696               Women's CenterforIntegrative Health\n",
              "5       12697                     Eastern Urological Associates\n",
              "6       12702                                  Chand Rohatgi MD\n",
              "7       12703                                                  \n",
              "8       12704                       Volunteer Healthcare Clinic\n",
              "9       12705                                     Christ Clinic\n",
              "10      12706                            Olga Joukovski, MD, PA\n",
              "11      12707                             Restore Health Clinic\n",
              "12      12708  STUART L. SILVERMAN, M.D., A MEDICAL CORPORATION\n",
              "13      12709                           George E. Weems Clinics"
            ]
          },
          "metadata": {
            "tags": []
          },
          "execution_count": 7
        }
      ]
    },
    {
      "cell_type": "code",
      "metadata": {
        "id": "2002gNdD1h6z"
      },
      "source": [
        ""
      ],
      "execution_count": 6,
      "outputs": []
    },
    {
      "cell_type": "code",
      "metadata": {
        "id": "z49JzYVebrdb"
      },
      "source": [
        ""
      ],
      "execution_count": 6,
      "outputs": []
    },
    {
      "cell_type": "code",
      "metadata": {
        "id": "RqZrvDmhvCcr"
      },
      "source": [
        ""
      ],
      "execution_count": 6,
      "outputs": []
    },
    {
      "cell_type": "code",
      "metadata": {
        "id": "XIQaZmsxvCW5"
      },
      "source": [
        ""
      ],
      "execution_count": 6,
      "outputs": []
    }
  ]
}