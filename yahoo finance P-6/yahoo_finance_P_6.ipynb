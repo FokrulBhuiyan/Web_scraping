{
  "nbformat": 4,
  "nbformat_minor": 0,
  "metadata": {
    "colab": {
      "name": "yahoo_finance_P-6.ipynb",
      "provenance": []
    },
    "kernelspec": {
      "name": "python3",
      "display_name": "Python 3"
    },
    "language_info": {
      "name": "python"
    }
  },
  "cells": [
    {
      "cell_type": "markdown",
      "metadata": {
        "id": "tZ6QVS53KsvF"
      },
      "source": [
        "## yahoo finance scrape\n",
        "- source link: https://finance.yahoo.com/quote/AAPL/key-statistics?p=AAPL&guccounter=1\n",
        "- apply on Apple Inc. (AAPL)\n",
        "- get finance, profile, statistic, historical data"
      ]
    },
    {
      "cell_type": "markdown",
      "metadata": {
        "id": "njcQ0JtOKsr9"
      },
      "source": [
        "## Page load with lib\n",
        "- get the page with `request`\n",
        "- Use `Bs4` for webpage Process\n",
        "- Collect the info\n",
        "- Create the func\n",
        "- Create `CSV` with that info"
      ]
    },
    {
      "cell_type": "code",
      "metadata": {
        "id": "5D8B59yHHmZX"
      },
      "source": [
        "import re\n",
        "import json\n",
        "import requests\n",
        "from bs4 import BeautifulSoup\n",
        "import pandas as pd\n",
        "from io import StringIO\n",
        "import csv"
      ],
      "execution_count": null,
      "outputs": []
    },
    {
      "cell_type": "markdown",
      "metadata": {
        "id": "URCkadgwldEt"
      },
      "source": [
        "## finanace Data"
      ]
    },
    {
      "cell_type": "code",
      "metadata": {
        "id": "insqbsazLe6X"
      },
      "source": [
        "stats_url = 'https://finance.yahoo.com/quote/{}/key-statistics?p={}'\n",
        "profile_url = 'https://finance.yahoo.com/quote/{}/profile?p={}'\n",
        "financ_url = 'https://finance.yahoo.com/quote/{}/financials?p={}'"
      ],
      "execution_count": null,
      "outputs": []
    },
    {
      "cell_type": "code",
      "metadata": {
        "id": "UOPVApRwMmpd"
      },
      "source": [
        "stock_name = 'AAPL'"
      ],
      "execution_count": null,
      "outputs": []
    },
    {
      "cell_type": "code",
      "metadata": {
        "colab": {
          "base_uri": "https://localhost:8080/"
        },
        "id": "mRFVQVceMmmp",
        "outputId": "37d103d4-7796-4f06-e042-0320e9df1537"
      },
      "source": [
        "resp = requests.get(financ_url.format(stock_name,stock_name))\n",
        "resp.status_code"
      ],
      "execution_count": null,
      "outputs": [
        {
          "output_type": "execute_result",
          "data": {
            "text/plain": [
              "200"
            ]
          },
          "metadata": {
            "tags": []
          },
          "execution_count": 4
        }
      ]
    },
    {
      "cell_type": "code",
      "metadata": {
        "id": "PB--6gA9Mmj9"
      },
      "source": [
        "html_doc = BeautifulSoup(resp.text, 'html.parser')"
      ],
      "execution_count": null,
      "outputs": []
    },
    {
      "cell_type": "code",
      "metadata": {
        "id": "lXx6o2nWN-1_"
      },
      "source": [
        "pattern = re.compile(r'\\s--\\sData\\s--\\s')\n",
        "script_data = html_doc.find('script',text=pattern).contents[0]"
      ],
      "execution_count": null,
      "outputs": []
    },
    {
      "cell_type": "code",
      "metadata": {
        "id": "NtZM5kbgN-y9"
      },
      "source": [
        "start = script_data.find('context')-2"
      ],
      "execution_count": null,
      "outputs": []
    },
    {
      "cell_type": "code",
      "metadata": {
        "id": "d86s1JGaN-v8"
      },
      "source": [
        "json_data = json.loads(script_data[start:-12])"
      ],
      "execution_count": null,
      "outputs": []
    },
    {
      "cell_type": "code",
      "metadata": {
        "colab": {
          "base_uri": "https://localhost:8080/"
        },
        "id": "kB9HFpBNMmeb",
        "outputId": "73771e8f-7966-446c-daee-70ded40baacd"
      },
      "source": [
        "json_data['context'].keys()"
      ],
      "execution_count": null,
      "outputs": [
        {
          "output_type": "execute_result",
          "data": {
            "text/plain": [
              "dict_keys(['dispatcher', 'options', 'plugins'])"
            ]
          },
          "metadata": {
            "tags": []
          },
          "execution_count": 9
        }
      ]
    },
    {
      "cell_type": "code",
      "metadata": {
        "id": "dgqnPzXUMmZS"
      },
      "source": [
        "annual_is = json_data['context']['dispatcher']['stores']['QuoteSummaryStore']['incomeStatementHistory']['incomeStatementHistory']\n",
        "quarterly_is = json_data['context']['dispatcher']['stores']['QuoteSummaryStore']['incomeStatementHistoryQuarterly']['incomeStatementHistory']\n",
        "\n",
        "annual_cf = json_data['context']['dispatcher']['stores']['QuoteSummaryStore']['cashflowStatementHistory']['cashflowStatements']\n",
        "quarterly_cf = json_data['context']['dispatcher']['stores']['QuoteSummaryStore']['cashflowStatementHistoryQuarterly']['cashflowStatements']\n",
        "\n",
        "annunal_bs = json_data['context']['dispatcher']['stores']['QuoteSummaryStore']['balanceSheetHistory']['balanceSheetStatements']\n",
        "quarterly_bs = json_data['context']['dispatcher']['stores']['QuoteSummaryStore']['balanceSheetHistoryQuarterly']['balanceSheetStatements']"
      ],
      "execution_count": null,
      "outputs": []
    },
    {
      "cell_type": "code",
      "metadata": {
        "id": "BZhk7nTpYoSK"
      },
      "source": [
        "annual_is[0]"
      ],
      "execution_count": null,
      "outputs": []
    },
    {
      "cell_type": "code",
      "metadata": {
        "colab": {
          "base_uri": "https://localhost:8080/"
        },
        "id": "m9daSuLsYoPC",
        "outputId": "4e1ce1b3-14fe-40af-d8a8-013937948948"
      },
      "source": [
        "annual_is[0]['operatingIncome']"
      ],
      "execution_count": null,
      "outputs": [
        {
          "output_type": "execute_result",
          "data": {
            "text/plain": [
              "{'fmt': '66.29B', 'longFmt': '66,288,000,000', 'raw': 66288000000}"
            ]
          },
          "metadata": {
            "tags": []
          },
          "execution_count": 12
        }
      ]
    },
    {
      "cell_type": "code",
      "metadata": {
        "id": "7cYLiO0LYoMO"
      },
      "source": [
        "annual_is_stmts = []\n",
        "quarterly_cf_stmts = []\n",
        "\n",
        "for ai in annual_is:\n",
        "    statement = {}\n",
        "    for key, val in ai.items():\n",
        "        try:\n",
        "            statement[key] = val['raw']\n",
        "        except TypeError:\n",
        "            continue\n",
        "        except KeyError:\n",
        "            continue\n",
        "    annual_is_stmts.append(statement)\n",
        "\n",
        "for qc in quarterly_cf:\n",
        "    statement = {}\n",
        "    for key, val in qc.items():\n",
        "        try:\n",
        "            statement[key] = val['raw']\n",
        "        except TypeError:\n",
        "            continue\n",
        "        except KeyError:\n",
        "            continue\n",
        "    quarterly_cf_stmts.append(statement)\n"
      ],
      "execution_count": null,
      "outputs": []
    },
    {
      "cell_type": "code",
      "metadata": {
        "id": "X5n6I0MhYoJW"
      },
      "source": [
        "quarterly_cf_stmts[0]"
      ],
      "execution_count": null,
      "outputs": []
    },
    {
      "cell_type": "markdown",
      "metadata": {
        "id": "YsofXy6omwVg"
      },
      "source": [
        "## profile Data"
      ]
    },
    {
      "cell_type": "code",
      "metadata": {
        "id": "DaDolibzMmWM"
      },
      "source": [
        "resp = requests.get(profile_url.format(stock_name,stock_name))\n",
        "html_doc = BeautifulSoup(resp.text, 'html.parser')\n",
        "pattern = re.compile(r'\\s--\\sData\\s--\\s')\n",
        "script_data = html_doc.find('script',text=pattern).contents[0]\n",
        "start = script_data.find('context')-2\n",
        "json_data = json.loads(script_data[start:-12])"
      ],
      "execution_count": null,
      "outputs": []
    },
    {
      "cell_type": "code",
      "metadata": {
        "colab": {
          "base_uri": "https://localhost:8080/"
        },
        "id": "Y0H717lGc05Y",
        "outputId": "2ac411cb-44bf-43c7-c416-4b9023f7a36c"
      },
      "source": [
        "json_data['context']['dispatcher']['stores']['QuoteSummaryStore']['summaryDetail'] .keys()"
      ],
      "execution_count": null,
      "outputs": [
        {
          "output_type": "execute_result",
          "data": {
            "text/plain": [
              "dict_keys(['previousClose', 'regularMarketOpen', 'twoHundredDayAverage', 'trailingAnnualDividendYield', 'payoutRatio', 'volume24Hr', 'regularMarketDayHigh', 'navPrice', 'averageDailyVolume10Day', 'totalAssets', 'regularMarketPreviousClose', 'fiftyDayAverage', 'trailingAnnualDividendRate', 'open', 'toCurrency', 'averageVolume10days', 'expireDate', 'yield', 'algorithm', 'dividendRate', 'exDividendDate', 'beta', 'circulatingSupply', 'startDate', 'regularMarketDayLow', 'priceHint', 'currency', 'trailingPE', 'regularMarketVolume', 'lastMarket', 'maxSupply', 'openInterest', 'marketCap', 'volumeAllCurrencies', 'strikePrice', 'averageVolume', 'priceToSalesTrailing12Months', 'dayLow', 'ask', 'ytdReturn', 'askSize', 'volume', 'fiftyTwoWeekHigh', 'forwardPE', 'maxAge', 'fromCurrency', 'fiveYearAvgDividendYield', 'fiftyTwoWeekLow', 'bid', 'tradeable', 'dividendYield', 'bidSize', 'dayHigh'])"
            ]
          },
          "metadata": {
            "tags": []
          },
          "execution_count": 24
        }
      ]
    },
    {
      "cell_type": "code",
      "metadata": {
        "id": "pLJqTB-wc6O1"
      },
      "source": [
        "json_data['context']['dispatcher']['stores']['QuoteSummaryStore']['summaryDetail']"
      ],
      "execution_count": null,
      "outputs": []
    },
    {
      "cell_type": "markdown",
      "metadata": {
        "id": "bN2PZjNHeGTI"
      },
      "source": [
        "## statistical Data"
      ]
    },
    {
      "cell_type": "code",
      "metadata": {
        "id": "hTwyzIFKdHm2"
      },
      "source": [
        "resp = requests.get(stats_url.format(stock_name,stock_name))\n",
        "html_doc = BeautifulSoup(resp.text, 'html.parser')\n",
        "pattern = re.compile(r'\\s--\\sData\\s--\\s')\n",
        "script_data = html_doc.find('script',text=pattern).contents[0]\n",
        "start = script_data.find('context')-2\n",
        "json_data = json.loads(script_data[start:-12])"
      ],
      "execution_count": null,
      "outputs": []
    },
    {
      "cell_type": "code",
      "metadata": {
        "colab": {
          "base_uri": "https://localhost:8080/"
        },
        "id": "wBfCoeX4dHkA",
        "outputId": "e073d6d8-beb1-4763-93a8-89d1e6c51036"
      },
      "source": [
        "json_data['context']['dispatcher']['stores']['QuoteSummaryStore'] .keys()"
      ],
      "execution_count": null,
      "outputs": [
        {
          "output_type": "execute_result",
          "data": {
            "text/plain": [
              "dict_keys(['defaultKeyStatistics', 'financialsTemplate', 'price', 'financialData', 'quoteType', 'calendarEvents', 'summaryDetail', 'symbol', 'pageViews'])"
            ]
          },
          "metadata": {
            "tags": []
          },
          "execution_count": 27
        }
      ]
    },
    {
      "cell_type": "code",
      "metadata": {
        "colab": {
          "base_uri": "https://localhost:8080/"
        },
        "id": "lLJBGI88dHg6",
        "outputId": "51c9a3b8-c16d-4c2e-d5db-cf0f89a89bba"
      },
      "source": [
        "json_data['context']['dispatcher']['stores']['QuoteSummaryStore']['defaultKeyStatistics']"
      ],
      "execution_count": null,
      "outputs": [
        {
          "output_type": "execute_result",
          "data": {
            "text/plain": [
              "{'52WeekChange': {'fmt': '62.45%', 'raw': 0.6245166},\n",
              " 'SandP52WeekChange': {'fmt': '43.61%', 'raw': 0.43607914},\n",
              " 'annualHoldingsTurnover': {},\n",
              " 'annualReportExpenseRatio': {},\n",
              " 'beta': {'fmt': '1.2', 'raw': 1.203743},\n",
              " 'beta3Year': {},\n",
              " 'bookValue': {'fmt': '4.15', 'raw': 4.146},\n",
              " 'category': None,\n",
              " 'dateShortInterest': {'fmt': '2021-04-30', 'raw': 1619740800},\n",
              " 'earningsQuarterlyGrowth': {'fmt': '110.10%', 'raw': 1.101},\n",
              " 'enterpriseToEbitda': {'fmt': '21.54', 'raw': 21.542},\n",
              " 'enterpriseToRevenue': {'fmt': '6.61', 'raw': 6.608},\n",
              " 'enterpriseValue': {'fmt': '2.15T',\n",
              "  'longFmt': '2,150,364,217,344',\n",
              "  'raw': 2150364217344},\n",
              " 'fiveYearAverageReturn': {},\n",
              " 'floatShares': {'fmt': '16.64B',\n",
              "  'longFmt': '16,642,574,396',\n",
              "  'raw': 16642574396},\n",
              " 'forwardEps': {'fmt': '5.34', 'raw': 5.34},\n",
              " 'forwardPE': {'fmt': '23.87', 'raw': 23.86704},\n",
              " 'fundFamily': None,\n",
              " 'fundInceptionDate': {},\n",
              " 'heldPercentInsiders': {'fmt': '0.07%', 'raw': 0.00066},\n",
              " 'heldPercentInstitutions': {'fmt': '59.76%', 'raw': 0.59761},\n",
              " 'impliedSharesOutstanding': {},\n",
              " 'lastCapGain': {},\n",
              " 'lastDividendDate': {'fmt': '2021-05-07', 'raw': 1620345600},\n",
              " 'lastDividendValue': {'fmt': '0.22', 'raw': 0.22},\n",
              " 'lastFiscalYearEnd': {'fmt': '2020-09-26', 'raw': 1601078400},\n",
              " 'lastSplitDate': {'fmt': '2020-08-31', 'raw': 1598832000},\n",
              " 'lastSplitFactor': '4:1',\n",
              " 'legalType': None,\n",
              " 'maxAge': 1,\n",
              " 'morningStarOverallRating': {},\n",
              " 'morningStarRiskRating': {},\n",
              " 'mostRecentQuarter': {'fmt': '2021-03-27', 'raw': 1616803200},\n",
              " 'netIncomeToCommon': {'fmt': '76.31B',\n",
              "  'longFmt': '76,311,003,136',\n",
              "  'raw': 76311003136},\n",
              " 'nextFiscalYearEnd': {'fmt': '2022-09-26', 'raw': 1664150400},\n",
              " 'pegRatio': {'fmt': '1.45', 'raw': 1.45},\n",
              " 'priceHint': {'fmt': '2', 'longFmt': '2', 'raw': 2},\n",
              " 'priceToBook': {'fmt': '30.74', 'raw': 30.740473},\n",
              " 'priceToSalesTrailing12Months': {},\n",
              " 'profitMargins': {'fmt': '23.45%', 'raw': 0.23451},\n",
              " 'revenueQuarterlyGrowth': {},\n",
              " 'sharesOutstanding': {'fmt': '16.69B',\n",
              "  'longFmt': '16,687,599,616',\n",
              "  'raw': 16687599616},\n",
              " 'sharesPercentSharesOut': {'fmt': '0.50%', 'raw': 0.005},\n",
              " 'sharesShort': {'fmt': '82.71M', 'longFmt': '82,710,348', 'raw': 82710348},\n",
              " 'sharesShortPreviousMonthDate': {'fmt': '2021-03-31', 'raw': 1617148800},\n",
              " 'sharesShortPriorMonth': {'fmt': '101.48M',\n",
              "  'longFmt': '101,484,668',\n",
              "  'raw': 101484668},\n",
              " 'shortPercentOfFloat': {'fmt': '0.50%', 'raw': 0.005},\n",
              " 'shortRatio': {'fmt': '0.91', 'raw': 0.91},\n",
              " 'threeYearAverageReturn': {},\n",
              " 'totalAssets': {},\n",
              " 'trailingEps': {'fmt': '4.45', 'raw': 4.449},\n",
              " 'yield': {},\n",
              " 'ytdReturn': {}}"
            ]
          },
          "metadata": {
            "tags": []
          },
          "execution_count": 28
        }
      ]
    },
    {
      "cell_type": "markdown",
      "metadata": {
        "id": "87Sqw6Wke91p"
      },
      "source": [
        "## Historical Stock Data"
      ]
    },
    {
      "cell_type": "code",
      "metadata": {
        "id": "kZjKuqC6dHeT"
      },
      "source": [
        "stock_url = 'https://query1.finance.yahoo.com/v7/finance/download/{}?' \n",
        "\n",
        "params = { 'period1' : '1589486594',\n",
        "          'period2' : '1621022594',\n",
        "          'interval' : '1d',\n",
        "          'events' : 'history',\n",
        "}"
      ],
      "execution_count": null,
      "outputs": []
    },
    {
      "cell_type": "code",
      "metadata": {
        "id": "mZqpIbk9gRmB"
      },
      "source": [
        "params = { 'range':'5y',\n",
        "          'interval' : '1d',\n",
        "          'events' : 'history',\n",
        "}"
      ],
      "execution_count": null,
      "outputs": []
    },
    {
      "cell_type": "code",
      "metadata": {
        "id": "HkoBrTCZdHbo"
      },
      "source": [
        "resp = requests.get(stock_url.format(stock_name),params=params)"
      ],
      "execution_count": null,
      "outputs": []
    },
    {
      "cell_type": "code",
      "metadata": {
        "id": "xq1DPRFwdHYZ"
      },
      "source": [
        "file = StringIO(resp.text)\n",
        "reader = csv.reader(file)\n",
        "data = list(reader)\n",
        "for row in data[:-5]:\n",
        "    print(row)"
      ],
      "execution_count": null,
      "outputs": []
    },
    {
      "cell_type": "code",
      "metadata": {
        "id": "ZOgjnx6IimXC"
      },
      "source": [
        "params = { 'range':'5y',\n",
        "          'interval' : '1wk',\n",
        "          'events' : 'history',\n",
        "}"
      ],
      "execution_count": null,
      "outputs": []
    },
    {
      "cell_type": "code",
      "metadata": {
        "id": "SY-K2gsYimT6"
      },
      "source": [
        "resp = requests.get(stock_url.format(stock_name),params=params)"
      ],
      "execution_count": null,
      "outputs": []
    },
    {
      "cell_type": "code",
      "metadata": {
        "colab": {
          "base_uri": "https://localhost:8080/"
        },
        "id": "zF5dPMqaimQ3",
        "outputId": "de9af44d-4ff0-4879-d906-f4ca556a11c1"
      },
      "source": [
        "file = StringIO(resp.text)\n",
        "reader = csv.reader(file)\n",
        "data = list(reader)\n",
        "for row in data[:5]:\n",
        "    print(row)"
      ],
      "execution_count": null,
      "outputs": [
        {
          "output_type": "stream",
          "text": [
            "['Date', 'Open', 'High', 'Low', 'Close', 'Adj Close', 'Volume']\n",
            "['2016-05-16', '23.097500', '23.857500', '22.912500', '23.805000', '22.238272', '850828800']\n",
            "['2016-05-23', '23.967501', '25.182501', '23.917500', '25.087500', '23.436363', '816000000']\n",
            "['2016-05-30', '24.900000', '25.100000', '24.157499', '24.480000', '22.868847', '560708000']\n",
            "['2016-06-06', '24.497499', '25.472500', '24.387501', '24.707500', '23.081377', '499457600']\n"
          ],
          "name": "stdout"
        }
      ]
    },
    {
      "cell_type": "code",
      "metadata": {
        "id": "H9bc-1Z9dHSt"
      },
      "source": [
        ""
      ],
      "execution_count": null,
      "outputs": []
    }
  ]
}